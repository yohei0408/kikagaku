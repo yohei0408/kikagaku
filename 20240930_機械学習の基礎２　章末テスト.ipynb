{
  "nbformat": 4,
  "nbformat_minor": 0,
  "metadata": {
    "colab": {
      "provenance": [],
      "authorship_tag": "ABX9TyMQBH6vuDXoeYnSHnR3g7tO",
      "include_colab_link": true
    },
    "kernelspec": {
      "name": "python3",
      "display_name": "Python 3"
    },
    "language_info": {
      "name": "python"
    }
  },
  "cells": [
    {
      "cell_type": "markdown",
      "metadata": {
        "id": "view-in-github",
        "colab_type": "text"
      },
      "source": [
        "<a href=\"https://colab.research.google.com/github/yohei0408/kikagaku/blob/main/20240930_%E6%A9%9F%E6%A2%B0%E5%AD%A6%E7%BF%92%E3%81%AE%E5%9F%BA%E7%A4%8E%EF%BC%92%E3%80%80%E7%AB%A0%E6%9C%AB%E3%83%86%E3%82%B9%E3%83%88.ipynb\" target=\"_parent\"><img src=\"https://colab.research.google.com/assets/colab-badge.svg\" alt=\"Open In Colab\"/></a>"
      ]
    },
    {
      "cell_type": "code",
      "execution_count": 1,
      "metadata": {
        "id": "twOT5y3YBirD"
      },
      "outputs": [],
      "source": [
        "import numpy as np\n",
        "import pandas as pd\n",
        "import matplotlib.pyplot as plt\n",
        "import seaborn as sns\n",
        "import warnings\n",
        "warnings.filterwarnings('ignore')"
      ]
    },
    {
      "cell_type": "code",
      "source": [
        "df = pd.read_csv('/content/creditcard_train.csv')"
      ],
      "metadata": {
        "id": "dgKih_7kCOW8"
      },
      "execution_count": 2,
      "outputs": []
    },
    {
      "cell_type": "code",
      "source": [
        "df.head()"
      ],
      "metadata": {
        "colab": {
          "base_uri": "https://localhost:8080/",
          "height": 253
        },
        "id": "xbf2nhErCULe",
        "outputId": "9ea384c3-817d-48a0-e126-a5332c6ed253"
      },
      "execution_count": 3,
      "outputs": [
        {
          "output_type": "execute_result",
          "data": {
            "text/plain": [
              "         V1        V2        V3        V4        V5        V6        V7  \\\n",
              "0 -8.367621  7.402969 -5.114191 -2.966792 -0.985904 -1.660018  0.397816   \n",
              "1 -1.290662  0.764452 -0.169233 -1.688528  1.984718 -0.717210  1.667635   \n",
              "2 -0.606860  0.233923  2.633361 -0.155762 -0.328850 -0.070593  0.173023   \n",
              "3  1.374168 -0.330389  0.812971 -0.183112 -1.074771 -0.933788 -0.544238   \n",
              "4 -2.146505 -7.603113 -4.928224  1.449173 -2.083871 -0.984759  3.629816   \n",
              "\n",
              "         V8        V9       V10  ...       V21       V22       V23       V24  \\\n",
              "0  1.008250  5.290976  9.315735  ... -0.557927  0.349087  0.301734  0.662330   \n",
              "1 -0.228295 -0.959071 -0.679429  ...  0.138615  0.390374 -0.678774  0.292254   \n",
              "2  0.113394  0.680147 -0.686651  ...  0.007393  0.265045 -0.040615  0.406088   \n",
              "3 -0.348237  0.614925  0.080408  ... -0.134742  0.016793  0.002610  0.714527   \n",
              "4 -1.302973 -1.434148 -0.021909  ...  1.274986 -0.857670 -2.109682  0.169338   \n",
              "\n",
              "        V25       V26       V27       V28   Amount  Class  \n",
              "0  1.145939 -0.012273  1.513736  0.669504     0.69      0  \n",
              "1  1.425865  0.265341  0.051405  0.103879    55.47      0  \n",
              "2 -0.498823  0.121851 -0.046840 -0.087259    11.50      0  \n",
              "3  0.536175 -0.307487 -0.003555  0.013024    10.00      0  \n",
              "4 -0.322888  0.777822 -0.552258  0.304777  2290.05      0  \n",
              "\n",
              "[5 rows x 30 columns]"
            ],
            "text/html": [
              "\n",
              "  <div id=\"df-5f6cb9a8-bc8e-4b25-87da-f385caf4b316\" class=\"colab-df-container\">\n",
              "    <div>\n",
              "<style scoped>\n",
              "    .dataframe tbody tr th:only-of-type {\n",
              "        vertical-align: middle;\n",
              "    }\n",
              "\n",
              "    .dataframe tbody tr th {\n",
              "        vertical-align: top;\n",
              "    }\n",
              "\n",
              "    .dataframe thead th {\n",
              "        text-align: right;\n",
              "    }\n",
              "</style>\n",
              "<table border=\"1\" class=\"dataframe\">\n",
              "  <thead>\n",
              "    <tr style=\"text-align: right;\">\n",
              "      <th></th>\n",
              "      <th>V1</th>\n",
              "      <th>V2</th>\n",
              "      <th>V3</th>\n",
              "      <th>V4</th>\n",
              "      <th>V5</th>\n",
              "      <th>V6</th>\n",
              "      <th>V7</th>\n",
              "      <th>V8</th>\n",
              "      <th>V9</th>\n",
              "      <th>V10</th>\n",
              "      <th>...</th>\n",
              "      <th>V21</th>\n",
              "      <th>V22</th>\n",
              "      <th>V23</th>\n",
              "      <th>V24</th>\n",
              "      <th>V25</th>\n",
              "      <th>V26</th>\n",
              "      <th>V27</th>\n",
              "      <th>V28</th>\n",
              "      <th>Amount</th>\n",
              "      <th>Class</th>\n",
              "    </tr>\n",
              "  </thead>\n",
              "  <tbody>\n",
              "    <tr>\n",
              "      <th>0</th>\n",
              "      <td>-8.367621</td>\n",
              "      <td>7.402969</td>\n",
              "      <td>-5.114191</td>\n",
              "      <td>-2.966792</td>\n",
              "      <td>-0.985904</td>\n",
              "      <td>-1.660018</td>\n",
              "      <td>0.397816</td>\n",
              "      <td>1.008250</td>\n",
              "      <td>5.290976</td>\n",
              "      <td>9.315735</td>\n",
              "      <td>...</td>\n",
              "      <td>-0.557927</td>\n",
              "      <td>0.349087</td>\n",
              "      <td>0.301734</td>\n",
              "      <td>0.662330</td>\n",
              "      <td>1.145939</td>\n",
              "      <td>-0.012273</td>\n",
              "      <td>1.513736</td>\n",
              "      <td>0.669504</td>\n",
              "      <td>0.69</td>\n",
              "      <td>0</td>\n",
              "    </tr>\n",
              "    <tr>\n",
              "      <th>1</th>\n",
              "      <td>-1.290662</td>\n",
              "      <td>0.764452</td>\n",
              "      <td>-0.169233</td>\n",
              "      <td>-1.688528</td>\n",
              "      <td>1.984718</td>\n",
              "      <td>-0.717210</td>\n",
              "      <td>1.667635</td>\n",
              "      <td>-0.228295</td>\n",
              "      <td>-0.959071</td>\n",
              "      <td>-0.679429</td>\n",
              "      <td>...</td>\n",
              "      <td>0.138615</td>\n",
              "      <td>0.390374</td>\n",
              "      <td>-0.678774</td>\n",
              "      <td>0.292254</td>\n",
              "      <td>1.425865</td>\n",
              "      <td>0.265341</td>\n",
              "      <td>0.051405</td>\n",
              "      <td>0.103879</td>\n",
              "      <td>55.47</td>\n",
              "      <td>0</td>\n",
              "    </tr>\n",
              "    <tr>\n",
              "      <th>2</th>\n",
              "      <td>-0.606860</td>\n",
              "      <td>0.233923</td>\n",
              "      <td>2.633361</td>\n",
              "      <td>-0.155762</td>\n",
              "      <td>-0.328850</td>\n",
              "      <td>-0.070593</td>\n",
              "      <td>0.173023</td>\n",
              "      <td>0.113394</td>\n",
              "      <td>0.680147</td>\n",
              "      <td>-0.686651</td>\n",
              "      <td>...</td>\n",
              "      <td>0.007393</td>\n",
              "      <td>0.265045</td>\n",
              "      <td>-0.040615</td>\n",
              "      <td>0.406088</td>\n",
              "      <td>-0.498823</td>\n",
              "      <td>0.121851</td>\n",
              "      <td>-0.046840</td>\n",
              "      <td>-0.087259</td>\n",
              "      <td>11.50</td>\n",
              "      <td>0</td>\n",
              "    </tr>\n",
              "    <tr>\n",
              "      <th>3</th>\n",
              "      <td>1.374168</td>\n",
              "      <td>-0.330389</td>\n",
              "      <td>0.812971</td>\n",
              "      <td>-0.183112</td>\n",
              "      <td>-1.074771</td>\n",
              "      <td>-0.933788</td>\n",
              "      <td>-0.544238</td>\n",
              "      <td>-0.348237</td>\n",
              "      <td>0.614925</td>\n",
              "      <td>0.080408</td>\n",
              "      <td>...</td>\n",
              "      <td>-0.134742</td>\n",
              "      <td>0.016793</td>\n",
              "      <td>0.002610</td>\n",
              "      <td>0.714527</td>\n",
              "      <td>0.536175</td>\n",
              "      <td>-0.307487</td>\n",
              "      <td>-0.003555</td>\n",
              "      <td>0.013024</td>\n",
              "      <td>10.00</td>\n",
              "      <td>0</td>\n",
              "    </tr>\n",
              "    <tr>\n",
              "      <th>4</th>\n",
              "      <td>-2.146505</td>\n",
              "      <td>-7.603113</td>\n",
              "      <td>-4.928224</td>\n",
              "      <td>1.449173</td>\n",
              "      <td>-2.083871</td>\n",
              "      <td>-0.984759</td>\n",
              "      <td>3.629816</td>\n",
              "      <td>-1.302973</td>\n",
              "      <td>-1.434148</td>\n",
              "      <td>-0.021909</td>\n",
              "      <td>...</td>\n",
              "      <td>1.274986</td>\n",
              "      <td>-0.857670</td>\n",
              "      <td>-2.109682</td>\n",
              "      <td>0.169338</td>\n",
              "      <td>-0.322888</td>\n",
              "      <td>0.777822</td>\n",
              "      <td>-0.552258</td>\n",
              "      <td>0.304777</td>\n",
              "      <td>2290.05</td>\n",
              "      <td>0</td>\n",
              "    </tr>\n",
              "  </tbody>\n",
              "</table>\n",
              "<p>5 rows × 30 columns</p>\n",
              "</div>\n",
              "    <div class=\"colab-df-buttons\">\n",
              "\n",
              "  <div class=\"colab-df-container\">\n",
              "    <button class=\"colab-df-convert\" onclick=\"convertToInteractive('df-5f6cb9a8-bc8e-4b25-87da-f385caf4b316')\"\n",
              "            title=\"Convert this dataframe to an interactive table.\"\n",
              "            style=\"display:none;\">\n",
              "\n",
              "  <svg xmlns=\"http://www.w3.org/2000/svg\" height=\"24px\" viewBox=\"0 -960 960 960\">\n",
              "    <path d=\"M120-120v-720h720v720H120Zm60-500h600v-160H180v160Zm220 220h160v-160H400v160Zm0 220h160v-160H400v160ZM180-400h160v-160H180v160Zm440 0h160v-160H620v160ZM180-180h160v-160H180v160Zm440 0h160v-160H620v160Z\"/>\n",
              "  </svg>\n",
              "    </button>\n",
              "\n",
              "  <style>\n",
              "    .colab-df-container {\n",
              "      display:flex;\n",
              "      gap: 12px;\n",
              "    }\n",
              "\n",
              "    .colab-df-convert {\n",
              "      background-color: #E8F0FE;\n",
              "      border: none;\n",
              "      border-radius: 50%;\n",
              "      cursor: pointer;\n",
              "      display: none;\n",
              "      fill: #1967D2;\n",
              "      height: 32px;\n",
              "      padding: 0 0 0 0;\n",
              "      width: 32px;\n",
              "    }\n",
              "\n",
              "    .colab-df-convert:hover {\n",
              "      background-color: #E2EBFA;\n",
              "      box-shadow: 0px 1px 2px rgba(60, 64, 67, 0.3), 0px 1px 3px 1px rgba(60, 64, 67, 0.15);\n",
              "      fill: #174EA6;\n",
              "    }\n",
              "\n",
              "    .colab-df-buttons div {\n",
              "      margin-bottom: 4px;\n",
              "    }\n",
              "\n",
              "    [theme=dark] .colab-df-convert {\n",
              "      background-color: #3B4455;\n",
              "      fill: #D2E3FC;\n",
              "    }\n",
              "\n",
              "    [theme=dark] .colab-df-convert:hover {\n",
              "      background-color: #434B5C;\n",
              "      box-shadow: 0px 1px 3px 1px rgba(0, 0, 0, 0.15);\n",
              "      filter: drop-shadow(0px 1px 2px rgba(0, 0, 0, 0.3));\n",
              "      fill: #FFFFFF;\n",
              "    }\n",
              "  </style>\n",
              "\n",
              "    <script>\n",
              "      const buttonEl =\n",
              "        document.querySelector('#df-5f6cb9a8-bc8e-4b25-87da-f385caf4b316 button.colab-df-convert');\n",
              "      buttonEl.style.display =\n",
              "        google.colab.kernel.accessAllowed ? 'block' : 'none';\n",
              "\n",
              "      async function convertToInteractive(key) {\n",
              "        const element = document.querySelector('#df-5f6cb9a8-bc8e-4b25-87da-f385caf4b316');\n",
              "        const dataTable =\n",
              "          await google.colab.kernel.invokeFunction('convertToInteractive',\n",
              "                                                    [key], {});\n",
              "        if (!dataTable) return;\n",
              "\n",
              "        const docLinkHtml = 'Like what you see? Visit the ' +\n",
              "          '<a target=\"_blank\" href=https://colab.research.google.com/notebooks/data_table.ipynb>data table notebook</a>'\n",
              "          + ' to learn more about interactive tables.';\n",
              "        element.innerHTML = '';\n",
              "        dataTable['output_type'] = 'display_data';\n",
              "        await google.colab.output.renderOutput(dataTable, element);\n",
              "        const docLink = document.createElement('div');\n",
              "        docLink.innerHTML = docLinkHtml;\n",
              "        element.appendChild(docLink);\n",
              "      }\n",
              "    </script>\n",
              "  </div>\n",
              "\n",
              "\n",
              "<div id=\"df-dbcf4b6d-b5a2-4420-8ecb-4750308f7e49\">\n",
              "  <button class=\"colab-df-quickchart\" onclick=\"quickchart('df-dbcf4b6d-b5a2-4420-8ecb-4750308f7e49')\"\n",
              "            title=\"Suggest charts\"\n",
              "            style=\"display:none;\">\n",
              "\n",
              "<svg xmlns=\"http://www.w3.org/2000/svg\" height=\"24px\"viewBox=\"0 0 24 24\"\n",
              "     width=\"24px\">\n",
              "    <g>\n",
              "        <path d=\"M19 3H5c-1.1 0-2 .9-2 2v14c0 1.1.9 2 2 2h14c1.1 0 2-.9 2-2V5c0-1.1-.9-2-2-2zM9 17H7v-7h2v7zm4 0h-2V7h2v10zm4 0h-2v-4h2v4z\"/>\n",
              "    </g>\n",
              "</svg>\n",
              "  </button>\n",
              "\n",
              "<style>\n",
              "  .colab-df-quickchart {\n",
              "      --bg-color: #E8F0FE;\n",
              "      --fill-color: #1967D2;\n",
              "      --hover-bg-color: #E2EBFA;\n",
              "      --hover-fill-color: #174EA6;\n",
              "      --disabled-fill-color: #AAA;\n",
              "      --disabled-bg-color: #DDD;\n",
              "  }\n",
              "\n",
              "  [theme=dark] .colab-df-quickchart {\n",
              "      --bg-color: #3B4455;\n",
              "      --fill-color: #D2E3FC;\n",
              "      --hover-bg-color: #434B5C;\n",
              "      --hover-fill-color: #FFFFFF;\n",
              "      --disabled-bg-color: #3B4455;\n",
              "      --disabled-fill-color: #666;\n",
              "  }\n",
              "\n",
              "  .colab-df-quickchart {\n",
              "    background-color: var(--bg-color);\n",
              "    border: none;\n",
              "    border-radius: 50%;\n",
              "    cursor: pointer;\n",
              "    display: none;\n",
              "    fill: var(--fill-color);\n",
              "    height: 32px;\n",
              "    padding: 0;\n",
              "    width: 32px;\n",
              "  }\n",
              "\n",
              "  .colab-df-quickchart:hover {\n",
              "    background-color: var(--hover-bg-color);\n",
              "    box-shadow: 0 1px 2px rgba(60, 64, 67, 0.3), 0 1px 3px 1px rgba(60, 64, 67, 0.15);\n",
              "    fill: var(--button-hover-fill-color);\n",
              "  }\n",
              "\n",
              "  .colab-df-quickchart-complete:disabled,\n",
              "  .colab-df-quickchart-complete:disabled:hover {\n",
              "    background-color: var(--disabled-bg-color);\n",
              "    fill: var(--disabled-fill-color);\n",
              "    box-shadow: none;\n",
              "  }\n",
              "\n",
              "  .colab-df-spinner {\n",
              "    border: 2px solid var(--fill-color);\n",
              "    border-color: transparent;\n",
              "    border-bottom-color: var(--fill-color);\n",
              "    animation:\n",
              "      spin 1s steps(1) infinite;\n",
              "  }\n",
              "\n",
              "  @keyframes spin {\n",
              "    0% {\n",
              "      border-color: transparent;\n",
              "      border-bottom-color: var(--fill-color);\n",
              "      border-left-color: var(--fill-color);\n",
              "    }\n",
              "    20% {\n",
              "      border-color: transparent;\n",
              "      border-left-color: var(--fill-color);\n",
              "      border-top-color: var(--fill-color);\n",
              "    }\n",
              "    30% {\n",
              "      border-color: transparent;\n",
              "      border-left-color: var(--fill-color);\n",
              "      border-top-color: var(--fill-color);\n",
              "      border-right-color: var(--fill-color);\n",
              "    }\n",
              "    40% {\n",
              "      border-color: transparent;\n",
              "      border-right-color: var(--fill-color);\n",
              "      border-top-color: var(--fill-color);\n",
              "    }\n",
              "    60% {\n",
              "      border-color: transparent;\n",
              "      border-right-color: var(--fill-color);\n",
              "    }\n",
              "    80% {\n",
              "      border-color: transparent;\n",
              "      border-right-color: var(--fill-color);\n",
              "      border-bottom-color: var(--fill-color);\n",
              "    }\n",
              "    90% {\n",
              "      border-color: transparent;\n",
              "      border-bottom-color: var(--fill-color);\n",
              "    }\n",
              "  }\n",
              "</style>\n",
              "\n",
              "  <script>\n",
              "    async function quickchart(key) {\n",
              "      const quickchartButtonEl =\n",
              "        document.querySelector('#' + key + ' button');\n",
              "      quickchartButtonEl.disabled = true;  // To prevent multiple clicks.\n",
              "      quickchartButtonEl.classList.add('colab-df-spinner');\n",
              "      try {\n",
              "        const charts = await google.colab.kernel.invokeFunction(\n",
              "            'suggestCharts', [key], {});\n",
              "      } catch (error) {\n",
              "        console.error('Error during call to suggestCharts:', error);\n",
              "      }\n",
              "      quickchartButtonEl.classList.remove('colab-df-spinner');\n",
              "      quickchartButtonEl.classList.add('colab-df-quickchart-complete');\n",
              "    }\n",
              "    (() => {\n",
              "      let quickchartButtonEl =\n",
              "        document.querySelector('#df-dbcf4b6d-b5a2-4420-8ecb-4750308f7e49 button');\n",
              "      quickchartButtonEl.style.display =\n",
              "        google.colab.kernel.accessAllowed ? 'block' : 'none';\n",
              "    })();\n",
              "  </script>\n",
              "</div>\n",
              "\n",
              "    </div>\n",
              "  </div>\n"
            ],
            "application/vnd.google.colaboratory.intrinsic+json": {
              "type": "dataframe",
              "variable_name": "df"
            }
          },
          "metadata": {},
          "execution_count": 3
        }
      ]
    },
    {
      "cell_type": "code",
      "source": [
        "df.shape"
      ],
      "metadata": {
        "colab": {
          "base_uri": "https://localhost:8080/"
        },
        "id": "6ktebnKPCasm",
        "outputId": "fc2e4aca-f63f-48db-856e-64f3079eafdd"
      },
      "execution_count": 4,
      "outputs": [
        {
          "output_type": "execute_result",
          "data": {
            "text/plain": [
              "(199364, 30)"
            ]
          },
          "metadata": {},
          "execution_count": 4
        }
      ]
    },
    {
      "cell_type": "code",
      "source": [
        "df.duplicated(keep = False).value_counts()"
      ],
      "metadata": {
        "colab": {
          "base_uri": "https://localhost:8080/",
          "height": 145
        },
        "id": "8S9ZZvbYCdF3",
        "outputId": "a1851ebf-8c48-451c-dc4a-26f32032663f"
      },
      "execution_count": 7,
      "outputs": [
        {
          "output_type": "execute_result",
          "data": {
            "text/plain": [
              "False    191085\n",
              "True       8279\n",
              "Name: count, dtype: int64"
            ],
            "text/html": [
              "<div>\n",
              "<style scoped>\n",
              "    .dataframe tbody tr th:only-of-type {\n",
              "        vertical-align: middle;\n",
              "    }\n",
              "\n",
              "    .dataframe tbody tr th {\n",
              "        vertical-align: top;\n",
              "    }\n",
              "\n",
              "    .dataframe thead th {\n",
              "        text-align: right;\n",
              "    }\n",
              "</style>\n",
              "<table border=\"1\" class=\"dataframe\">\n",
              "  <thead>\n",
              "    <tr style=\"text-align: right;\">\n",
              "      <th></th>\n",
              "      <th>count</th>\n",
              "    </tr>\n",
              "  </thead>\n",
              "  <tbody>\n",
              "    <tr>\n",
              "      <th>False</th>\n",
              "      <td>191085</td>\n",
              "    </tr>\n",
              "    <tr>\n",
              "      <th>True</th>\n",
              "      <td>8279</td>\n",
              "    </tr>\n",
              "  </tbody>\n",
              "</table>\n",
              "</div><br><label><b>dtype:</b> int64</label>"
            ]
          },
          "metadata": {},
          "execution_count": 7
        }
      ]
    },
    {
      "cell_type": "code",
      "source": [
        "df_2 = df.drop_duplicates()\n",
        "df_2.duplicated(keep=False).value_counts()"
      ],
      "metadata": {
        "colab": {
          "base_uri": "https://localhost:8080/",
          "height": 114
        },
        "id": "TGMCPvq8Ciwf",
        "outputId": "580696f9-4b42-4189-bcc8-153a01c6ca45"
      },
      "execution_count": 8,
      "outputs": [
        {
          "output_type": "execute_result",
          "data": {
            "text/plain": [
              "False    194131\n",
              "Name: count, dtype: int64"
            ],
            "text/html": [
              "<div>\n",
              "<style scoped>\n",
              "    .dataframe tbody tr th:only-of-type {\n",
              "        vertical-align: middle;\n",
              "    }\n",
              "\n",
              "    .dataframe tbody tr th {\n",
              "        vertical-align: top;\n",
              "    }\n",
              "\n",
              "    .dataframe thead th {\n",
              "        text-align: right;\n",
              "    }\n",
              "</style>\n",
              "<table border=\"1\" class=\"dataframe\">\n",
              "  <thead>\n",
              "    <tr style=\"text-align: right;\">\n",
              "      <th></th>\n",
              "      <th>count</th>\n",
              "    </tr>\n",
              "  </thead>\n",
              "  <tbody>\n",
              "    <tr>\n",
              "      <th>False</th>\n",
              "      <td>194131</td>\n",
              "    </tr>\n",
              "  </tbody>\n",
              "</table>\n",
              "</div><br><label><b>dtype:</b> int64</label>"
            ]
          },
          "metadata": {},
          "execution_count": 8
        }
      ]
    },
    {
      "cell_type": "code",
      "source": [
        "# 'Class' 列の 0 と 1 の数をカウント\n",
        "class_counts = df_2['Class'].value_counts()\n",
        "\n",
        "# 結果を表示\n",
        "print(class_counts)\n"
      ],
      "metadata": {
        "colab": {
          "base_uri": "https://localhost:8080/"
        },
        "id": "Nur-IDPAC6Uq",
        "outputId": "659716e7-1d37-46c5-c090-688c2b0de626"
      },
      "execution_count": 11,
      "outputs": [
        {
          "output_type": "stream",
          "name": "stdout",
          "text": [
            "Class\n",
            "0    193799\n",
            "1       332\n",
            "Name: count, dtype: int64\n"
          ]
        }
      ]
    },
    {
      "cell_type": "code",
      "source": [
        "class_counts.get(0,0) / class_counts.get(1,0)"
      ],
      "metadata": {
        "colab": {
          "base_uri": "https://localhost:8080/"
        },
        "id": "mTYpYeiTD0v_",
        "outputId": "94a51408-ea36-49d7-d71e-2fe42b5e0b9b"
      },
      "execution_count": 12,
      "outputs": [
        {
          "output_type": "execute_result",
          "data": {
            "text/plain": [
              "583.7319277108434"
            ]
          },
          "metadata": {},
          "execution_count": 12
        }
      ]
    },
    {
      "cell_type": "code",
      "source": [
        "x_train = df_2.drop('Class', axis = 1).values\n",
        "t_train = df_2['Class'].values\n",
        "from sklearn.ensemble import RandomForestClassifier\n",
        "random = RandomForestClassifier(random_state=0)\n",
        "random.fit(x_train,t_train)\n",
        "print(random.score(x_train,t_train))"
      ],
      "metadata": {
        "colab": {
          "base_uri": "https://localhost:8080/"
        },
        "id": "MDhBP1xREI6Q",
        "outputId": "5e2f0049-a492-4b2a-9d4a-db5f6675150c"
      },
      "execution_count": 26,
      "outputs": [
        {
          "output_type": "stream",
          "name": "stdout",
          "text": [
            "1.0\n"
          ]
        }
      ]
    },
    {
      "cell_type": "code",
      "source": [
        "test = pd.read_csv('/content/creditcard_test.csv')\n",
        "test.head()"
      ],
      "metadata": {
        "colab": {
          "base_uri": "https://localhost:8080/",
          "height": 253
        },
        "id": "X_QUCcMiYbao",
        "outputId": "c8c68565-0f57-4af4-b43a-f08bfe8164ee"
      },
      "execution_count": 19,
      "outputs": [
        {
          "output_type": "execute_result",
          "data": {
            "text/plain": [
              "         V1        V2        V3        V4        V5        V6        V7  \\\n",
              "0  0.101337  0.665808 -0.514168 -0.675752  1.087999 -0.681790  0.877323   \n",
              "1 -1.678212  1.244794  0.947874 -2.101099 -0.811015 -1.037444  0.144664   \n",
              "2 -1.407998 -0.094725  1.218361 -1.884626  0.639017 -1.127801  0.537467   \n",
              "3  2.025163 -1.001783 -0.855068 -0.506527 -0.793876 -0.197866 -0.779789   \n",
              "4  0.477071 -1.295023  0.586617  1.599474 -1.215659  0.114858 -0.178181   \n",
              "\n",
              "         V8        V9       V10  ...       V21       V22       V23       V24  \\\n",
              "0 -0.096356  0.265313 -1.297842  ...  0.114197  0.500593 -0.066669  0.558720   \n",
              "1  0.465090 -1.137320  0.847260  ... -0.383548 -0.581462  0.033139  0.483823   \n",
              "2 -0.295973 -1.670308  0.022252  ...  0.295294  0.836930 -0.367286  0.157457   \n",
              "3  0.032557 -0.357041  1.015046  ... -0.298900 -0.427423  0.298094  0.747735   \n",
              "4  0.090062  0.944582 -0.207109  ...  0.299761  0.114989 -0.461395 -0.122341   \n",
              "\n",
              "        V25       V26       V27       V28  Amount  Class  \n",
              "0 -0.518068  0.367070  0.079707  0.131678   12.50      0  \n",
              "1 -0.039289  0.078483  0.486383  0.291222   10.00      0  \n",
              "2  0.840789 -0.160280 -0.210861  0.103780   29.95      0  \n",
              "3 -0.426508  0.500501 -0.051892 -0.048338   50.27      0  \n",
              "4  0.381628 -0.245921 -0.013775  0.092648  380.00      0  \n",
              "\n",
              "[5 rows x 30 columns]"
            ],
            "text/html": [
              "\n",
              "  <div id=\"df-599781b6-7fc0-4c51-b55b-7e75401e8eeb\" class=\"colab-df-container\">\n",
              "    <div>\n",
              "<style scoped>\n",
              "    .dataframe tbody tr th:only-of-type {\n",
              "        vertical-align: middle;\n",
              "    }\n",
              "\n",
              "    .dataframe tbody tr th {\n",
              "        vertical-align: top;\n",
              "    }\n",
              "\n",
              "    .dataframe thead th {\n",
              "        text-align: right;\n",
              "    }\n",
              "</style>\n",
              "<table border=\"1\" class=\"dataframe\">\n",
              "  <thead>\n",
              "    <tr style=\"text-align: right;\">\n",
              "      <th></th>\n",
              "      <th>V1</th>\n",
              "      <th>V2</th>\n",
              "      <th>V3</th>\n",
              "      <th>V4</th>\n",
              "      <th>V5</th>\n",
              "      <th>V6</th>\n",
              "      <th>V7</th>\n",
              "      <th>V8</th>\n",
              "      <th>V9</th>\n",
              "      <th>V10</th>\n",
              "      <th>...</th>\n",
              "      <th>V21</th>\n",
              "      <th>V22</th>\n",
              "      <th>V23</th>\n",
              "      <th>V24</th>\n",
              "      <th>V25</th>\n",
              "      <th>V26</th>\n",
              "      <th>V27</th>\n",
              "      <th>V28</th>\n",
              "      <th>Amount</th>\n",
              "      <th>Class</th>\n",
              "    </tr>\n",
              "  </thead>\n",
              "  <tbody>\n",
              "    <tr>\n",
              "      <th>0</th>\n",
              "      <td>0.101337</td>\n",
              "      <td>0.665808</td>\n",
              "      <td>-0.514168</td>\n",
              "      <td>-0.675752</td>\n",
              "      <td>1.087999</td>\n",
              "      <td>-0.681790</td>\n",
              "      <td>0.877323</td>\n",
              "      <td>-0.096356</td>\n",
              "      <td>0.265313</td>\n",
              "      <td>-1.297842</td>\n",
              "      <td>...</td>\n",
              "      <td>0.114197</td>\n",
              "      <td>0.500593</td>\n",
              "      <td>-0.066669</td>\n",
              "      <td>0.558720</td>\n",
              "      <td>-0.518068</td>\n",
              "      <td>0.367070</td>\n",
              "      <td>0.079707</td>\n",
              "      <td>0.131678</td>\n",
              "      <td>12.50</td>\n",
              "      <td>0</td>\n",
              "    </tr>\n",
              "    <tr>\n",
              "      <th>1</th>\n",
              "      <td>-1.678212</td>\n",
              "      <td>1.244794</td>\n",
              "      <td>0.947874</td>\n",
              "      <td>-2.101099</td>\n",
              "      <td>-0.811015</td>\n",
              "      <td>-1.037444</td>\n",
              "      <td>0.144664</td>\n",
              "      <td>0.465090</td>\n",
              "      <td>-1.137320</td>\n",
              "      <td>0.847260</td>\n",
              "      <td>...</td>\n",
              "      <td>-0.383548</td>\n",
              "      <td>-0.581462</td>\n",
              "      <td>0.033139</td>\n",
              "      <td>0.483823</td>\n",
              "      <td>-0.039289</td>\n",
              "      <td>0.078483</td>\n",
              "      <td>0.486383</td>\n",
              "      <td>0.291222</td>\n",
              "      <td>10.00</td>\n",
              "      <td>0</td>\n",
              "    </tr>\n",
              "    <tr>\n",
              "      <th>2</th>\n",
              "      <td>-1.407998</td>\n",
              "      <td>-0.094725</td>\n",
              "      <td>1.218361</td>\n",
              "      <td>-1.884626</td>\n",
              "      <td>0.639017</td>\n",
              "      <td>-1.127801</td>\n",
              "      <td>0.537467</td>\n",
              "      <td>-0.295973</td>\n",
              "      <td>-1.670308</td>\n",
              "      <td>0.022252</td>\n",
              "      <td>...</td>\n",
              "      <td>0.295294</td>\n",
              "      <td>0.836930</td>\n",
              "      <td>-0.367286</td>\n",
              "      <td>0.157457</td>\n",
              "      <td>0.840789</td>\n",
              "      <td>-0.160280</td>\n",
              "      <td>-0.210861</td>\n",
              "      <td>0.103780</td>\n",
              "      <td>29.95</td>\n",
              "      <td>0</td>\n",
              "    </tr>\n",
              "    <tr>\n",
              "      <th>3</th>\n",
              "      <td>2.025163</td>\n",
              "      <td>-1.001783</td>\n",
              "      <td>-0.855068</td>\n",
              "      <td>-0.506527</td>\n",
              "      <td>-0.793876</td>\n",
              "      <td>-0.197866</td>\n",
              "      <td>-0.779789</td>\n",
              "      <td>0.032557</td>\n",
              "      <td>-0.357041</td>\n",
              "      <td>1.015046</td>\n",
              "      <td>...</td>\n",
              "      <td>-0.298900</td>\n",
              "      <td>-0.427423</td>\n",
              "      <td>0.298094</td>\n",
              "      <td>0.747735</td>\n",
              "      <td>-0.426508</td>\n",
              "      <td>0.500501</td>\n",
              "      <td>-0.051892</td>\n",
              "      <td>-0.048338</td>\n",
              "      <td>50.27</td>\n",
              "      <td>0</td>\n",
              "    </tr>\n",
              "    <tr>\n",
              "      <th>4</th>\n",
              "      <td>0.477071</td>\n",
              "      <td>-1.295023</td>\n",
              "      <td>0.586617</td>\n",
              "      <td>1.599474</td>\n",
              "      <td>-1.215659</td>\n",
              "      <td>0.114858</td>\n",
              "      <td>-0.178181</td>\n",
              "      <td>0.090062</td>\n",
              "      <td>0.944582</td>\n",
              "      <td>-0.207109</td>\n",
              "      <td>...</td>\n",
              "      <td>0.299761</td>\n",
              "      <td>0.114989</td>\n",
              "      <td>-0.461395</td>\n",
              "      <td>-0.122341</td>\n",
              "      <td>0.381628</td>\n",
              "      <td>-0.245921</td>\n",
              "      <td>-0.013775</td>\n",
              "      <td>0.092648</td>\n",
              "      <td>380.00</td>\n",
              "      <td>0</td>\n",
              "    </tr>\n",
              "  </tbody>\n",
              "</table>\n",
              "<p>5 rows × 30 columns</p>\n",
              "</div>\n",
              "    <div class=\"colab-df-buttons\">\n",
              "\n",
              "  <div class=\"colab-df-container\">\n",
              "    <button class=\"colab-df-convert\" onclick=\"convertToInteractive('df-599781b6-7fc0-4c51-b55b-7e75401e8eeb')\"\n",
              "            title=\"Convert this dataframe to an interactive table.\"\n",
              "            style=\"display:none;\">\n",
              "\n",
              "  <svg xmlns=\"http://www.w3.org/2000/svg\" height=\"24px\" viewBox=\"0 -960 960 960\">\n",
              "    <path d=\"M120-120v-720h720v720H120Zm60-500h600v-160H180v160Zm220 220h160v-160H400v160Zm0 220h160v-160H400v160ZM180-400h160v-160H180v160Zm440 0h160v-160H620v160ZM180-180h160v-160H180v160Zm440 0h160v-160H620v160Z\"/>\n",
              "  </svg>\n",
              "    </button>\n",
              "\n",
              "  <style>\n",
              "    .colab-df-container {\n",
              "      display:flex;\n",
              "      gap: 12px;\n",
              "    }\n",
              "\n",
              "    .colab-df-convert {\n",
              "      background-color: #E8F0FE;\n",
              "      border: none;\n",
              "      border-radius: 50%;\n",
              "      cursor: pointer;\n",
              "      display: none;\n",
              "      fill: #1967D2;\n",
              "      height: 32px;\n",
              "      padding: 0 0 0 0;\n",
              "      width: 32px;\n",
              "    }\n",
              "\n",
              "    .colab-df-convert:hover {\n",
              "      background-color: #E2EBFA;\n",
              "      box-shadow: 0px 1px 2px rgba(60, 64, 67, 0.3), 0px 1px 3px 1px rgba(60, 64, 67, 0.15);\n",
              "      fill: #174EA6;\n",
              "    }\n",
              "\n",
              "    .colab-df-buttons div {\n",
              "      margin-bottom: 4px;\n",
              "    }\n",
              "\n",
              "    [theme=dark] .colab-df-convert {\n",
              "      background-color: #3B4455;\n",
              "      fill: #D2E3FC;\n",
              "    }\n",
              "\n",
              "    [theme=dark] .colab-df-convert:hover {\n",
              "      background-color: #434B5C;\n",
              "      box-shadow: 0px 1px 3px 1px rgba(0, 0, 0, 0.15);\n",
              "      filter: drop-shadow(0px 1px 2px rgba(0, 0, 0, 0.3));\n",
              "      fill: #FFFFFF;\n",
              "    }\n",
              "  </style>\n",
              "\n",
              "    <script>\n",
              "      const buttonEl =\n",
              "        document.querySelector('#df-599781b6-7fc0-4c51-b55b-7e75401e8eeb button.colab-df-convert');\n",
              "      buttonEl.style.display =\n",
              "        google.colab.kernel.accessAllowed ? 'block' : 'none';\n",
              "\n",
              "      async function convertToInteractive(key) {\n",
              "        const element = document.querySelector('#df-599781b6-7fc0-4c51-b55b-7e75401e8eeb');\n",
              "        const dataTable =\n",
              "          await google.colab.kernel.invokeFunction('convertToInteractive',\n",
              "                                                    [key], {});\n",
              "        if (!dataTable) return;\n",
              "\n",
              "        const docLinkHtml = 'Like what you see? Visit the ' +\n",
              "          '<a target=\"_blank\" href=https://colab.research.google.com/notebooks/data_table.ipynb>data table notebook</a>'\n",
              "          + ' to learn more about interactive tables.';\n",
              "        element.innerHTML = '';\n",
              "        dataTable['output_type'] = 'display_data';\n",
              "        await google.colab.output.renderOutput(dataTable, element);\n",
              "        const docLink = document.createElement('div');\n",
              "        docLink.innerHTML = docLinkHtml;\n",
              "        element.appendChild(docLink);\n",
              "      }\n",
              "    </script>\n",
              "  </div>\n",
              "\n",
              "\n",
              "<div id=\"df-cfc8dedc-4b09-426b-a61a-c64335d2b78e\">\n",
              "  <button class=\"colab-df-quickchart\" onclick=\"quickchart('df-cfc8dedc-4b09-426b-a61a-c64335d2b78e')\"\n",
              "            title=\"Suggest charts\"\n",
              "            style=\"display:none;\">\n",
              "\n",
              "<svg xmlns=\"http://www.w3.org/2000/svg\" height=\"24px\"viewBox=\"0 0 24 24\"\n",
              "     width=\"24px\">\n",
              "    <g>\n",
              "        <path d=\"M19 3H5c-1.1 0-2 .9-2 2v14c0 1.1.9 2 2 2h14c1.1 0 2-.9 2-2V5c0-1.1-.9-2-2-2zM9 17H7v-7h2v7zm4 0h-2V7h2v10zm4 0h-2v-4h2v4z\"/>\n",
              "    </g>\n",
              "</svg>\n",
              "  </button>\n",
              "\n",
              "<style>\n",
              "  .colab-df-quickchart {\n",
              "      --bg-color: #E8F0FE;\n",
              "      --fill-color: #1967D2;\n",
              "      --hover-bg-color: #E2EBFA;\n",
              "      --hover-fill-color: #174EA6;\n",
              "      --disabled-fill-color: #AAA;\n",
              "      --disabled-bg-color: #DDD;\n",
              "  }\n",
              "\n",
              "  [theme=dark] .colab-df-quickchart {\n",
              "      --bg-color: #3B4455;\n",
              "      --fill-color: #D2E3FC;\n",
              "      --hover-bg-color: #434B5C;\n",
              "      --hover-fill-color: #FFFFFF;\n",
              "      --disabled-bg-color: #3B4455;\n",
              "      --disabled-fill-color: #666;\n",
              "  }\n",
              "\n",
              "  .colab-df-quickchart {\n",
              "    background-color: var(--bg-color);\n",
              "    border: none;\n",
              "    border-radius: 50%;\n",
              "    cursor: pointer;\n",
              "    display: none;\n",
              "    fill: var(--fill-color);\n",
              "    height: 32px;\n",
              "    padding: 0;\n",
              "    width: 32px;\n",
              "  }\n",
              "\n",
              "  .colab-df-quickchart:hover {\n",
              "    background-color: var(--hover-bg-color);\n",
              "    box-shadow: 0 1px 2px rgba(60, 64, 67, 0.3), 0 1px 3px 1px rgba(60, 64, 67, 0.15);\n",
              "    fill: var(--button-hover-fill-color);\n",
              "  }\n",
              "\n",
              "  .colab-df-quickchart-complete:disabled,\n",
              "  .colab-df-quickchart-complete:disabled:hover {\n",
              "    background-color: var(--disabled-bg-color);\n",
              "    fill: var(--disabled-fill-color);\n",
              "    box-shadow: none;\n",
              "  }\n",
              "\n",
              "  .colab-df-spinner {\n",
              "    border: 2px solid var(--fill-color);\n",
              "    border-color: transparent;\n",
              "    border-bottom-color: var(--fill-color);\n",
              "    animation:\n",
              "      spin 1s steps(1) infinite;\n",
              "  }\n",
              "\n",
              "  @keyframes spin {\n",
              "    0% {\n",
              "      border-color: transparent;\n",
              "      border-bottom-color: var(--fill-color);\n",
              "      border-left-color: var(--fill-color);\n",
              "    }\n",
              "    20% {\n",
              "      border-color: transparent;\n",
              "      border-left-color: var(--fill-color);\n",
              "      border-top-color: var(--fill-color);\n",
              "    }\n",
              "    30% {\n",
              "      border-color: transparent;\n",
              "      border-left-color: var(--fill-color);\n",
              "      border-top-color: var(--fill-color);\n",
              "      border-right-color: var(--fill-color);\n",
              "    }\n",
              "    40% {\n",
              "      border-color: transparent;\n",
              "      border-right-color: var(--fill-color);\n",
              "      border-top-color: var(--fill-color);\n",
              "    }\n",
              "    60% {\n",
              "      border-color: transparent;\n",
              "      border-right-color: var(--fill-color);\n",
              "    }\n",
              "    80% {\n",
              "      border-color: transparent;\n",
              "      border-right-color: var(--fill-color);\n",
              "      border-bottom-color: var(--fill-color);\n",
              "    }\n",
              "    90% {\n",
              "      border-color: transparent;\n",
              "      border-bottom-color: var(--fill-color);\n",
              "    }\n",
              "  }\n",
              "</style>\n",
              "\n",
              "  <script>\n",
              "    async function quickchart(key) {\n",
              "      const quickchartButtonEl =\n",
              "        document.querySelector('#' + key + ' button');\n",
              "      quickchartButtonEl.disabled = true;  // To prevent multiple clicks.\n",
              "      quickchartButtonEl.classList.add('colab-df-spinner');\n",
              "      try {\n",
              "        const charts = await google.colab.kernel.invokeFunction(\n",
              "            'suggestCharts', [key], {});\n",
              "      } catch (error) {\n",
              "        console.error('Error during call to suggestCharts:', error);\n",
              "      }\n",
              "      quickchartButtonEl.classList.remove('colab-df-spinner');\n",
              "      quickchartButtonEl.classList.add('colab-df-quickchart-complete');\n",
              "    }\n",
              "    (() => {\n",
              "      let quickchartButtonEl =\n",
              "        document.querySelector('#df-cfc8dedc-4b09-426b-a61a-c64335d2b78e button');\n",
              "      quickchartButtonEl.style.display =\n",
              "        google.colab.kernel.accessAllowed ? 'block' : 'none';\n",
              "    })();\n",
              "  </script>\n",
              "</div>\n",
              "\n",
              "    </div>\n",
              "  </div>\n"
            ],
            "application/vnd.google.colaboratory.intrinsic+json": {
              "type": "dataframe",
              "variable_name": "test"
            }
          },
          "metadata": {},
          "execution_count": 19
        }
      ]
    },
    {
      "cell_type": "code",
      "source": [
        "x_test = test.drop('Class', axis = 1).values\n",
        "t_test = test['Class'].values\n",
        "print(random.score(x_test,t_test))"
      ],
      "metadata": {
        "colab": {
          "base_uri": "https://localhost:8080/"
        },
        "id": "JKdyibleZq11",
        "outputId": "01567742-c171-4432-9600-3e980e418d22"
      },
      "execution_count": 25,
      "outputs": [
        {
          "output_type": "stream",
          "name": "stdout",
          "text": [
            "0.9994175265084875\n"
          ]
        }
      ]
    },
    {
      "cell_type": "code",
      "source": [
        "# モデルの検証\n",
        "print(random.score(x_train, t_train))\n",
        "print(random.score(x_test, t_test))\n"
      ],
      "metadata": {
        "colab": {
          "base_uri": "https://localhost:8080/"
        },
        "id": "gE77xLV3dfZV",
        "outputId": "16135960-c5c2-4b1c-e940-bead55f3cd90"
      },
      "execution_count": 28,
      "outputs": [
        {
          "output_type": "stream",
          "name": "stdout",
          "text": [
            "1.0\n",
            "0.9994175265084875\n"
          ]
        }
      ]
    },
    {
      "cell_type": "code",
      "source": [
        "y_pred = random.predict(x_test)\n",
        "from sklearn import metrics\n",
        "labels = list(set(t))\n",
        "c_matrix = metrics.confusion_matrix(t_test, y_pred, labels=labels)\n",
        "c_matrix"
      ],
      "metadata": {
        "colab": {
          "base_uri": "https://localhost:8080/"
        },
        "id": "AIQePNoxbImM",
        "outputId": "2cb7f3fe-65c5-405d-f7af-79e41514ed41"
      },
      "execution_count": 29,
      "outputs": [
        {
          "output_type": "execute_result",
          "data": {
            "text/plain": [
              "array([[83971,     6],\n",
              "       [   43,   104]])"
            ]
          },
          "metadata": {},
          "execution_count": 29
        }
      ]
    },
    {
      "cell_type": "code",
      "source": [
        "precision = metrics.precision_score(t_test, y_pred, average=None)\n",
        "recall = metrics.recall_score(t_test, y_pred, average=None)\n",
        "f1 = metrics.f1_score(t_test, y_pred, average=None)\n",
        "print('precision: ', precision)\n",
        "print('recall: ', recall)\n",
        "print('f1: ', f1)"
      ],
      "metadata": {
        "colab": {
          "base_uri": "https://localhost:8080/"
        },
        "id": "FWYJcIxtcYBt",
        "outputId": "f1149156-1c69-4b66-cb58-d4f5a636d86c"
      },
      "execution_count": 30,
      "outputs": [
        {
          "output_type": "stream",
          "name": "stdout",
          "text": [
            "precision:  [0.99948818 0.94545455]\n",
            "recall:  [0.99992855 0.70748299]\n",
            "f1:  [0.99970832 0.80933852]\n"
          ]
        }
      ]
    },
    {
      "cell_type": "code",
      "source": [
        "precision, recall, f1_score, total = metrics.precision_recall_fscore_support(t_test, y_pred)"
      ],
      "metadata": {
        "id": "R-XQhW1Ff7To"
      },
      "execution_count": 31,
      "outputs": []
    },
    {
      "cell_type": "code",
      "source": [
        "# ヒートマップで可視化\n",
        "df_total = pd.DataFrame(\n",
        "    np.array([total, precision, recall, f1_score]),\n",
        "    index=['Total', 'Precision', 'Recall', 'F1_score'],\n",
        "    columns=['Label 0','Label 1']\n",
        ")\n",
        "\n",
        "plt.figure(figsize=(10, 7))\n",
        "sns.heatmap(df_total, annot=True, fmt='.0f', cmap='Blues');\n"
      ],
      "metadata": {
        "colab": {
          "base_uri": "https://localhost:8080/",
          "height": 599
        },
        "id": "5IIKUMw6gkRk",
        "outputId": "b903f581-4f24-4fa3-9429-c6675d60fc92"
      },
      "execution_count": 32,
      "outputs": [
        {
          "output_type": "display_data",
          "data": {
            "text/plain": [
              "<Figure size 1000x700 with 2 Axes>"
            ],
            "image/png": "[encoded data removed]"
          },
          "metadata": {}
        }
      ]
    },
    {
      "cell_type": "code",
      "source": [
        "y_proba  = random.predict_proba(x_test)\n",
        "\n",
        "y_proba[0]"
      ],
      "metadata": {
        "colab": {
          "base_uri": "https://localhost:8080/"
        },
        "id": "SPWl8fKIgm-E",
        "outputId": "0dd4de81-eec9-4a76-fc13-c2f6e49c92ad"
      },
      "execution_count": 71,
      "outputs": [
        {
          "output_type": "execute_result",
          "data": {
            "text/plain": [
              "array([0.72, 0.28])"
            ]
          },
          "metadata": {},
          "execution_count": 71
        }
      ]
    },
    {
      "cell_type": "code",
      "source": [
        "sns.distplot(y_proba[:, 1])\n",
        "sns.distplot(y_proba[:, 0])\n",
        "plt.xlabel('Probability')\n",
        "plt.ylabel('Count')"
      ],
      "metadata": {
        "colab": {
          "base_uri": "https://localhost:8080/",
          "height": 466
        },
        "id": "dzZ92lvxh7H2",
        "outputId": "42362ad0-4459-4ad1-efd3-31026f606f87"
      },
      "execution_count": 72,
      "outputs": [
        {
          "output_type": "execute_result",
          "data": {
            "text/plain": [
              "Text(0, 0.5, 'Count')"
            ]
          },
          "metadata": {},
          "execution_count": 72
        },
        {
          "output_type": "display_data",
          "data": {
            "text/plain": [
              "<Figure size 640x480 with 1 Axes>"
            ],
            "image/png": "[encoded data removed]"
          },
          "metadata": {}
        }
      ]
    },
    {
      "cell_type": "code",
      "source": [
        "sns.distplot(y_proba[:, 1])\n",
        "# 横軸の範囲を指定\n",
        "plt.xlim(-0.025, 0.025)  # 例: 0から1の範囲\n",
        "\n",
        "# グラフを表示\n",
        "plt.show()"
      ],
      "metadata": {
        "colab": {
          "base_uri": "https://localhost:8080/",
          "height": 431
        },
        "id": "-irW2uN6iEwQ",
        "outputId": "6f4fe5eb-6d4c-4ac9-a108-c6a8f8448379"
      },
      "execution_count": 39,
      "outputs": [
        {
          "output_type": "display_data",
          "data": {
            "text/plain": [
              "<Figure size 640x480 with 1 Axes>"
            ],
            "image/png": "[encoded data removed]"
          },
          "metadata": {}
        }
      ]
    },
    {
      "cell_type": "code",
      "source": [
        "sns.distplot(y_proba[:, 0])"
      ],
      "metadata": {
        "colab": {
          "base_uri": "https://localhost:8080/",
          "height": 448
        },
        "id": "QIjMKx3BiSzq",
        "outputId": "39d9521c-056c-4ef0-f212-377225a72b73"
      },
      "execution_count": 36,
      "outputs": [
        {
          "output_type": "execute_result",
          "data": {
            "text/plain": [
              "<Axes: ylabel='Density'>"
            ]
          },
          "metadata": {},
          "execution_count": 36
        },
        {
          "output_type": "display_data",
          "data": {
            "text/plain": [
              "<Figure size 640x480 with 1 Axes>"
            ],
            "image/png": "[encoded data removed]"
          },
          "metadata": {}
        }
      ]
    },
    {
      "cell_type": "code",
      "source": [
        "y_pred = (y_proba[:,1] > 0.2).astype('i')\n",
        "precision = metrics.precision_score(t_test, y_pred, average=None)\n",
        "recall = metrics.recall_score(t_test, y_pred, average=None)\n",
        "f1 = metrics.f1_score(t_test, y_pred, average=None)\n",
        "print('precision: ', precision)\n",
        "print('recall: ', recall)\n",
        "print('f1: ', f1)"
      ],
      "metadata": {
        "colab": {
          "base_uri": "https://localhost:8080/"
        },
        "id": "xOCnV4dLiXZS",
        "outputId": "a6ad3234-32c6-4a2b-a42f-6e6073f8b59d"
      },
      "execution_count": 57,
      "outputs": [
        {
          "output_type": "stream",
          "name": "stdout",
          "text": [
            "precision:  [0.99964281 0.86666667]\n",
            "recall:  [0.99978566 0.79591837]\n",
            "f1:  [0.99971423 0.82978723]\n"
          ]
        }
      ]
    },
    {
      "cell_type": "code",
      "source": [
        "y_pred = (y_proba[:,0] > 0.1).astype('i')\n",
        "precision = metrics.precision_score(t_test, y_pred, average=None)\n",
        "recall = metrics.recall_score(t_test, y_pred, average=None)\n",
        "f1 = metrics.f1_score(t_test, y_pred, average=None)\n",
        "print('precision: ', precision)\n",
        "print('recall: ', recall)\n",
        "print('f1: ', f1)"
      ],
      "metadata": {
        "colab": {
          "base_uri": "https://localhost:8080/"
        },
        "id": "U9We8VzojgrO",
        "outputId": "d2651fe6-5900-4c95-d5b5-b823acf55e43"
      },
      "execution_count": 50,
      "outputs": [
        {
          "output_type": "stream",
          "name": "stdout",
          "text": [
            "precision:  [0.         0.00103493]\n",
            "recall:  [0.         0.59183673]\n",
            "f1:  [0.         0.00206624]\n"
          ]
        }
      ]
    },
    {
      "cell_type": "code",
      "source": [
        "# class_weight='balanced'の場合\n",
        "random_w = RandomForestClassifier(random_state=0, class_weight='balanced')\n",
        "random_w.fit(x_train, t_train)\n",
        "print(random_w.score(x_train, t_train))\n",
        "print(random_w.score(x_test, t_test))"
      ],
      "metadata": {
        "colab": {
          "base_uri": "https://localhost:8080/"
        },
        "id": "4sQ3l2sXltD_",
        "outputId": "c00cb811-260c-4224-b126-1cdedfc58602"
      },
      "execution_count": 74,
      "outputs": [
        {
          "output_type": "stream",
          "name": "stdout",
          "text": [
            "1.0\n",
            "0.9994650753649374\n"
          ]
        }
      ]
    },
    {
      "cell_type": "code",
      "source": [
        "y_pred = random_w.predict(x_test)\n",
        "y_proba  = random_w.predict_proba(x_test)\n",
        "y_pred = (y_proba[:,1] > 0.5).astype('i')\n",
        "precision = metrics.precision_score(t_test, y_pred, average=None)\n",
        "recall = metrics.recall_score(t_test, y_pred, average=None)\n",
        "f1 = metrics.f1_score(t_test, y_pred, average=None)\n",
        "print('precision: ', precision)\n",
        "print('recall: ', recall)\n",
        "print('f1: ', f1)"
      ],
      "metadata": {
        "colab": {
          "base_uri": "https://localhost:8080/"
        },
        "id": "2Y6hscvBnE_5",
        "outputId": "4dd9f7b1-de08-458b-e4f6-0da826d0c3f3"
      },
      "execution_count": 75,
      "outputs": [
        {
          "output_type": "stream",
          "name": "stdout",
          "text": [
            "precision:  [0.99952388 0.95535714]\n",
            "recall:  [0.99994046 0.72789116]\n",
            "f1:  [0.99973213 0.82625483]\n"
          ]
        }
      ]
    },
    {
      "cell_type": "code",
      "source": [
        "# ダウンサンプリングの場合\n",
        "from imblearn.under_sampling import RandomUnderSampler\n",
        "rus = RandomUnderSampler(random_state=0)\n",
        "x_train_rus, t_train_rus = rus.fit_resample(x_train, t_train)\n",
        "np.unique(t_train, return_counts=True)"
      ],
      "metadata": {
        "colab": {
          "base_uri": "https://localhost:8080/"
        },
        "id": "lAvVV1CLoIoj",
        "outputId": "0054528e-1ed4-4ea3-a403-013b0290dc24"
      },
      "execution_count": 68,
      "outputs": [
        {
          "output_type": "execute_result",
          "data": {
            "text/plain": [
              "(array([0, 1]), array([193799,    332]))"
            ]
          },
          "metadata": {},
          "execution_count": 68
        }
      ]
    },
    {
      "cell_type": "code",
      "source": [
        "np.unique(t_train_rus, return_counts=True)"
      ],
      "metadata": {
        "colab": {
          "base_uri": "https://localhost:8080/"
        },
        "id": "1wswH_VMpVSN",
        "outputId": "9491dcc3-069d-4e7b-ec8f-7fa2dfa395b4"
      },
      "execution_count": 69,
      "outputs": [
        {
          "output_type": "execute_result",
          "data": {
            "text/plain": [
              "(array([0, 1]), array([332, 332]))"
            ]
          },
          "metadata": {},
          "execution_count": 69
        }
      ]
    },
    {
      "cell_type": "code",
      "source": [
        "random = RandomForestClassifier(random_state=0)\n",
        "random.fit(x_train_rus, t_train_rus)\n",
        "y_pred = random.predict(x_test)\n",
        "y_proba  = random.predict_proba(x_test)\n",
        "y_pred = (y_proba[:,1] > 0.5).astype('i')\n",
        "precision = metrics.precision_score(t_test, y_pred, average=None)\n",
        "recall = metrics.recall_score(t_test, y_pred, average=None)\n",
        "f1 = metrics.f1_score(t_test, y_pred, average=None)\n",
        "print('precision: ', precision)\n",
        "print('recall: ', recall)\n",
        "print('f1: ', f1)"
      ],
      "metadata": {
        "colab": {
          "base_uri": "https://localhost:8080/"
        },
        "id": "h1Zta0x6pc5D",
        "outputId": "074a82ef-4ff0-4e27-8f1c-915a550fb5f4"
      },
      "execution_count": 73,
      "outputs": [
        {
          "output_type": "stream",
          "name": "stdout",
          "text": [
            "precision:  [0.99979135 0.04913076]\n",
            "recall:  [0.97003942 0.88435374]\n",
            "f1:  [0.9846907  0.09308987]\n"
          ]
        }
      ]
    },
    {
      "cell_type": "code",
      "source": [
        "# Over sampling\n",
        "from imblearn.over_sampling import SMOTE\n",
        "smote = SMOTE()\n",
        "x_train_smote, t_train_smote = smote.fit_resample(x_train, t_train)\n",
        "np.unique(t_train_smote, return_counts=True)"
      ],
      "metadata": {
        "colab": {
          "base_uri": "https://localhost:8080/"
        },
        "id": "Hr-NEYtNqF4p",
        "outputId": "08ab9450-b76a-480a-ae00-ab7c5c113c9d"
      },
      "execution_count": 76,
      "outputs": [
        {
          "output_type": "execute_result",
          "data": {
            "text/plain": [
              "(array([0, 1]), array([193799, 193799]))"
            ]
          },
          "metadata": {},
          "execution_count": 76
        }
      ]
    },
    {
      "cell_type": "code",
      "source": [
        "random_smote = RandomForestClassifier(random_state=0)\n",
        "random_smote.fit(x_train_smote, t_train_smote)\n",
        "y_pred = random_smote.predict(x_test)\n",
        "y_proba  = random_smote.predict_proba(x_test)\n",
        "y_pred = (y_proba[:,1] > 0.5).astype('i')\n",
        "precision = metrics.precision_score(t_test, y_pred, average=None)\n",
        "recall = metrics.recall_score(t_test, y_pred, average=None)\n",
        "f1 = metrics.f1_score(t_test, y_pred, average=None)\n",
        "print('precision: ', precision)\n",
        "print('recall: ', recall)\n",
        "print('f1: ', f1)"
      ],
      "metadata": {
        "colab": {
          "base_uri": "https://localhost:8080/"
        },
        "id": "rd4cWBZ3tD91",
        "outputId": "51c48f32-6a08-43c3-bd16-da77da8daac6"
      },
      "execution_count": 77,
      "outputs": [
        {
          "output_type": "stream",
          "name": "stdout",
          "text": [
            "precision:  [0.99964284 0.90697674]\n",
            "recall:  [0.9998571  0.79591837]\n",
            "f1:  [0.99974996 0.84782609]\n"
          ]
        }
      ]
    },
    {
      "cell_type": "code",
      "source": [],
      "metadata": {
        "id": "EN9kGZObtXRK"
      },
      "execution_count": null,
      "outputs": []
    }
  ]
}