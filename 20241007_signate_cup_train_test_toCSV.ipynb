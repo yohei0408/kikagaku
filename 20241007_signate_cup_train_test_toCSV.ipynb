{
  "nbformat": 4,
  "nbformat_minor": 0,
  "metadata": {
    "colab": {
      "provenance": [],
      "authorship_tag": "ABX9TyMoaDa7Ygb6j6lVS5G06hxd",
      "include_colab_link": true
    },
    "kernelspec": {
      "name": "python3",
      "display_name": "Python 3"
    },
    "language_info": {
      "name": "python"
    }
  },
  "cells": [
    {
      "cell_type": "markdown",
      "metadata": {
        "id": "view-in-github",
        "colab_type": "text"
      },
      "source": [
        "<a href=\"https://colab.research.google.com/github/yohei0408/kikagaku/blob/main/20241007_signate_cup_train_test_toCSV.ipynb\" target=\"_parent\"><img src=\"https://colab.research.google.com/assets/colab-badge.svg\" alt=\"Open In Colab\"/></a>"
      ]
    },
    {
      "cell_type": "code",
      "execution_count": 1,
      "metadata": {
        "id": "sRIK5XZwE1xB"
      },
      "outputs": [],
      "source": [
        "# ライブラリのimportを行います\n",
        "import pandas as pd\n",
        "import numpy as np\n",
        "import matplotlib.pyplot as plt\n",
        "import seaborn as sns"
      ]
    },
    {
      "cell_type": "code",
      "source": [
        "df = pd.read_csv('/content/train.csv')\n",
        "df = df.drop(['id'], axis=1)\n",
        "df = df.dropna()\n",
        "df.info()"
      ],
      "metadata": {
        "colab": {
          "base_uri": "https://localhost:8080/"
        },
        "id": "Ml08nuTMFDDc",
        "outputId": "63b1f06f-35a2-423a-ef28-c65369b354ed"
      },
      "execution_count": 2,
      "outputs": [
        {
          "output_type": "stream",
          "name": "stdout",
          "text": [
            "<class 'pandas.core.frame.DataFrame'>\n",
            "Index: 3206 entries, 0 to 3488\n",
            "Data columns (total 17 columns):\n",
            " #   Column                  Non-Null Count  Dtype  \n",
            "---  ------                  --------------  -----  \n",
            " 0   Age                     3206 non-null   object \n",
            " 1   TypeofContact           3206 non-null   object \n",
            " 2   CityTier                3206 non-null   int64  \n",
            " 3   DurationOfPitch         3206 non-null   object \n",
            " 4   Occupation              3206 non-null   object \n",
            " 5   Gender                  3206 non-null   object \n",
            " 6   NumberOfPersonVisiting  3206 non-null   float64\n",
            " 7   NumberOfFollowups       3206 non-null   float64\n",
            " 8   ProductPitched          3206 non-null   object \n",
            " 9   PreferredPropertyStar   3206 non-null   float64\n",
            " 10  NumberOfTrips           3206 non-null   object \n",
            " 11  Passport                3206 non-null   int64  \n",
            " 12  PitchSatisfactionScore  3206 non-null   int64  \n",
            " 13  Designation             3206 non-null   object \n",
            " 14  MonthlyIncome           3206 non-null   object \n",
            " 15  customer_info           3206 non-null   object \n",
            " 16  ProdTaken               3206 non-null   int64  \n",
            "dtypes: float64(3), int64(4), object(10)\n",
            "memory usage: 450.8+ KB\n"
          ]
        }
      ]
    },
    {
      "cell_type": "code",
      "source": [
        "import re\n",
        "# 変換関数の定義\n",
        "def convert_age(age_str):\n",
        "    # 漢数字をアラビア数字に変換\n",
        "    kanji_numbers = {\n",
        "        '一': 1, '二': 2, '三': 3, '四': 4, '五': 5,\n",
        "        '六': 6, '七': 7, '八': 8, '九': 9, '十': 10,\n",
        "        '百': 100, '千': 1000\n",
        "    }\n",
        "\n",
        "    # 漢数字の変換\n",
        "    def kanji_to_num(kanji):\n",
        "        num = 0\n",
        "        temp = 0\n",
        "        for char in kanji:\n",
        "            if char in kanji_numbers:\n",
        "                temp += kanji_numbers[char]\n",
        "            else:\n",
        "                num += temp\n",
        "                temp = 0\n",
        "        return num + temp\n",
        "\n",
        "    # 年齢の文字列を変換\n",
        "    age_str = re.sub(r'[歳才際]', '', age_str)  # 歳、才、際を削除\n",
        "    age_str = re.sub(r'[\\u3000-\\u303F]', '', age_str)  # 全角数字を半角に\n",
        "    age_str = re.sub(r'([0-9]+)', r'\\1', age_str)  # 半角数字をそのまま\n",
        "    age_str = re.sub(r'([０-９])', lambda x: str(int(x.group(0))), age_str)  # 全角数字を半角に変換\n",
        "\n",
        "    # 大文字の「24」を変換\n",
        "    if '代' in age_str:\n",
        "        age_str = age_str.replace('代', '')\n",
        "\n",
        "    # 漢数字の変換\n",
        "    if re.search(r'[一二三四五六七八九十百千]', age_str):\n",
        "        age_str = str(kanji_to_num(age_str))\n",
        "\n",
        "    return int(age_str)\n",
        "\n",
        "# Age列の変換を実行\n",
        "df['Age'] = df['Age'].apply(convert_age)\n",
        "\n",
        "df['Age'].describe()"
      ],
      "metadata": {
        "colab": {
          "base_uri": "https://localhost:8080/",
          "height": 331
        },
        "id": "JevZubvUFGjT",
        "outputId": "95247a0f-cf16-47ac-9fb7-9440ca138e28"
      },
      "execution_count": 3,
      "outputs": [
        {
          "output_type": "execute_result",
          "data": {
            "text/plain": [
              "count    3206.000000\n",
              "mean       38.072052\n",
              "std        10.724203\n",
              "min        10.000000\n",
              "25%        30.000000\n",
              "50%        38.000000\n",
              "75%        47.000000\n",
              "max        61.000000\n",
              "Name: Age, dtype: float64"
            ],
            "text/html": [
              "<div>\n",
              "<style scoped>\n",
              "    .dataframe tbody tr th:only-of-type {\n",
              "        vertical-align: middle;\n",
              "    }\n",
              "\n",
              "    .dataframe tbody tr th {\n",
              "        vertical-align: top;\n",
              "    }\n",
              "\n",
              "    .dataframe thead th {\n",
              "        text-align: right;\n",
              "    }\n",
              "</style>\n",
              "<table border=\"1\" class=\"dataframe\">\n",
              "  <thead>\n",
              "    <tr style=\"text-align: right;\">\n",
              "      <th></th>\n",
              "      <th>Age</th>\n",
              "    </tr>\n",
              "  </thead>\n",
              "  <tbody>\n",
              "    <tr>\n",
              "      <th>count</th>\n",
              "      <td>3206.000000</td>\n",
              "    </tr>\n",
              "    <tr>\n",
              "      <th>mean</th>\n",
              "      <td>38.072052</td>\n",
              "    </tr>\n",
              "    <tr>\n",
              "      <th>std</th>\n",
              "      <td>10.724203</td>\n",
              "    </tr>\n",
              "    <tr>\n",
              "      <th>min</th>\n",
              "      <td>10.000000</td>\n",
              "    </tr>\n",
              "    <tr>\n",
              "      <th>25%</th>\n",
              "      <td>30.000000</td>\n",
              "    </tr>\n",
              "    <tr>\n",
              "      <th>50%</th>\n",
              "      <td>38.000000</td>\n",
              "    </tr>\n",
              "    <tr>\n",
              "      <th>75%</th>\n",
              "      <td>47.000000</td>\n",
              "    </tr>\n",
              "    <tr>\n",
              "      <th>max</th>\n",
              "      <td>61.000000</td>\n",
              "    </tr>\n",
              "  </tbody>\n",
              "</table>\n",
              "</div><br><label><b>dtype:</b> float64</label>"
            ]
          },
          "metadata": {},
          "execution_count": 3
        }
      ]
    },
    {
      "cell_type": "code",
      "source": [
        "# 変換関数の定義\n",
        "def convert_duration(duration_str):\n",
        "    if '秒' in duration_str:\n",
        "        # 秒の値をそのまま返す\n",
        "        return int(duration_str.replace('秒', ''))\n",
        "    elif '分' in duration_str:\n",
        "        # 分の値を秒に変換\n",
        "        minutes = int(duration_str.replace('分', ''))\n",
        "        return minutes * 60\n",
        "    else:\n",
        "        return 0  # それ以外の場合は0を返す\n",
        "\n",
        "# DurationOfPitch列の変換を実行\n",
        "df['DurationOfPitch'] = df['DurationOfPitch'].apply(convert_duration)\n",
        "df['DurationOfPitch'].describe()"
      ],
      "metadata": {
        "colab": {
          "base_uri": "https://localhost:8080/",
          "height": 331
        },
        "id": "I1raFJdDFPRo",
        "outputId": "d8a81c6a-5c86-40e2-f66d-fb3edc99169f"
      },
      "execution_count": 4,
      "outputs": [
        {
          "output_type": "execute_result",
          "data": {
            "text/plain": [
              "count    3206.000000\n",
              "mean      860.530256\n",
              "std       418.097727\n",
              "min       240.000000\n",
              "25%       540.000000\n",
              "50%       780.000000\n",
              "75%       960.000000\n",
              "max      2160.000000\n",
              "Name: DurationOfPitch, dtype: float64"
            ],
            "text/html": [
              "<div>\n",
              "<style scoped>\n",
              "    .dataframe tbody tr th:only-of-type {\n",
              "        vertical-align: middle;\n",
              "    }\n",
              "\n",
              "    .dataframe tbody tr th {\n",
              "        vertical-align: top;\n",
              "    }\n",
              "\n",
              "    .dataframe thead th {\n",
              "        text-align: right;\n",
              "    }\n",
              "</style>\n",
              "<table border=\"1\" class=\"dataframe\">\n",
              "  <thead>\n",
              "    <tr style=\"text-align: right;\">\n",
              "      <th></th>\n",
              "      <th>DurationOfPitch</th>\n",
              "    </tr>\n",
              "  </thead>\n",
              "  <tbody>\n",
              "    <tr>\n",
              "      <th>count</th>\n",
              "      <td>3206.000000</td>\n",
              "    </tr>\n",
              "    <tr>\n",
              "      <th>mean</th>\n",
              "      <td>860.530256</td>\n",
              "    </tr>\n",
              "    <tr>\n",
              "      <th>std</th>\n",
              "      <td>418.097727</td>\n",
              "    </tr>\n",
              "    <tr>\n",
              "      <th>min</th>\n",
              "      <td>240.000000</td>\n",
              "    </tr>\n",
              "    <tr>\n",
              "      <th>25%</th>\n",
              "      <td>540.000000</td>\n",
              "    </tr>\n",
              "    <tr>\n",
              "      <th>50%</th>\n",
              "      <td>780.000000</td>\n",
              "    </tr>\n",
              "    <tr>\n",
              "      <th>75%</th>\n",
              "      <td>960.000000</td>\n",
              "    </tr>\n",
              "    <tr>\n",
              "      <th>max</th>\n",
              "      <td>2160.000000</td>\n",
              "    </tr>\n",
              "  </tbody>\n",
              "</table>\n",
              "</div><br><label><b>dtype:</b> float64</label>"
            ]
          },
          "metadata": {},
          "execution_count": 4
        }
      ]
    },
    {
      "cell_type": "code",
      "source": [
        "# 変換関数の定義\n",
        "def convert_gender(gender_str):\n",
        "    # 全角英字を半角に変換\n",
        "    gender_str = re.sub(r'[Ａ-Ｚａ-ｚ]', lambda x: chr(ord(x.group(0)) - 0xFEE0), gender_str)\n",
        "    # スペースを削除\n",
        "    gender_str = gender_str.replace(\" \", \"\").replace(\"　\", \"\")\n",
        "    # 小文字に変換\n",
        "    gender_str = gender_str.lower()\n",
        "    # 変換\n",
        "    if gender_str in ['female', 'femaie', 'femal', 'femle', 'femal', 'fem']:\n",
        "        return 'female'\n",
        "    elif gender_str in ['male', 'maie', 'mal', 'male']:\n",
        "        return 'male'\n",
        "    else:\n",
        "        return gender_str  # 変換できない場合はそのまま返す\n",
        "\n",
        "\n",
        "# Gender列の変換を実行\n",
        "df['Gender'] = df['Gender'].apply(convert_gender)"
      ],
      "metadata": {
        "id": "olk4Zp7AFhH1"
      },
      "execution_count": 5,
      "outputs": []
    },
    {
      "cell_type": "code",
      "source": [
        "# 変換関数の定義\n",
        "def convert_product(product_str):\n",
        "    # 小文字に変換\n",
        "    product_str = product_str.lower()\n",
        "\n",
        "    # 特定の文字列の置換\n",
        "    product_str = re.sub(r'de[|×]?u[|×]?xe', 'deluxe', product_str)\n",
        "    product_str = re.sub(r'super\\s?deluxe', 'super deluxe', product_str)\n",
        "\n",
        "    # 統一した文字列の定義\n",
        "    if 'super deluxe' in product_str or 'super dεluxe' in product_str:\n",
        "        return 'super deluxe'\n",
        "    elif ('ꭰeluxe' in product_str or\n",
        "          'de|u×e' in product_str or\n",
        "          'delu×e' in product_str or\n",
        "          'ᗞeluxe' in product_str or\n",
        "          'ꭰeluxe' in product_str or\n",
        "          '𝙳eluxe' in product_str or\n",
        "          'dεluxε' in product_str or\n",
        "          'deluxe' in product_str or\n",
        "\n",
        "        'deluxe' in product_str):\n",
        "        return 'deluxe'\n",
        "    elif ('standard' in product_str or\n",
        "          'stanᗞard' in product_str or\n",
        "          'standar𝔡' in product_str or\n",
        "          'staոdard' in product_str or\n",
        "          'st𝖺ndard' in product_str or\n",
        "          's𝘵andard' in product_str or\n",
        "          'stand𝖺rd' in product_str or\n",
        "          'տtandard' in product_str or\n",
        "          'standarꭰ' in product_str or\n",
        "          'ꓢtandard' in product_str or\n",
        "          'ѕtandard' in product_str or\n",
        "          'ꓢtandard' in product_str or\n",
        "          'տtanda𝘳d' in product_str or\n",
        "          'ѕtandard' in product_str or\n",
        "          'տtandard' in product_str or\n",
        "          'standa𝘳d' in product_str):\n",
        "        return 'standard'\n",
        "    elif ('basic' in product_str or\n",
        "          'basiс' in product_str or\n",
        "          'b𝖺sic' in product_str or\n",
        "          'baꓢic' in product_str or\n",
        "          'βasic' in product_str or\n",
        "          'вasic' in product_str or\n",
        "          'basi𝘤' in product_str or\n",
        "          'basiϲ' in product_str or\n",
        "          'baտic' in product_str or\n",
        "          'βası𝘤' in product_str or\n",
        "          'baｓic' in product_str or\n",
        "          '𐊡asic' in product_str or\n",
        "          'basιc' in product_str or\n",
        "          'в𝖺sic' in product_str or\n",
        "          '𐊡asi𝘤' in product_str or\n",
        "          'βasıc' in product_str or\n",
        "          'b𝖺si𝘤' in product_str or\n",
        "          'вasic' in product_str or\n",
        "          'βasiс' in product_str or\n",
        "          'basıc' in product_str):\n",
        "        return 'basic'\n",
        "    elif 'king' in product_str or 'kıոg' in product_str or 'kiոg' in product_str:\n",
        "        return 'king'\n",
        "    else:\n",
        "        print(f\"Unknown product: {product_str}\")  # デバッグ用のログ\n",
        "        return 'unknown'  # 該当しない場合は'unknown'を返す\n",
        "\n",
        "# ProductPitched列の変換を実行\n",
        "df['ProductPitched'] = df['ProductPitched'].apply(convert_product)\n",
        "\n",
        "# 重複を削除し、最終的な結果を表示\n",
        "unique_products = df['ProductPitched'].unique()\n",
        "print(unique_products)"
      ],
      "metadata": {
        "colab": {
          "base_uri": "https://localhost:8080/"
        },
        "id": "d61Ra64YFwoA",
        "outputId": "b9e023a0-5357-47b8-f597-71d623026dba"
      },
      "execution_count": 7,
      "outputs": [
        {
          "output_type": "stream",
          "name": "stdout",
          "text": [
            "['basic' 'standard' 'super deluxe' 'deluxe' 'king']\n"
          ]
        }
      ]
    },
    {
      "cell_type": "code",
      "source": [
        "# 変換ルールを定義する\n",
        "def convert_trips(trip):\n",
        "    if trip == '半年に1回':\n",
        "        return 2\n",
        "    elif trip == '四半期に1回':\n",
        "        return 4\n",
        "    else:\n",
        "        # 日本語を削除して整数に変換\n",
        "        return int(''.join(filter(str.isdigit, trip)))\n",
        "\n",
        "# すべてのトリップ数に変換を適用\n",
        "df['NumberOfTrips'] = df['NumberOfTrips'].apply(convert_trips)\n",
        "\n",
        "# 結果を確認\n",
        "print(df['NumberOfTrips'].unique())"
      ],
      "metadata": {
        "colab": {
          "base_uri": "https://localhost:8080/"
        },
        "id": "Q5F0kf_1F0ag",
        "outputId": "12674acd-e82e-45ff-f246-5bcac2d18977"
      },
      "execution_count": 8,
      "outputs": [
        {
          "output_type": "stream",
          "name": "stdout",
          "text": [
            "[5 2 1 4 6 3 7 8]\n"
          ]
        }
      ]
    },
    {
      "cell_type": "code",
      "source": [
        "# 変換ルールを定義する\n",
        "def standardize_designation(designation):\n",
        "    if pd.isna(designation) or designation is None:\n",
        "        return None  # Noneのままにする\n",
        "    # 空白を削除\n",
        "    designation = designation.strip()\n",
        "\n",
        "    # 特定の文字列が含まれているかチェック\n",
        "    if any(sub in designation for sub in ['xe', 'ec', 'cu', 'ut', 'ti', 'iv', 've']):\n",
        "        return 'Executive'\n",
        "\n",
        "    # 小文字に変換\n",
        "    designation = designation.lower()\n",
        "\n",
        "    # 役職名の変換マッピング\n",
        "    mapping = {\n",
        "        'senior manager': 'Senior Manager',\n",
        "        'manager': 'Manager',\n",
        "        'avp': 'AVP',\n",
        "        'avｐ': 'AVP',\n",
        "        'avｐ': 'AVP',\n",
        "        'vp': 'VP',\n",
        "        'vｐ': 'VP',\n",
        "        'vｐ': 'VP',\n",
        "        'vp': 'VP',\n",
        "    }\n",
        "\n",
        "    # マッピングに基づいて変換\n",
        "    for key in mapping.keys():\n",
        "        if key in designation:\n",
        "            return mapping[key]\n",
        "\n",
        "    # 'unknown' の条件を追加\n",
        "    if ' ' in designation:\n",
        "        return 'Senior Manager'  # 半角スペースが含まれている場合は Senior Manager に変換\n",
        "\n",
        "    #print(f\"Unknown designation: {designation}\")  # デバッグ用のログ\n",
        "    return 'unknown'  # 該当しない場合は'unknown'を返す\n",
        "\n",
        "# すべての役職に変換を適用\n",
        "df['Designation'] = df['Designation'].apply(standardize_designation)\n",
        "\n",
        "# 最後に残った 'unknown' を 'Manager' に変換\n",
        "df['Designation'] = df['Designation'].replace('unknown', 'Manager')\n",
        "\n",
        "\n",
        "# 結果を確認\n",
        "print(df['Designation'].unique())"
      ],
      "metadata": {
        "colab": {
          "base_uri": "https://localhost:8080/"
        },
        "id": "oRDMfbzeGQ9y",
        "outputId": "fb03bd32-0d0b-4605-a8cd-8919b25b2142"
      },
      "execution_count": 10,
      "outputs": [
        {
          "output_type": "stream",
          "name": "stdout",
          "text": [
            "['Executive' 'Senior Manager' 'AVP' 'Manager' 'VP']\n"
          ]
        }
      ]
    },
    {
      "cell_type": "code",
      "source": [
        "# 月収を整数に変換する関数\n",
        "def convert_income(income):\n",
        "    if isinstance(income, str):\n",
        "        # \"月収\" と \"万円\" を取り除き、数値を取得\n",
        "        if '月収' in income and '万円' in income:\n",
        "            income = income.replace('月収', '').replace('万円', '').strip()\n",
        "            return int(float(income) * 10000)  # 万円を円に変換\n",
        "        else:\n",
        "            return int(float(income))  # そのまま整数に変換\n",
        "    return income  # もしすでに数値ならそのまま返す\n",
        "\n",
        "# 変換を適用\n",
        "df['MonthlyIncome'] = df['MonthlyIncome'].apply(convert_income)\n",
        "\n",
        "# 結果を確認\n",
        "print(df['MonthlyIncome'].unique())"
      ],
      "metadata": {
        "colab": {
          "base_uri": "https://localhost:8080/"
        },
        "id": "WYqqS5P4GicV",
        "outputId": "fafcffc9-f1c4-452d-bf6d-b830a3f47773"
      },
      "execution_count": 11,
      "outputs": [
        {
          "output_type": "stream",
          "name": "stdout",
          "text": [
            "[253905 404475 326805 ... 317340 527910 278190]\n"
          ]
        }
      ]
    },
    {
      "cell_type": "code",
      "source": [
        "# 結婚、車、子供の数を抽出する関数\n",
        "def extract_info(customer_info):\n",
        "    marriage_status = ''\n",
        "    car_status = ''\n",
        "    children_count = 0\n",
        "\n",
        "    # 各情報の正規表現パターン\n",
        "    if '未婚' in customer_info or '独身' in customer_info:\n",
        "        marriage_status = '未婚'\n",
        "    elif '結婚済み' in customer_info:\n",
        "        marriage_status = '結婚済み'\n",
        "    elif '離婚済み' in customer_info:\n",
        "        marriage_status = '離婚済み'\n",
        "\n",
        "    if '車所持' in customer_info or '車あり' in customer_info or '車保有' in customer_info:\n",
        "        car_status = '車あり'\n",
        "    else:\n",
        "        car_status = '車なし'\n",
        "\n",
        "    # 子供の数を正規表現で取得\n",
        "    match = re.search(r'(\\d+)', customer_info)  # 数字を探す\n",
        "    if match:\n",
        "        children_count = int(match.group(0))  # 見つかった数字を整数に変換\n",
        "    else:\n",
        "        children_count = 0  # 見つからなかった場合は0\n",
        "\n",
        "    return pd.Series([marriage_status, car_status, children_count])\n",
        "\n",
        "# 新しい列を作成\n",
        "df[['結婚', '車', '子供の数']] = df['customer_info'].apply(extract_info)\n",
        "\n",
        "# 結果を確認\n",
        "df.info()"
      ],
      "metadata": {
        "colab": {
          "base_uri": "https://localhost:8080/"
        },
        "id": "D5SDQT_bG1Z5",
        "outputId": "4ee8a14e-6f6b-41b7-df1d-a6732f0c8b5e"
      },
      "execution_count": 12,
      "outputs": [
        {
          "output_type": "stream",
          "name": "stdout",
          "text": [
            "<class 'pandas.core.frame.DataFrame'>\n",
            "Index: 3206 entries, 0 to 3488\n",
            "Data columns (total 20 columns):\n",
            " #   Column                  Non-Null Count  Dtype  \n",
            "---  ------                  --------------  -----  \n",
            " 0   Age                     3206 non-null   int64  \n",
            " 1   TypeofContact           3206 non-null   object \n",
            " 2   CityTier                3206 non-null   int64  \n",
            " 3   DurationOfPitch         3206 non-null   int64  \n",
            " 4   Occupation              3206 non-null   object \n",
            " 5   Gender                  3206 non-null   object \n",
            " 6   NumberOfPersonVisiting  3206 non-null   float64\n",
            " 7   NumberOfFollowups       3206 non-null   float64\n",
            " 8   ProductPitched          3206 non-null   object \n",
            " 9   PreferredPropertyStar   3206 non-null   float64\n",
            " 10  NumberOfTrips           3206 non-null   int64  \n",
            " 11  Passport                3206 non-null   int64  \n",
            " 12  PitchSatisfactionScore  3206 non-null   int64  \n",
            " 13  Designation             3206 non-null   object \n",
            " 14  MonthlyIncome           3206 non-null   int64  \n",
            " 15  customer_info           3206 non-null   object \n",
            " 16  ProdTaken               3206 non-null   int64  \n",
            " 17  結婚                      3206 non-null   object \n",
            " 18  車                       3206 non-null   object \n",
            " 19  子供の数                    3206 non-null   int64  \n",
            "dtypes: float64(3), int64(9), object(8)\n",
            "memory usage: 526.0+ KB\n"
          ]
        }
      ]
    },
    {
      "cell_type": "code",
      "source": [
        "# object を int に変換　TypeofContact、Occupation、Gender、ProductPitched、Designation、結婚、車\n",
        "df2 = df.copy()"
      ],
      "metadata": {
        "id": "Hnw--hjyHDK3"
      },
      "execution_count": 32,
      "outputs": []
    },
    {
      "cell_type": "code",
      "source": [
        "#年齢が若い人が成約しやすい\n",
        "grouped = df2.groupby(\"Age\")[\"ProdTaken\"].agg([\"mean\", \"count\"]).sort_values(by=\"count\", ascending=False)\n",
        "plt.bar(grouped.index, grouped[\"mean\"])\n",
        "plt.show()"
      ],
      "metadata": {
        "colab": {
          "base_uri": "https://localhost:8080/",
          "height": 430
        },
        "id": "FFodc6v_HU3j",
        "outputId": "60e6de64-7c7a-4b86-dc81-b434390190a9"
      },
      "execution_count": 16,
      "outputs": [
        {
          "output_type": "display_data",
          "data": {
            "text/plain": [
              "<Figure size 640x480 with 1 Axes>"
            ],
            "image/png": "[encoded data removed]"
          },
          "metadata": {}
        }
      ]
    },
    {
      "cell_type": "code",
      "source": [
        "#　Company Invited　が成約しやすい\n",
        "grouped = df2.groupby(\"TypeofContact\")[\"ProdTaken\"].agg([\"mean\", \"count\"]).sort_values(by=\"count\", ascending=False)\n",
        "plt.bar(grouped.index, grouped[\"mean\"])\n",
        "plt.show()"
      ],
      "metadata": {
        "colab": {
          "base_uri": "https://localhost:8080/",
          "height": 430
        },
        "id": "hDO8wLvHIr5q",
        "outputId": "9bbec041-077b-4b90-8fa7-f8931ac9b9e1"
      },
      "execution_count": 17,
      "outputs": [
        {
          "output_type": "display_data",
          "data": {
            "text/plain": [
              "<Figure size 640x480 with 1 Axes>"
            ],
            "image/png": "[encoded data removed]"
          },
          "metadata": {}
        }
      ]
    },
    {
      "cell_type": "code",
      "source": [
        "#　都市層　に関係は小さい\n",
        "grouped = df2.groupby(\"CityTier\")[\"ProdTaken\"].agg([\"mean\", \"count\"]).sort_values(by=\"count\", ascending=False)\n",
        "plt.bar(grouped.index, grouped[\"mean\"])\n",
        "plt.show()"
      ],
      "metadata": {
        "colab": {
          "base_uri": "https://localhost:8080/",
          "height": 430
        },
        "id": "7kMZZfkoI-Cy",
        "outputId": "8aec225e-b8dc-4562-b305-9eb6589be15c"
      },
      "execution_count": 18,
      "outputs": [
        {
          "output_type": "display_data",
          "data": {
            "text/plain": [
              "<Figure size 640x480 with 1 Axes>"
            ],
            "image/png": "[encoded data removed]"
          },
          "metadata": {}
        }
      ]
    },
    {
      "cell_type": "code",
      "source": [
        "#　セールス時間　が短い方が成約しやすい\n",
        "grouped = df2.groupby(\"DurationOfPitch\")[\"ProdTaken\"].agg([\"mean\", \"count\"]).sort_values(by=\"count\", ascending=False)\n",
        "plt.bar(grouped.index, grouped[\"mean\"])\n",
        "plt.show()"
      ],
      "metadata": {
        "colab": {
          "base_uri": "https://localhost:8080/",
          "height": 430
        },
        "id": "Xxst2tccJOln",
        "outputId": "847ddb1a-7d95-437e-e77a-ba2b76abb673"
      },
      "execution_count": 19,
      "outputs": [
        {
          "output_type": "display_data",
          "data": {
            "text/plain": [
              "<Figure size 640x480 with 1 Axes>"
            ],
            "image/png": "[encoded data removed]"
          },
          "metadata": {}
        }
      ]
    },
    {
      "cell_type": "code",
      "source": [
        "#　Large Business　が成約しやすい\n",
        "grouped = df2.groupby(\"Occupation\")[\"ProdTaken\"].agg([\"mean\", \"count\"]).sort_values(by=\"count\", ascending=False)\n",
        "plt.bar(grouped.index, grouped[\"mean\"])\n",
        "plt.show()"
      ],
      "metadata": {
        "colab": {
          "base_uri": "https://localhost:8080/",
          "height": 430
        },
        "id": "lEPW8orgJrl9",
        "outputId": "c4b4dcc6-a563-4ab6-d4fe-80110b76a4b6"
      },
      "execution_count": 20,
      "outputs": [
        {
          "output_type": "display_data",
          "data": {
            "text/plain": [
              "<Figure size 640x480 with 1 Axes>"
            ],
            "image/png": "[encoded data removed]"
          },
          "metadata": {}
        }
      ]
    },
    {
      "cell_type": "code",
      "source": [
        "#　男性　が成約しやすい\n",
        "grouped = df2.groupby(\"Gender\")[\"ProdTaken\"].agg([\"mean\", \"count\"]).sort_values(by=\"count\", ascending=False)\n",
        "plt.bar(grouped.index, grouped[\"mean\"])\n",
        "plt.show()"
      ],
      "metadata": {
        "colab": {
          "base_uri": "https://localhost:8080/",
          "height": 430
        },
        "id": "7j-RHa_4KB6s",
        "outputId": "2b11efdf-47e7-40a1-bb9a-4b0c79d9075d"
      },
      "execution_count": 21,
      "outputs": [
        {
          "output_type": "display_data",
          "data": {
            "text/plain": [
              "<Figure size 640x480 with 1 Axes>"
            ],
            "image/png": "[encoded data removed]"
          },
          "metadata": {}
        }
      ]
    },
    {
      "cell_type": "code",
      "source": [
        "#　同行者の数　が少ない方が成約しやすい\n",
        "grouped = df2.groupby(\"NumberOfPersonVisiting\")[\"ProdTaken\"].agg([\"mean\", \"count\"]).sort_values(by=\"count\", ascending=False)\n",
        "plt.bar(grouped.index, grouped[\"mean\"])\n",
        "plt.show()"
      ],
      "metadata": {
        "colab": {
          "base_uri": "https://localhost:8080/",
          "height": 430
        },
        "id": "k-00_UjuKMNV",
        "outputId": "6d29e649-8459-4625-aa2a-2d1c7dae7480"
      },
      "execution_count": 22,
      "outputs": [
        {
          "output_type": "display_data",
          "data": {
            "text/plain": [
              "<Figure size 640x480 with 1 Axes>"
            ],
            "image/png": "[encoded data removed]"
          },
          "metadata": {}
        }
      ]
    },
    {
      "cell_type": "code",
      "source": [
        "#　NumberOfFollowups　が6回が成約しやすい\n",
        "grouped = df2.groupby(\"NumberOfFollowups\")[\"ProdTaken\"].agg([\"mean\", \"count\"]).sort_values(by=\"count\", ascending=False)\n",
        "plt.bar(grouped.index, grouped[\"mean\"])\n",
        "plt.show()"
      ],
      "metadata": {
        "colab": {
          "base_uri": "https://localhost:8080/",
          "height": 430
        },
        "id": "jz5faoQKKTN5",
        "outputId": "b3beb738-6b80-402b-ab40-56b33f477940"
      },
      "execution_count": 36,
      "outputs": [
        {
          "output_type": "display_data",
          "data": {
            "text/plain": [
              "<Figure size 640x480 with 1 Axes>"
            ],
            "image/png": "[encoded data removed]"
          },
          "metadata": {}
        }
      ]
    },
    {
      "cell_type": "code",
      "source": [
        "# 条件に基づいて値を変換する\n",
        "df2['NumberOfFollowups'] = df2['NumberOfFollowups'].apply(lambda x: x / 100 if x >= 100 else x)\n",
        "df2.describe()"
      ],
      "metadata": {
        "colab": {
          "base_uri": "https://localhost:8080/",
          "height": 317
        },
        "id": "bYcvQ1RnKgGZ",
        "outputId": "d543fb43-8cae-42f5-fc6d-7a4871239312"
      },
      "execution_count": 34,
      "outputs": [
        {
          "output_type": "execute_result",
          "data": {
            "text/plain": [
              "               Age     CityTier  DurationOfPitch  NumberOfPersonVisiting  \\\n",
              "count  3206.000000  3206.000000      3206.000000             3206.000000   \n",
              "mean     38.072052     1.702121       860.530256                2.408609   \n",
              "std      10.724203     0.669954       418.097727                0.730593   \n",
              "min      10.000000     1.000000       240.000000                1.000000   \n",
              "25%      30.000000     1.000000       540.000000                2.000000   \n",
              "50%      38.000000     2.000000       780.000000                2.000000   \n",
              "75%      47.000000     2.000000       960.000000                3.000000   \n",
              "max      61.000000     3.000000      2160.000000                4.000000   \n",
              "\n",
              "       NumberOfFollowups  PreferredPropertyStar  NumberOfTrips     Passport  \\\n",
              "count        3206.000000            3206.000000    3206.000000  3206.000000   \n",
              "mean            3.689333               3.448846       3.232065     0.105739   \n",
              "std             0.890682               0.598258       1.743036     0.307552   \n",
              "min             1.000000               3.000000       1.000000     0.000000   \n",
              "25%             3.000000               3.000000       2.000000     0.000000   \n",
              "50%             4.000000               3.000000       3.000000     0.000000   \n",
              "75%             4.000000               4.000000       5.000000     0.000000   \n",
              "max             6.000000               5.000000       8.000000     1.000000   \n",
              "\n",
              "       PitchSatisfactionScore  MonthlyIncome    ProdTaken         子供の数  \n",
              "count             3206.000000    3206.000000  3206.000000  3206.000000  \n",
              "mean                 2.483157  358238.229881     0.138802     0.997817  \n",
              "std                  1.107708   74719.945668     0.345794     0.789752  \n",
              "min                  1.000000  240000.000000     0.000000     0.000000  \n",
              "25%                  2.000000  306277.500000     0.000000     0.000000  \n",
              "50%                  2.000000  346515.000000     0.000000     1.000000  \n",
              "75%                  3.000000  400000.000000     0.000000     2.000000  \n",
              "max                  5.000000  600000.000000     1.000000     3.000000  "
            ],
            "text/html": [
              "\n",
              "  <div id=\"df-d30fc9f5-b8c5-492a-97ff-cb8b609313c3\" class=\"colab-df-container\">\n",
              "    <div>\n",
              "<style scoped>\n",
              "    .dataframe tbody tr th:only-of-type {\n",
              "        vertical-align: middle;\n",
              "    }\n",
              "\n",
              "    .dataframe tbody tr th {\n",
              "        vertical-align: top;\n",
              "    }\n",
              "\n",
              "    .dataframe thead th {\n",
              "        text-align: right;\n",
              "    }\n",
              "</style>\n",
              "<table border=\"1\" class=\"dataframe\">\n",
              "  <thead>\n",
              "    <tr style=\"text-align: right;\">\n",
              "      <th></th>\n",
              "      <th>Age</th>\n",
              "      <th>CityTier</th>\n",
              "      <th>DurationOfPitch</th>\n",
              "      <th>NumberOfPersonVisiting</th>\n",
              "      <th>NumberOfFollowups</th>\n",
              "      <th>PreferredPropertyStar</th>\n",
              "      <th>NumberOfTrips</th>\n",
              "      <th>Passport</th>\n",
              "      <th>PitchSatisfactionScore</th>\n",
              "      <th>MonthlyIncome</th>\n",
              "      <th>ProdTaken</th>\n",
              "      <th>子供の数</th>\n",
              "    </tr>\n",
              "  </thead>\n",
              "  <tbody>\n",
              "    <tr>\n",
              "      <th>count</th>\n",
              "      <td>3206.000000</td>\n",
              "      <td>3206.000000</td>\n",
              "      <td>3206.000000</td>\n",
              "      <td>3206.000000</td>\n",
              "      <td>3206.000000</td>\n",
              "      <td>3206.000000</td>\n",
              "      <td>3206.000000</td>\n",
              "      <td>3206.000000</td>\n",
              "      <td>3206.000000</td>\n",
              "      <td>3206.000000</td>\n",
              "      <td>3206.000000</td>\n",
              "      <td>3206.000000</td>\n",
              "    </tr>\n",
              "    <tr>\n",
              "      <th>mean</th>\n",
              "      <td>38.072052</td>\n",
              "      <td>1.702121</td>\n",
              "      <td>860.530256</td>\n",
              "      <td>2.408609</td>\n",
              "      <td>3.689333</td>\n",
              "      <td>3.448846</td>\n",
              "      <td>3.232065</td>\n",
              "      <td>0.105739</td>\n",
              "      <td>2.483157</td>\n",
              "      <td>358238.229881</td>\n",
              "      <td>0.138802</td>\n",
              "      <td>0.997817</td>\n",
              "    </tr>\n",
              "    <tr>\n",
              "      <th>std</th>\n",
              "      <td>10.724203</td>\n",
              "      <td>0.669954</td>\n",
              "      <td>418.097727</td>\n",
              "      <td>0.730593</td>\n",
              "      <td>0.890682</td>\n",
              "      <td>0.598258</td>\n",
              "      <td>1.743036</td>\n",
              "      <td>0.307552</td>\n",
              "      <td>1.107708</td>\n",
              "      <td>74719.945668</td>\n",
              "      <td>0.345794</td>\n",
              "      <td>0.789752</td>\n",
              "    </tr>\n",
              "    <tr>\n",
              "      <th>min</th>\n",
              "      <td>10.000000</td>\n",
              "      <td>1.000000</td>\n",
              "      <td>240.000000</td>\n",
              "      <td>1.000000</td>\n",
              "      <td>1.000000</td>\n",
              "      <td>3.000000</td>\n",
              "      <td>1.000000</td>\n",
              "      <td>0.000000</td>\n",
              "      <td>1.000000</td>\n",
              "      <td>240000.000000</td>\n",
              "      <td>0.000000</td>\n",
              "      <td>0.000000</td>\n",
              "    </tr>\n",
              "    <tr>\n",
              "      <th>25%</th>\n",
              "      <td>30.000000</td>\n",
              "      <td>1.000000</td>\n",
              "      <td>540.000000</td>\n",
              "      <td>2.000000</td>\n",
              "      <td>3.000000</td>\n",
              "      <td>3.000000</td>\n",
              "      <td>2.000000</td>\n",
              "      <td>0.000000</td>\n",
              "      <td>2.000000</td>\n",
              "      <td>306277.500000</td>\n",
              "      <td>0.000000</td>\n",
              "      <td>0.000000</td>\n",
              "    </tr>\n",
              "    <tr>\n",
              "      <th>50%</th>\n",
              "      <td>38.000000</td>\n",
              "      <td>2.000000</td>\n",
              "      <td>780.000000</td>\n",
              "      <td>2.000000</td>\n",
              "      <td>4.000000</td>\n",
              "      <td>3.000000</td>\n",
              "      <td>3.000000</td>\n",
              "      <td>0.000000</td>\n",
              "      <td>2.000000</td>\n",
              "      <td>346515.000000</td>\n",
              "      <td>0.000000</td>\n",
              "      <td>1.000000</td>\n",
              "    </tr>\n",
              "    <tr>\n",
              "      <th>75%</th>\n",
              "      <td>47.000000</td>\n",
              "      <td>2.000000</td>\n",
              "      <td>960.000000</td>\n",
              "      <td>3.000000</td>\n",
              "      <td>4.000000</td>\n",
              "      <td>4.000000</td>\n",
              "      <td>5.000000</td>\n",
              "      <td>0.000000</td>\n",
              "      <td>3.000000</td>\n",
              "      <td>400000.000000</td>\n",
              "      <td>0.000000</td>\n",
              "      <td>2.000000</td>\n",
              "    </tr>\n",
              "    <tr>\n",
              "      <th>max</th>\n",
              "      <td>61.000000</td>\n",
              "      <td>3.000000</td>\n",
              "      <td>2160.000000</td>\n",
              "      <td>4.000000</td>\n",
              "      <td>6.000000</td>\n",
              "      <td>5.000000</td>\n",
              "      <td>8.000000</td>\n",
              "      <td>1.000000</td>\n",
              "      <td>5.000000</td>\n",
              "      <td>600000.000000</td>\n",
              "      <td>1.000000</td>\n",
              "      <td>3.000000</td>\n",
              "    </tr>\n",
              "  </tbody>\n",
              "</table>\n",
              "</div>\n",
              "    <div class=\"colab-df-buttons\">\n",
              "\n",
              "  <div class=\"colab-df-container\">\n",
              "    <button class=\"colab-df-convert\" onclick=\"convertToInteractive('df-d30fc9f5-b8c5-492a-97ff-cb8b609313c3')\"\n",
              "            title=\"Convert this dataframe to an interactive table.\"\n",
              "            style=\"display:none;\">\n",
              "\n",
              "  <svg xmlns=\"http://www.w3.org/2000/svg\" height=\"24px\" viewBox=\"0 -960 960 960\">\n",
              "    <path d=\"M120-120v-720h720v720H120Zm60-500h600v-160H180v160Zm220 220h160v-160H400v160Zm0 220h160v-160H400v160ZM180-400h160v-160H180v160Zm440 0h160v-160H620v160ZM180-180h160v-160H180v160Zm440 0h160v-160H620v160Z\"/>\n",
              "  </svg>\n",
              "    </button>\n",
              "\n",
              "  <style>\n",
              "    .colab-df-container {\n",
              "      display:flex;\n",
              "      gap: 12px;\n",
              "    }\n",
              "\n",
              "    .colab-df-convert {\n",
              "      background-color: #E8F0FE;\n",
              "      border: none;\n",
              "      border-radius: 50%;\n",
              "      cursor: pointer;\n",
              "      display: none;\n",
              "      fill: #1967D2;\n",
              "      height: 32px;\n",
              "      padding: 0 0 0 0;\n",
              "      width: 32px;\n",
              "    }\n",
              "\n",
              "    .colab-df-convert:hover {\n",
              "      background-color: #E2EBFA;\n",
              "      box-shadow: 0px 1px 2px rgba(60, 64, 67, 0.3), 0px 1px 3px 1px rgba(60, 64, 67, 0.15);\n",
              "      fill: #174EA6;\n",
              "    }\n",
              "\n",
              "    .colab-df-buttons div {\n",
              "      margin-bottom: 4px;\n",
              "    }\n",
              "\n",
              "    [theme=dark] .colab-df-convert {\n",
              "      background-color: #3B4455;\n",
              "      fill: #D2E3FC;\n",
              "    }\n",
              "\n",
              "    [theme=dark] .colab-df-convert:hover {\n",
              "      background-color: #434B5C;\n",
              "      box-shadow: 0px 1px 3px 1px rgba(0, 0, 0, 0.15);\n",
              "      filter: drop-shadow(0px 1px 2px rgba(0, 0, 0, 0.3));\n",
              "      fill: #FFFFFF;\n",
              "    }\n",
              "  </style>\n",
              "\n",
              "    <script>\n",
              "      const buttonEl =\n",
              "        document.querySelector('#df-d30fc9f5-b8c5-492a-97ff-cb8b609313c3 button.colab-df-convert');\n",
              "      buttonEl.style.display =\n",
              "        google.colab.kernel.accessAllowed ? 'block' : 'none';\n",
              "\n",
              "      async function convertToInteractive(key) {\n",
              "        const element = document.querySelector('#df-d30fc9f5-b8c5-492a-97ff-cb8b609313c3');\n",
              "        const dataTable =\n",
              "          await google.colab.kernel.invokeFunction('convertToInteractive',\n",
              "                                                    [key], {});\n",
              "        if (!dataTable) return;\n",
              "\n",
              "        const docLinkHtml = 'Like what you see? Visit the ' +\n",
              "          '<a target=\"_blank\" href=https://colab.research.google.com/notebooks/data_table.ipynb>data table notebook</a>'\n",
              "          + ' to learn more about interactive tables.';\n",
              "        element.innerHTML = '';\n",
              "        dataTable['output_type'] = 'display_data';\n",
              "        await google.colab.output.renderOutput(dataTable, element);\n",
              "        const docLink = document.createElement('div');\n",
              "        docLink.innerHTML = docLinkHtml;\n",
              "        element.appendChild(docLink);\n",
              "      }\n",
              "    </script>\n",
              "  </div>\n",
              "\n",
              "\n",
              "<div id=\"df-c633f2e6-c19f-4c1f-9e59-406db1eb5823\">\n",
              "  <button class=\"colab-df-quickchart\" onclick=\"quickchart('df-c633f2e6-c19f-4c1f-9e59-406db1eb5823')\"\n",
              "            title=\"Suggest charts\"\n",
              "            style=\"display:none;\">\n",
              "\n",
              "<svg xmlns=\"http://www.w3.org/2000/svg\" height=\"24px\"viewBox=\"0 0 24 24\"\n",
              "     width=\"24px\">\n",
              "    <g>\n",
              "        <path d=\"M19 3H5c-1.1 0-2 .9-2 2v14c0 1.1.9 2 2 2h14c1.1 0 2-.9 2-2V5c0-1.1-.9-2-2-2zM9 17H7v-7h2v7zm4 0h-2V7h2v10zm4 0h-2v-4h2v4z\"/>\n",
              "    </g>\n",
              "</svg>\n",
              "  </button>\n",
              "\n",
              "<style>\n",
              "  .colab-df-quickchart {\n",
              "      --bg-color: #E8F0FE;\n",
              "      --fill-color: #1967D2;\n",
              "      --hover-bg-color: #E2EBFA;\n",
              "      --hover-fill-color: #174EA6;\n",
              "      --disabled-fill-color: #AAA;\n",
              "      --disabled-bg-color: #DDD;\n",
              "  }\n",
              "\n",
              "  [theme=dark] .colab-df-quickchart {\n",
              "      --bg-color: #3B4455;\n",
              "      --fill-color: #D2E3FC;\n",
              "      --hover-bg-color: #434B5C;\n",
              "      --hover-fill-color: #FFFFFF;\n",
              "      --disabled-bg-color: #3B4455;\n",
              "      --disabled-fill-color: #666;\n",
              "  }\n",
              "\n",
              "  .colab-df-quickchart {\n",
              "    background-color: var(--bg-color);\n",
              "    border: none;\n",
              "    border-radius: 50%;\n",
              "    cursor: pointer;\n",
              "    display: none;\n",
              "    fill: var(--fill-color);\n",
              "    height: 32px;\n",
              "    padding: 0;\n",
              "    width: 32px;\n",
              "  }\n",
              "\n",
              "  .colab-df-quickchart:hover {\n",
              "    background-color: var(--hover-bg-color);\n",
              "    box-shadow: 0 1px 2px rgba(60, 64, 67, 0.3), 0 1px 3px 1px rgba(60, 64, 67, 0.15);\n",
              "    fill: var(--button-hover-fill-color);\n",
              "  }\n",
              "\n",
              "  .colab-df-quickchart-complete:disabled,\n",
              "  .colab-df-quickchart-complete:disabled:hover {\n",
              "    background-color: var(--disabled-bg-color);\n",
              "    fill: var(--disabled-fill-color);\n",
              "    box-shadow: none;\n",
              "  }\n",
              "\n",
              "  .colab-df-spinner {\n",
              "    border: 2px solid var(--fill-color);\n",
              "    border-color: transparent;\n",
              "    border-bottom-color: var(--fill-color);\n",
              "    animation:\n",
              "      spin 1s steps(1) infinite;\n",
              "  }\n",
              "\n",
              "  @keyframes spin {\n",
              "    0% {\n",
              "      border-color: transparent;\n",
              "      border-bottom-color: var(--fill-color);\n",
              "      border-left-color: var(--fill-color);\n",
              "    }\n",
              "    20% {\n",
              "      border-color: transparent;\n",
              "      border-left-color: var(--fill-color);\n",
              "      border-top-color: var(--fill-color);\n",
              "    }\n",
              "    30% {\n",
              "      border-color: transparent;\n",
              "      border-left-color: var(--fill-color);\n",
              "      border-top-color: var(--fill-color);\n",
              "      border-right-color: var(--fill-color);\n",
              "    }\n",
              "    40% {\n",
              "      border-color: transparent;\n",
              "      border-right-color: var(--fill-color);\n",
              "      border-top-color: var(--fill-color);\n",
              "    }\n",
              "    60% {\n",
              "      border-color: transparent;\n",
              "      border-right-color: var(--fill-color);\n",
              "    }\n",
              "    80% {\n",
              "      border-color: transparent;\n",
              "      border-right-color: var(--fill-color);\n",
              "      border-bottom-color: var(--fill-color);\n",
              "    }\n",
              "    90% {\n",
              "      border-color: transparent;\n",
              "      border-bottom-color: var(--fill-color);\n",
              "    }\n",
              "  }\n",
              "</style>\n",
              "\n",
              "  <script>\n",
              "    async function quickchart(key) {\n",
              "      const quickchartButtonEl =\n",
              "        document.querySelector('#' + key + ' button');\n",
              "      quickchartButtonEl.disabled = true;  // To prevent multiple clicks.\n",
              "      quickchartButtonEl.classList.add('colab-df-spinner');\n",
              "      try {\n",
              "        const charts = await google.colab.kernel.invokeFunction(\n",
              "            'suggestCharts', [key], {});\n",
              "      } catch (error) {\n",
              "        console.error('Error during call to suggestCharts:', error);\n",
              "      }\n",
              "      quickchartButtonEl.classList.remove('colab-df-spinner');\n",
              "      quickchartButtonEl.classList.add('colab-df-quickchart-complete');\n",
              "    }\n",
              "    (() => {\n",
              "      let quickchartButtonEl =\n",
              "        document.querySelector('#df-c633f2e6-c19f-4c1f-9e59-406db1eb5823 button');\n",
              "      quickchartButtonEl.style.display =\n",
              "        google.colab.kernel.accessAllowed ? 'block' : 'none';\n",
              "    })();\n",
              "  </script>\n",
              "</div>\n",
              "\n",
              "    </div>\n",
              "  </div>\n"
            ],
            "application/vnd.google.colaboratory.intrinsic+json": {
              "type": "dataframe",
              "summary": "{\n  \"name\": \"df2\",\n  \"rows\": 8,\n  \"fields\": [\n    {\n      \"column\": \"Age\",\n      \"properties\": {\n        \"dtype\": \"number\",\n        \"std\": 1121.7645303331417,\n        \"min\": 10.0,\n        \"max\": 3206.0,\n        \"num_unique_values\": 8,\n        \"samples\": [\n          38.072052401746724,\n          38.0,\n          3206.0\n        ],\n        \"semantic_type\": \"\",\n        \"description\": \"\"\n      }\n    },\n    {\n      \"column\": \"CityTier\",\n      \"properties\": {\n        \"dtype\": \"number\",\n        \"std\": 1132.9180378038252,\n        \"min\": 0.669953680156153,\n        \"max\": 3206.0,\n        \"num_unique_values\": 6,\n        \"samples\": [\n          3206.0,\n          1.7021210230817219,\n          3.0\n        ],\n        \"semantic_type\": \"\",\n        \"description\": \"\"\n      }\n    },\n    {\n      \"column\": \"DurationOfPitch\",\n      \"properties\": {\n        \"dtype\": \"number\",\n        \"std\": 1016.9810556246059,\n        \"min\": 240.0,\n        \"max\": 3206.0,\n        \"num_unique_values\": 8,\n        \"samples\": [\n          860.5302557704305,\n          780.0,\n          3206.0\n        ],\n        \"semantic_type\": \"\",\n        \"description\": \"\"\n      }\n    },\n    {\n      \"column\": \"NumberOfPersonVisiting\",\n      \"properties\": {\n        \"dtype\": \"number\",\n        \"std\": 1132.7280038606261,\n        \"min\": 0.7305934150183273,\n        \"max\": 3206.0,\n        \"num_unique_values\": 7,\n        \"samples\": [\n          3206.0,\n          2.408608858390518,\n          3.0\n        ],\n        \"semantic_type\": \"\",\n        \"description\": \"\"\n      }\n    },\n    {\n      \"column\": \"NumberOfFollowups\",\n      \"properties\": {\n        \"dtype\": \"number\",\n        \"std\": 1132.3529415961273,\n        \"min\": 0.89068242720517,\n        \"max\": 3206.0,\n        \"num_unique_values\": 7,\n        \"samples\": [\n          3206.0,\n          3.689332501559576,\n          4.0\n        ],\n        \"semantic_type\": \"\",\n        \"description\": \"\"\n      }\n    },\n    {\n      \"column\": \"PreferredPropertyStar\",\n      \"properties\": {\n        \"dtype\": \"number\",\n        \"std\": 1132.3793054045996,\n        \"min\": 0.598258191951924,\n        \"max\": 3206.0,\n        \"num_unique_values\": 6,\n        \"samples\": [\n          3206.0,\n          3.4488459139114163,\n          5.0\n        ],\n        \"semantic_type\": \"\",\n        \"description\": \"\"\n      }\n    },\n    {\n      \"column\": \"NumberOfTrips\",\n      \"properties\": {\n        \"dtype\": \"number\",\n        \"std\": 1132.2834129555129,\n        \"min\": 1.0,\n        \"max\": 3206.0,\n        \"num_unique_values\": 8,\n        \"samples\": [\n          3.232064878353088,\n          3.0,\n          3206.0\n        ],\n        \"semantic_type\": \"\",\n        \"description\": \"\"\n      }\n    },\n    {\n      \"column\": \"Passport\",\n      \"properties\": {\n        \"dtype\": \"number\",\n        \"std\": 1133.420839981327,\n        \"min\": 0.0,\n        \"max\": 3206.0,\n        \"num_unique_values\": 5,\n        \"samples\": [\n          0.10573923892701186,\n          1.0,\n          0.30755154965532744\n        ],\n        \"semantic_type\": \"\",\n        \"description\": \"\"\n      }\n    },\n    {\n      \"column\": \"PitchSatisfactionScore\",\n      \"properties\": {\n        \"dtype\": \"number\",\n        \"std\": 1132.6549031821642,\n        \"min\": 1.0,\n        \"max\": 3206.0,\n        \"num_unique_values\": 7,\n        \"samples\": [\n          3206.0,\n          2.4831565814098564,\n          3.0\n        ],\n        \"semantic_type\": \"\",\n        \"description\": \"\"\n      }\n    },\n    {\n      \"column\": \"MonthlyIncome\",\n      \"properties\": {\n        \"dtype\": \"number\",\n        \"std\": 187997.58004640276,\n        \"min\": 3206.0,\n        \"max\": 600000.0,\n        \"num_unique_values\": 8,\n        \"samples\": [\n          358238.22988147225,\n          346515.0,\n          3206.0\n        ],\n        \"semantic_type\": \"\",\n        \"description\": \"\"\n      }\n    },\n    {\n      \"column\": \"ProdTaken\",\n      \"properties\": {\n        \"dtype\": \"number\",\n        \"std\": 1133.417238736682,\n        \"min\": 0.0,\n        \"max\": 3206.0,\n        \"num_unique_values\": 5,\n        \"samples\": [\n          0.13880224578914535,\n          1.0,\n          0.34579398365762315\n        ],\n        \"semantic_type\": \"\",\n        \"description\": \"\"\n      }\n    },\n    {\n      \"column\": \"\\u5b50\\u4f9b\\u306e\\u6570\",\n      \"properties\": {\n        \"dtype\": \"number\",\n        \"std\": 1133.0992771005983,\n        \"min\": 0.0,\n        \"max\": 3206.0,\n        \"num_unique_values\": 7,\n        \"samples\": [\n          3206.0,\n          0.9978165938864629,\n          2.0\n        ],\n        \"semantic_type\": \"\",\n        \"description\": \"\"\n      }\n    }\n  ]\n}"
            }
          },
          "metadata": {},
          "execution_count": 34
        }
      ]
    },
    {
      "cell_type": "code",
      "source": [
        "# column1のユニークな値を確認\n",
        "unique_values = df2['NumberOfFollowups'].unique()\n",
        "print(\"ユニークな値:\", unique_values)\n",
        "\n",
        "# column1の値のカウント\n",
        "value_counts = df2['NumberOfFollowups'].value_counts()\n",
        "print(\"\\n値のカウント:\\n\", value_counts)"
      ],
      "metadata": {
        "colab": {
          "base_uri": "https://localhost:8080/"
        },
        "id": "BVaty0QVKsra",
        "outputId": "d3240d20-aa40-4659-b0cd-1c880c3d03c7"
      },
      "execution_count": 35,
      "outputs": [
        {
          "output_type": "stream",
          "name": "stdout",
          "text": [
            "ユニークな値: [4. 3. 5. 1. 2. 6.]\n",
            "\n",
            "値のカウント:\n",
            " NumberOfFollowups\n",
            "4.0    1353\n",
            "3.0    1147\n",
            "5.0     493\n",
            "2.0     102\n",
            "1.0      72\n",
            "6.0      39\n",
            "Name: count, dtype: int64\n"
          ]
        }
      ]
    },
    {
      "cell_type": "code",
      "source": [
        "#　ProductPitched　が　basic　が成約しやすい\n",
        "grouped = df2.groupby(\"ProductPitched\")[\"ProdTaken\"].agg([\"mean\", \"count\"]).sort_values(by=\"count\", ascending=False)\n",
        "plt.bar(grouped.index, grouped[\"mean\"])\n",
        "plt.show()"
      ],
      "metadata": {
        "colab": {
          "base_uri": "https://localhost:8080/",
          "height": 430
        },
        "id": "fAKswRiDLdXH",
        "outputId": "8252df7f-868b-4cee-e3cf-2f5c55cf64d9"
      },
      "execution_count": 37,
      "outputs": [
        {
          "output_type": "display_data",
          "data": {
            "text/plain": [
              "<Figure size 640x480 with 1 Axes>"
            ],
            "image/png": "[encoded data removed]"
          },
          "metadata": {}
        }
      ]
    },
    {
      "cell_type": "code",
      "source": [
        "#　ホテルのランク　が　4　が成約しやすい\n",
        "grouped = df2.groupby(\"PreferredPropertyStar\")[\"ProdTaken\"].agg([\"mean\", \"count\"]).sort_values(by=\"count\", ascending=False)\n",
        "plt.bar(grouped.index, grouped[\"mean\"])\n",
        "plt.show()"
      ],
      "metadata": {
        "colab": {
          "base_uri": "https://localhost:8080/",
          "height": 430
        },
        "id": "-59e3-CpebtD",
        "outputId": "155b1008-3aa7-4fe4-eaac-1f9ecf7cdc78"
      },
      "execution_count": 38,
      "outputs": [
        {
          "output_type": "display_data",
          "data": {
            "text/plain": [
              "<Figure size 640x480 with 1 Axes>"
            ],
            "image/png": "[encoded data removed]"
          },
          "metadata": {}
        }
      ]
    },
    {
      "cell_type": "code",
      "source": [
        "#　年間旅行数　が　1、7、8　が成約しやすい\n",
        "grouped = df2.groupby(\"NumberOfTrips\")[\"ProdTaken\"].agg([\"mean\", \"count\"]).sort_values(by=\"count\", ascending=False)\n",
        "plt.bar(grouped.index, grouped[\"mean\"])\n",
        "plt.show()"
      ],
      "metadata": {
        "colab": {
          "base_uri": "https://localhost:8080/",
          "height": 430
        },
        "id": "d4gworryeq-6",
        "outputId": "339c50c9-12af-4167-9894-c9addf687715"
      },
      "execution_count": 39,
      "outputs": [
        {
          "output_type": "display_data",
          "data": {
            "text/plain": [
              "<Figure size 640x480 with 1 Axes>"
            ],
            "image/png": "[encoded data removed]"
          },
          "metadata": {}
        }
      ]
    },
    {
      "cell_type": "code",
      "source": [
        "#　パスポート　が　所持　が成約しやすい\n",
        "grouped = df2.groupby(\"Passport\")[\"ProdTaken\"].agg([\"mean\", \"count\"]).sort_values(by=\"count\", ascending=False)\n",
        "plt.bar(grouped.index, grouped[\"mean\"])\n",
        "plt.show()"
      ],
      "metadata": {
        "colab": {
          "base_uri": "https://localhost:8080/",
          "height": 430
        },
        "id": "xdVNDvv8fDYO",
        "outputId": "30a7b57a-6bc4-45bc-afab-96edff57ea11"
      },
      "execution_count": 40,
      "outputs": [
        {
          "output_type": "display_data",
          "data": {
            "text/plain": [
              "<Figure size 640x480 with 1 Axes>"
            ],
            "image/png": "[encoded data removed]"
          },
          "metadata": {}
        }
      ]
    },
    {
      "cell_type": "code",
      "source": [
        "#　セールストーク満足度　が　2以上　が成約しやすい\n",
        "grouped = df2.groupby(\"PitchSatisfactionScore\")[\"ProdTaken\"].agg([\"mean\", \"count\"]).sort_values(by=\"count\", ascending=False)\n",
        "plt.bar(grouped.index, grouped[\"mean\"])\n",
        "plt.show()"
      ],
      "metadata": {
        "colab": {
          "base_uri": "https://localhost:8080/",
          "height": 430
        },
        "id": "OKYc75f6fTrN",
        "outputId": "b1daa5d6-0ed0-465c-ec7c-895deb8dcda8"
      },
      "execution_count": 41,
      "outputs": [
        {
          "output_type": "display_data",
          "data": {
            "text/plain": [
              "<Figure size 640x480 with 1 Axes>"
            ],
            "image/png": "[encoded data removed]"
          },
          "metadata": {}
        }
      ]
    },
    {
      "cell_type": "code",
      "source": [
        "#　顧客の役職　が　Executive　が成約しやすい\n",
        "grouped = df2.groupby(\"Designation\")[\"ProdTaken\"].agg([\"mean\", \"count\"]).sort_values(by=\"count\", ascending=False)\n",
        "plt.bar(grouped.index, grouped[\"mean\"])\n",
        "plt.show()"
      ],
      "metadata": {
        "colab": {
          "base_uri": "https://localhost:8080/",
          "height": 430
        },
        "id": "vnPmoZrgfgJV",
        "outputId": "5d27afbd-e53d-4e01-ad8f-4269ed77fa87"
      },
      "execution_count": 42,
      "outputs": [
        {
          "output_type": "display_data",
          "data": {
            "text/plain": [
              "<Figure size 640x480 with 1 Axes>"
            ],
            "image/png": "[encoded data removed]"
          },
          "metadata": {}
        }
      ]
    },
    {
      "cell_type": "code",
      "source": [
        "# 月収が　25〜30万円　が成約しやすい\n",
        "import matplotlib.pyplot as plt\n",
        "\n",
        "# ProdTakenが1の行をフィルタリング\n",
        "filtered_data1 = df2[df2['ProdTaken'] == 1]\n",
        "filtered_data0 = df2[df2['ProdTaken'] == 0]\n",
        "\n",
        "# MonthlyIncomeのヒストグラムを作成\n",
        "plt.figure(figsize=(8, 6))\n",
        "\n",
        "# ProdTaken = 1のデータのヒストグラム\n",
        "plt.hist(filtered_data1['MonthlyIncome'], bins=20, color='skyblue', edgecolor='black', alpha=0.5, label='ProdTaken = 1')\n",
        "\n",
        "# ProdTaken = 0のデータのヒストグラム\n",
        "plt.hist(filtered_data0['MonthlyIncome'], bins=20, color='salmon', edgecolor='black', alpha=0.5, label='ProdTaken = 0')\n",
        "\n",
        "# グラフの詳細設定\n",
        "plt.title('Histogram of Monthly Income (ProdTaken = 1 and ProdTaken = 0)')\n",
        "plt.xlabel('Monthly Income')\n",
        "plt.ylabel('Frequency')\n",
        "plt.legend()  # 凡例を追加\n",
        "\n",
        "plt.show()\n",
        "\n"
      ],
      "metadata": {
        "colab": {
          "base_uri": "https://localhost:8080/",
          "height": 564
        },
        "id": "eBOKECGnf0Rv",
        "outputId": "7968c976-ef8d-4ced-8c1b-348dd1cd0508"
      },
      "execution_count": 47,
      "outputs": [
        {
          "output_type": "display_data",
          "data": {
            "text/plain": [
              "<Figure size 800x600 with 1 Axes>"
            ],
            "image/png": "[encoded data removed]"
          },
          "metadata": {}
        }
      ]
    },
    {
      "cell_type": "code",
      "source": [
        "# 未婚の人が　成約しやすい\n",
        "# 各 \"結婚\" グループごとの ProdTaken = 1 の割合を計算\n",
        "percentage_taken = df2.groupby(\"結婚\")[\"ProdTaken\"].mean()\n",
        "\n",
        "# 結果を表示\n",
        "print(percentage_taken)\n"
      ],
      "metadata": {
        "colab": {
          "base_uri": "https://localhost:8080/"
        },
        "id": "24c2fzlhgCNq",
        "outputId": "4fecf309-1e44-47e2-9ddf-f44b78fd2cb4"
      },
      "execution_count": 51,
      "outputs": [
        {
          "output_type": "stream",
          "name": "stdout",
          "text": [
            "結婚\n",
            "未婚      0.205699\n",
            "結婚済み    0.094192\n",
            "離婚済み    0.116193\n",
            "Name: ProdTaken, dtype: float64\n"
          ]
        }
      ]
    },
    {
      "cell_type": "code",
      "source": [
        "# 車なしの人が　成約しやすい\n",
        "# 各 \"車\" グループごとの ProdTaken = 1 の割合を計算\n",
        "percentage_taken = df2.groupby(\"車\")[\"ProdTaken\"].mean()\n",
        "\n",
        "# 結果を表示\n",
        "print(percentage_taken)"
      ],
      "metadata": {
        "colab": {
          "base_uri": "https://localhost:8080/"
        },
        "id": "V-oR3y1Fit3H",
        "outputId": "dda2cb96-fe7c-4b96-b8f4-60fb1993003a"
      },
      "execution_count": 52,
      "outputs": [
        {
          "output_type": "stream",
          "name": "stdout",
          "text": [
            "車\n",
            "車あり    0.116883\n",
            "車なし    0.153927\n",
            "Name: ProdTaken, dtype: float64\n"
          ]
        }
      ]
    },
    {
      "cell_type": "code",
      "source": [
        "# 子供の数が　少ない方が　成約しやすい\n",
        "# 各 \"車\" グループごとの ProdTaken = 1 の割合を計算\n",
        "percentage_taken = df2.groupby(\"子供の数\")[\"ProdTaken\"].mean()\n",
        "\n",
        "# 結果を表示\n",
        "print(percentage_taken)"
      ],
      "metadata": {
        "colab": {
          "base_uri": "https://localhost:8080/"
        },
        "id": "uQXVjs6CkFCj",
        "outputId": "e7fa23fb-f7c4-4622-abe4-6c4685fc4ac1"
      },
      "execution_count": 54,
      "outputs": [
        {
          "output_type": "stream",
          "name": "stdout",
          "text": [
            "子供の数\n",
            "0    0.205788\n",
            "1    0.111503\n",
            "2    0.114504\n",
            "3    0.071429\n",
            "Name: ProdTaken, dtype: float64\n"
          ]
        }
      ]
    },
    {
      "cell_type": "code",
      "source": [
        "# object を int に変換　TypeofContact、Occupation、Gender、ProductPitched、Designation、結婚、車\n",
        "df2 = df.copy()\n",
        "\n",
        "# 各 TypeofContact ごとの 成約 の割合を計算\n",
        "rates1 = df.groupby('TypeofContact')['ProdTaken'].value_counts(normalize=True).unstack().fillna(0)\n",
        "rates1 = rates1[1]  # 成約 のみを抽出\n",
        "# 各 Occupation ごとの 成約 の割合を計算\n",
        "rates2 = df2.groupby('Occupation')['ProdTaken'].value_counts(normalize=True).unstack().fillna(0)\n",
        "rates2 = rates2[1]  # Charged Off のみを抽出\n",
        "# 各 Gender ごとの 成約 の割合を計算\n",
        "rates3 = df2.groupby('Gender')['ProdTaken'].value_counts(normalize=True).unstack().fillna(0)\n",
        "rates3 = rates3[1]  # Charged Off のみを抽出\n",
        "# 各 ProductPitched ごとの 成約 の割合を計算\n",
        "rates4 = df2.groupby('ProductPitched')['ProdTaken'].value_counts(normalize=True).unstack().fillna(0)\n",
        "rates4 = rates4[1]  # Charged Off のみを抽出\n",
        "# 各 Designation ごとの 成約 の割合を計算\n",
        "rates5 = df2.groupby('Designation')['ProdTaken'].value_counts(normalize=True).unstack().fillna(0)\n",
        "rates5 = rates5[1]  # Charged Off のみを抽出\n",
        "# 各 結婚 ごとの 成約 の割合を計算\n",
        "rates6 = df2.groupby('結婚')['ProdTaken'].value_counts(normalize=True).unstack().fillna(0)\n",
        "rates6 = rates6[1]  # Charged Off のみを抽出\n",
        "# 各 車 ごとの 成約 の割合を計算\n",
        "rates7 = df2.groupby('車')['ProdTaken'].value_counts(normalize=True).unstack().fillna(0)\n",
        "rates7 = rates7[1]  # Charged Off のみを抽出\n",
        "\n",
        "# dfのTypeofContact列をratesに基づいて数値に変換\n",
        "df2['TypeofContact'] = df2['TypeofContact'].map(rates1)\n",
        "df2['Occupation'] = df2['Occupation'].map(rates2)\n",
        "df2['Gender'] = df2['Gender'].map(rates3)\n",
        "df2['ProductPitched'] = df2['ProductPitched'].map(rates4)\n",
        "df2['Designation'] = df2['Designation'].map(rates5)\n",
        "df2['結婚'] = df2['結婚'].map(rates6)\n",
        "df2['車'] = df2['車'].map(rates7)\n",
        "\n",
        "df2.info()\n",
        "\n",
        "\n"
      ],
      "metadata": {
        "colab": {
          "base_uri": "https://localhost:8080/"
        },
        "id": "aK7kJiBCkNz0",
        "outputId": "9dbb7c8d-1aa0-4b90-835c-bc17f67212c6"
      },
      "execution_count": 56,
      "outputs": [
        {
          "output_type": "stream",
          "name": "stdout",
          "text": [
            "<class 'pandas.core.frame.DataFrame'>\n",
            "Index: 3206 entries, 0 to 3488\n",
            "Data columns (total 20 columns):\n",
            " #   Column                  Non-Null Count  Dtype  \n",
            "---  ------                  --------------  -----  \n",
            " 0   Age                     3206 non-null   int64  \n",
            " 1   TypeofContact           3206 non-null   float64\n",
            " 2   CityTier                3206 non-null   int64  \n",
            " 3   DurationOfPitch         3206 non-null   int64  \n",
            " 4   Occupation              3206 non-null   float64\n",
            " 5   Gender                  3206 non-null   float64\n",
            " 6   NumberOfPersonVisiting  3206 non-null   float64\n",
            " 7   NumberOfFollowups       3206 non-null   float64\n",
            " 8   ProductPitched          3206 non-null   float64\n",
            " 9   PreferredPropertyStar   3206 non-null   float64\n",
            " 10  NumberOfTrips           3206 non-null   int64  \n",
            " 11  Passport                3206 non-null   int64  \n",
            " 12  PitchSatisfactionScore  3206 non-null   int64  \n",
            " 13  Designation             3206 non-null   float64\n",
            " 14  MonthlyIncome           3206 non-null   int64  \n",
            " 15  customer_info           3206 non-null   object \n",
            " 16  ProdTaken               3206 non-null   int64  \n",
            " 17  結婚                      3206 non-null   float64\n",
            " 18  車                       3206 non-null   float64\n",
            " 19  子供の数                    3206 non-null   int64  \n",
            "dtypes: float64(10), int64(9), object(1)\n",
            "memory usage: 526.0+ KB\n"
          ]
        }
      ]
    },
    {
      "cell_type": "code",
      "source": [
        "df2.to_csv('df_train.csv')"
      ],
      "metadata": {
        "id": "DiMDK0DJkgku"
      },
      "execution_count": 57,
      "outputs": []
    },
    {
      "cell_type": "code",
      "source": [
        "df3 = pd.read_csv('/content/test.csv')\n",
        "df3.head()"
      ],
      "metadata": {
        "colab": {
          "base_uri": "https://localhost:8080/",
          "height": 360
        },
        "id": "VHSDT7ohmYM1",
        "outputId": "260b75bb-428f-492e-b469-864e08bc2091"
      },
      "execution_count": 74,
      "outputs": [
        {
          "output_type": "execute_result",
          "data": {
            "text/plain": [
              "     id  Age    TypeofContact  CityTier DurationOfPitch      Occupation  \\\n",
              "0  3489  ４８歳     Self Enquiry         2             13分  Small Business   \n",
              "1  3490  30代     Self Enquiry         2             12分  Small Business   \n",
              "2  3491  25歳     Self Enquiry         1            540秒        Salaried   \n",
              "3  3492  21歳  Company Invited         2            420秒        Salaried   \n",
              "4  3493  41歳  Company Invited         1              7分        Salaried   \n",
              "\n",
              "   Gender  NumberOfPersonVisiting  NumberOfFollowups ProductPitched  \\\n",
              "0    Male                     1.0                4.0   Super De|uxe   \n",
              "1  Ｆｅｍａｌｅ                     1.0                4.0       Standard   \n",
              "2  Female                     1.0                4.0          Basic   \n",
              "3    Male                     1.0                4.0          Basic   \n",
              "4    MALE                     1.0                4.0          Basic   \n",
              "\n",
              "   PreferredPropertyStar NumberOfTrips  Passport  PitchSatisfactionScore  \\\n",
              "0                    3.0             7         0                       3   \n",
              "1                    3.0             4         1                       3   \n",
              "2                    3.0             1         0                       3   \n",
              "3                    4.0             1         0                       3   \n",
              "4                    3.0             1         0                       4   \n",
              "\n",
              "      Designation MonthlyIncome     customer_info  \n",
              "0             AVP      496950.0     結婚済み 車所持 子供なし  \n",
              "1  Senior Manager      月収30.0万円    結婚済み、車未所持、子供なし  \n",
              "2       Executive      月収26.0万円  離婚済み、自動車未所有、子供なし  \n",
              "3  Senior Manager      259875.0   離婚済み、自動車所有、子供なし  \n",
              "4       Executive      268830.0       独身/車所持／子供なし  "
            ],
            "text/html": [
              "\n",
              "  <div id=\"df-9b70492f-4933-4c8a-9d27-0f1f563ea671\" class=\"colab-df-container\">\n",
              "    <div>\n",
              "<style scoped>\n",
              "    .dataframe tbody tr th:only-of-type {\n",
              "        vertical-align: middle;\n",
              "    }\n",
              "\n",
              "    .dataframe tbody tr th {\n",
              "        vertical-align: top;\n",
              "    }\n",
              "\n",
              "    .dataframe thead th {\n",
              "        text-align: right;\n",
              "    }\n",
              "</style>\n",
              "<table border=\"1\" class=\"dataframe\">\n",
              "  <thead>\n",
              "    <tr style=\"text-align: right;\">\n",
              "      <th></th>\n",
              "      <th>id</th>\n",
              "      <th>Age</th>\n",
              "      <th>TypeofContact</th>\n",
              "      <th>CityTier</th>\n",
              "      <th>DurationOfPitch</th>\n",
              "      <th>Occupation</th>\n",
              "      <th>Gender</th>\n",
              "      <th>NumberOfPersonVisiting</th>\n",
              "      <th>NumberOfFollowups</th>\n",
              "      <th>ProductPitched</th>\n",
              "      <th>PreferredPropertyStar</th>\n",
              "      <th>NumberOfTrips</th>\n",
              "      <th>Passport</th>\n",
              "      <th>PitchSatisfactionScore</th>\n",
              "      <th>Designation</th>\n",
              "      <th>MonthlyIncome</th>\n",
              "      <th>customer_info</th>\n",
              "    </tr>\n",
              "  </thead>\n",
              "  <tbody>\n",
              "    <tr>\n",
              "      <th>0</th>\n",
              "      <td>3489</td>\n",
              "      <td>４８歳</td>\n",
              "      <td>Self Enquiry</td>\n",
              "      <td>2</td>\n",
              "      <td>13分</td>\n",
              "      <td>Small Business</td>\n",
              "      <td>Male</td>\n",
              "      <td>1.0</td>\n",
              "      <td>4.0</td>\n",
              "      <td>Super De|uxe</td>\n",
              "      <td>3.0</td>\n",
              "      <td>7</td>\n",
              "      <td>0</td>\n",
              "      <td>3</td>\n",
              "      <td>AVP</td>\n",
              "      <td>496950.0</td>\n",
              "      <td>結婚済み 車所持 子供なし</td>\n",
              "    </tr>\n",
              "    <tr>\n",
              "      <th>1</th>\n",
              "      <td>3490</td>\n",
              "      <td>30代</td>\n",
              "      <td>Self Enquiry</td>\n",
              "      <td>2</td>\n",
              "      <td>12分</td>\n",
              "      <td>Small Business</td>\n",
              "      <td>Ｆｅｍａｌｅ</td>\n",
              "      <td>1.0</td>\n",
              "      <td>4.0</td>\n",
              "      <td>Standard</td>\n",
              "      <td>3.0</td>\n",
              "      <td>4</td>\n",
              "      <td>1</td>\n",
              "      <td>3</td>\n",
              "      <td>Senior Manager</td>\n",
              "      <td>月収30.0万円</td>\n",
              "      <td>結婚済み、車未所持、子供なし</td>\n",
              "    </tr>\n",
              "    <tr>\n",
              "      <th>2</th>\n",
              "      <td>3491</td>\n",
              "      <td>25歳</td>\n",
              "      <td>Self Enquiry</td>\n",
              "      <td>1</td>\n",
              "      <td>540秒</td>\n",
              "      <td>Salaried</td>\n",
              "      <td>Female</td>\n",
              "      <td>1.0</td>\n",
              "      <td>4.0</td>\n",
              "      <td>Basic</td>\n",
              "      <td>3.0</td>\n",
              "      <td>1</td>\n",
              "      <td>0</td>\n",
              "      <td>3</td>\n",
              "      <td>Executive</td>\n",
              "      <td>月収26.0万円</td>\n",
              "      <td>離婚済み、自動車未所有、子供なし</td>\n",
              "    </tr>\n",
              "    <tr>\n",
              "      <th>3</th>\n",
              "      <td>3492</td>\n",
              "      <td>21歳</td>\n",
              "      <td>Company Invited</td>\n",
              "      <td>2</td>\n",
              "      <td>420秒</td>\n",
              "      <td>Salaried</td>\n",
              "      <td>Male</td>\n",
              "      <td>1.0</td>\n",
              "      <td>4.0</td>\n",
              "      <td>Basic</td>\n",
              "      <td>4.0</td>\n",
              "      <td>1</td>\n",
              "      <td>0</td>\n",
              "      <td>3</td>\n",
              "      <td>Senior Manager</td>\n",
              "      <td>259875.0</td>\n",
              "      <td>離婚済み、自動車所有、子供なし</td>\n",
              "    </tr>\n",
              "    <tr>\n",
              "      <th>4</th>\n",
              "      <td>3493</td>\n",
              "      <td>41歳</td>\n",
              "      <td>Company Invited</td>\n",
              "      <td>1</td>\n",
              "      <td>7分</td>\n",
              "      <td>Salaried</td>\n",
              "      <td>MALE</td>\n",
              "      <td>1.0</td>\n",
              "      <td>4.0</td>\n",
              "      <td>Basic</td>\n",
              "      <td>3.0</td>\n",
              "      <td>1</td>\n",
              "      <td>0</td>\n",
              "      <td>4</td>\n",
              "      <td>Executive</td>\n",
              "      <td>268830.0</td>\n",
              "      <td>独身/車所持／子供なし</td>\n",
              "    </tr>\n",
              "  </tbody>\n",
              "</table>\n",
              "</div>\n",
              "    <div class=\"colab-df-buttons\">\n",
              "\n",
              "  <div class=\"colab-df-container\">\n",
              "    <button class=\"colab-df-convert\" onclick=\"convertToInteractive('df-9b70492f-4933-4c8a-9d27-0f1f563ea671')\"\n",
              "            title=\"Convert this dataframe to an interactive table.\"\n",
              "            style=\"display:none;\">\n",
              "\n",
              "  <svg xmlns=\"http://www.w3.org/2000/svg\" height=\"24px\" viewBox=\"0 -960 960 960\">\n",
              "    <path d=\"M120-120v-720h720v720H120Zm60-500h600v-160H180v160Zm220 220h160v-160H400v160Zm0 220h160v-160H400v160ZM180-400h160v-160H180v160Zm440 0h160v-160H620v160ZM180-180h160v-160H180v160Zm440 0h160v-160H620v160Z\"/>\n",
              "  </svg>\n",
              "    </button>\n",
              "\n",
              "  <style>\n",
              "    .colab-df-container {\n",
              "      display:flex;\n",
              "      gap: 12px;\n",
              "    }\n",
              "\n",
              "    .colab-df-convert {\n",
              "      background-color: #E8F0FE;\n",
              "      border: none;\n",
              "      border-radius: 50%;\n",
              "      cursor: pointer;\n",
              "      display: none;\n",
              "      fill: #1967D2;\n",
              "      height: 32px;\n",
              "      padding: 0 0 0 0;\n",
              "      width: 32px;\n",
              "    }\n",
              "\n",
              "    .colab-df-convert:hover {\n",
              "      background-color: #E2EBFA;\n",
              "      box-shadow: 0px 1px 2px rgba(60, 64, 67, 0.3), 0px 1px 3px 1px rgba(60, 64, 67, 0.15);\n",
              "      fill: #174EA6;\n",
              "    }\n",
              "\n",
              "    .colab-df-buttons div {\n",
              "      margin-bottom: 4px;\n",
              "    }\n",
              "\n",
              "    [theme=dark] .colab-df-convert {\n",
              "      background-color: #3B4455;\n",
              "      fill: #D2E3FC;\n",
              "    }\n",
              "\n",
              "    [theme=dark] .colab-df-convert:hover {\n",
              "      background-color: #434B5C;\n",
              "      box-shadow: 0px 1px 3px 1px rgba(0, 0, 0, 0.15);\n",
              "      filter: drop-shadow(0px 1px 2px rgba(0, 0, 0, 0.3));\n",
              "      fill: #FFFFFF;\n",
              "    }\n",
              "  </style>\n",
              "\n",
              "    <script>\n",
              "      const buttonEl =\n",
              "        document.querySelector('#df-9b70492f-4933-4c8a-9d27-0f1f563ea671 button.colab-df-convert');\n",
              "      buttonEl.style.display =\n",
              "        google.colab.kernel.accessAllowed ? 'block' : 'none';\n",
              "\n",
              "      async function convertToInteractive(key) {\n",
              "        const element = document.querySelector('#df-9b70492f-4933-4c8a-9d27-0f1f563ea671');\n",
              "        const dataTable =\n",
              "          await google.colab.kernel.invokeFunction('convertToInteractive',\n",
              "                                                    [key], {});\n",
              "        if (!dataTable) return;\n",
              "\n",
              "        const docLinkHtml = 'Like what you see? Visit the ' +\n",
              "          '<a target=\"_blank\" href=https://colab.research.google.com/notebooks/data_table.ipynb>data table notebook</a>'\n",
              "          + ' to learn more about interactive tables.';\n",
              "        element.innerHTML = '';\n",
              "        dataTable['output_type'] = 'display_data';\n",
              "        await google.colab.output.renderOutput(dataTable, element);\n",
              "        const docLink = document.createElement('div');\n",
              "        docLink.innerHTML = docLinkHtml;\n",
              "        element.appendChild(docLink);\n",
              "      }\n",
              "    </script>\n",
              "  </div>\n",
              "\n",
              "\n",
              "<div id=\"df-1709024a-9436-4eff-986c-99128a71146c\">\n",
              "  <button class=\"colab-df-quickchart\" onclick=\"quickchart('df-1709024a-9436-4eff-986c-99128a71146c')\"\n",
              "            title=\"Suggest charts\"\n",
              "            style=\"display:none;\">\n",
              "\n",
              "<svg xmlns=\"http://www.w3.org/2000/svg\" height=\"24px\"viewBox=\"0 0 24 24\"\n",
              "     width=\"24px\">\n",
              "    <g>\n",
              "        <path d=\"M19 3H5c-1.1 0-2 .9-2 2v14c0 1.1.9 2 2 2h14c1.1 0 2-.9 2-2V5c0-1.1-.9-2-2-2zM9 17H7v-7h2v7zm4 0h-2V7h2v10zm4 0h-2v-4h2v4z\"/>\n",
              "    </g>\n",
              "</svg>\n",
              "  </button>\n",
              "\n",
              "<style>\n",
              "  .colab-df-quickchart {\n",
              "      --bg-color: #E8F0FE;\n",
              "      --fill-color: #1967D2;\n",
              "      --hover-bg-color: #E2EBFA;\n",
              "      --hover-fill-color: #174EA6;\n",
              "      --disabled-fill-color: #AAA;\n",
              "      --disabled-bg-color: #DDD;\n",
              "  }\n",
              "\n",
              "  [theme=dark] .colab-df-quickchart {\n",
              "      --bg-color: #3B4455;\n",
              "      --fill-color: #D2E3FC;\n",
              "      --hover-bg-color: #434B5C;\n",
              "      --hover-fill-color: #FFFFFF;\n",
              "      --disabled-bg-color: #3B4455;\n",
              "      --disabled-fill-color: #666;\n",
              "  }\n",
              "\n",
              "  .colab-df-quickchart {\n",
              "    background-color: var(--bg-color);\n",
              "    border: none;\n",
              "    border-radius: 50%;\n",
              "    cursor: pointer;\n",
              "    display: none;\n",
              "    fill: var(--fill-color);\n",
              "    height: 32px;\n",
              "    padding: 0;\n",
              "    width: 32px;\n",
              "  }\n",
              "\n",
              "  .colab-df-quickchart:hover {\n",
              "    background-color: var(--hover-bg-color);\n",
              "    box-shadow: 0 1px 2px rgba(60, 64, 67, 0.3), 0 1px 3px 1px rgba(60, 64, 67, 0.15);\n",
              "    fill: var(--button-hover-fill-color);\n",
              "  }\n",
              "\n",
              "  .colab-df-quickchart-complete:disabled,\n",
              "  .colab-df-quickchart-complete:disabled:hover {\n",
              "    background-color: var(--disabled-bg-color);\n",
              "    fill: var(--disabled-fill-color);\n",
              "    box-shadow: none;\n",
              "  }\n",
              "\n",
              "  .colab-df-spinner {\n",
              "    border: 2px solid var(--fill-color);\n",
              "    border-color: transparent;\n",
              "    border-bottom-color: var(--fill-color);\n",
              "    animation:\n",
              "      spin 1s steps(1) infinite;\n",
              "  }\n",
              "\n",
              "  @keyframes spin {\n",
              "    0% {\n",
              "      border-color: transparent;\n",
              "      border-bottom-color: var(--fill-color);\n",
              "      border-left-color: var(--fill-color);\n",
              "    }\n",
              "    20% {\n",
              "      border-color: transparent;\n",
              "      border-left-color: var(--fill-color);\n",
              "      border-top-color: var(--fill-color);\n",
              "    }\n",
              "    30% {\n",
              "      border-color: transparent;\n",
              "      border-left-color: var(--fill-color);\n",
              "      border-top-color: var(--fill-color);\n",
              "      border-right-color: var(--fill-color);\n",
              "    }\n",
              "    40% {\n",
              "      border-color: transparent;\n",
              "      border-right-color: var(--fill-color);\n",
              "      border-top-color: var(--fill-color);\n",
              "    }\n",
              "    60% {\n",
              "      border-color: transparent;\n",
              "      border-right-color: var(--fill-color);\n",
              "    }\n",
              "    80% {\n",
              "      border-color: transparent;\n",
              "      border-right-color: var(--fill-color);\n",
              "      border-bottom-color: var(--fill-color);\n",
              "    }\n",
              "    90% {\n",
              "      border-color: transparent;\n",
              "      border-bottom-color: var(--fill-color);\n",
              "    }\n",
              "  }\n",
              "</style>\n",
              "\n",
              "  <script>\n",
              "    async function quickchart(key) {\n",
              "      const quickchartButtonEl =\n",
              "        document.querySelector('#' + key + ' button');\n",
              "      quickchartButtonEl.disabled = true;  // To prevent multiple clicks.\n",
              "      quickchartButtonEl.classList.add('colab-df-spinner');\n",
              "      try {\n",
              "        const charts = await google.colab.kernel.invokeFunction(\n",
              "            'suggestCharts', [key], {});\n",
              "      } catch (error) {\n",
              "        console.error('Error during call to suggestCharts:', error);\n",
              "      }\n",
              "      quickchartButtonEl.classList.remove('colab-df-spinner');\n",
              "      quickchartButtonEl.classList.add('colab-df-quickchart-complete');\n",
              "    }\n",
              "    (() => {\n",
              "      let quickchartButtonEl =\n",
              "        document.querySelector('#df-1709024a-9436-4eff-986c-99128a71146c button');\n",
              "      quickchartButtonEl.style.display =\n",
              "        google.colab.kernel.accessAllowed ? 'block' : 'none';\n",
              "    })();\n",
              "  </script>\n",
              "</div>\n",
              "\n",
              "    </div>\n",
              "  </div>\n"
            ],
            "application/vnd.google.colaboratory.intrinsic+json": {
              "type": "dataframe",
              "variable_name": "df3",
              "summary": "{\n  \"name\": \"df3\",\n  \"rows\": 3489,\n  \"fields\": [\n    {\n      \"column\": \"id\",\n      \"properties\": {\n        \"dtype\": \"number\",\n        \"std\": 1007,\n        \"min\": 3489,\n        \"max\": 6977,\n        \"num_unique_values\": 3489,\n        \"samples\": [\n          3784,\n          6357,\n          6863\n        ],\n        \"semantic_type\": \"\",\n        \"description\": \"\"\n      }\n    },\n    {\n      \"column\": \"Age\",\n      \"properties\": {\n        \"dtype\": \"category\",\n        \"num_unique_values\": 236,\n        \"samples\": [\n          \"\\uff13\\uff13\\u6b73\",\n          \"25\\u624d\",\n          \"48\\u624d\"\n        ],\n        \"semantic_type\": \"\",\n        \"description\": \"\"\n      }\n    },\n    {\n      \"column\": \"TypeofContact\",\n      \"properties\": {\n        \"dtype\": \"category\",\n        \"num_unique_values\": 2,\n        \"samples\": [\n          \"Company Invited\",\n          \"Self Enquiry\"\n        ],\n        \"semantic_type\": \"\",\n        \"description\": \"\"\n      }\n    },\n    {\n      \"column\": \"CityTier\",\n      \"properties\": {\n        \"dtype\": \"number\",\n        \"std\": 0,\n        \"min\": 1,\n        \"max\": 3,\n        \"num_unique_values\": 3,\n        \"samples\": [\n          2,\n          1\n        ],\n        \"semantic_type\": \"\",\n        \"description\": \"\"\n      }\n    },\n    {\n      \"column\": \"DurationOfPitch\",\n      \"properties\": {\n        \"dtype\": \"category\",\n        \"num_unique_values\": 65,\n        \"samples\": [\n          \"25\\u5206\",\n          \"1440\\u79d2\"\n        ],\n        \"semantic_type\": \"\",\n        \"description\": \"\"\n      }\n    },\n    {\n      \"column\": \"Occupation\",\n      \"properties\": {\n        \"dtype\": \"category\",\n        \"num_unique_values\": 3,\n        \"samples\": [\n          \"Small Business\",\n          \"Salaried\"\n        ],\n        \"semantic_type\": \"\",\n        \"description\": \"\"\n      }\n    },\n    {\n      \"column\": \"Gender\",\n      \"properties\": {\n        \"dtype\": \"category\",\n        \"num_unique_values\": 17,\n        \"samples\": [\n          \"Male\",\n          \"\\uff26\\uff45\\uff4d\\uff41\\uff4c\\uff45\"\n        ],\n        \"semantic_type\": \"\",\n        \"description\": \"\"\n      }\n    },\n    {\n      \"column\": \"NumberOfPersonVisiting\",\n      \"properties\": {\n        \"dtype\": \"number\",\n        \"std\": 0.7416276268547141,\n        \"min\": 1.0,\n        \"max\": 4.0,\n        \"num_unique_values\": 4,\n        \"samples\": [\n          2.0,\n          4.0\n        ],\n        \"semantic_type\": \"\",\n        \"description\": \"\"\n      }\n    },\n    {\n      \"column\": \"NumberOfFollowups\",\n      \"properties\": {\n        \"dtype\": \"number\",\n        \"std\": 34.89022980284697,\n        \"min\": 1.0,\n        \"max\": 500.0,\n        \"num_unique_values\": 11,\n        \"samples\": [\n          1.0,\n          4.0\n        ],\n        \"semantic_type\": \"\",\n        \"description\": \"\"\n      }\n    },\n    {\n      \"column\": \"ProductPitched\",\n      \"properties\": {\n        \"dtype\": \"category\",\n        \"num_unique_values\": 71,\n        \"samples\": [\n          \"Super \\ud835\\ude73eluxe\",\n          \"Super De|uxe\"\n        ],\n        \"semantic_type\": \"\",\n        \"description\": \"\"\n      }\n    },\n    {\n      \"column\": \"PreferredPropertyStar\",\n      \"properties\": {\n        \"dtype\": \"number\",\n        \"std\": 0.5996183606531339,\n        \"min\": 3.0,\n        \"max\": 5.0,\n        \"num_unique_values\": 3,\n        \"samples\": [\n          3.0,\n          4.0\n        ],\n        \"semantic_type\": \"\",\n        \"description\": \"\"\n      }\n    },\n    {\n      \"column\": \"NumberOfTrips\",\n      \"properties\": {\n        \"dtype\": \"category\",\n        \"num_unique_values\": 18,\n        \"samples\": [\n          \"7\",\n          \"4\"\n        ],\n        \"semantic_type\": \"\",\n        \"description\": \"\"\n      }\n    },\n    {\n      \"column\": \"Passport\",\n      \"properties\": {\n        \"dtype\": \"number\",\n        \"std\": 0,\n        \"min\": 0,\n        \"max\": 1,\n        \"num_unique_values\": 2,\n        \"samples\": [\n          1,\n          0\n        ],\n        \"semantic_type\": \"\",\n        \"description\": \"\"\n      }\n    },\n    {\n      \"column\": \"PitchSatisfactionScore\",\n      \"properties\": {\n        \"dtype\": \"number\",\n        \"std\": 1,\n        \"min\": 1,\n        \"max\": 5,\n        \"num_unique_values\": 5,\n        \"samples\": [\n          4,\n          1\n        ],\n        \"semantic_type\": \"\",\n        \"description\": \"\"\n      }\n    },\n    {\n      \"column\": \"Designation\",\n      \"properties\": {\n        \"dtype\": \"category\",\n        \"num_unique_values\": 56,\n        \"samples\": [\n          \"AVP\",\n          \"Executiv\\u0435\"\n        ],\n        \"semantic_type\": \"\",\n        \"description\": \"\"\n      }\n    },\n    {\n      \"column\": \"MonthlyIncome\",\n      \"properties\": {\n        \"dtype\": \"string\",\n        \"num_unique_values\": 2528,\n        \"samples\": [\n          \"315240.0\",\n          \"277665.0\"\n        ],\n        \"semantic_type\": \"\",\n        \"description\": \"\"\n      }\n    },\n    {\n      \"column\": \"customer_info\",\n      \"properties\": {\n        \"dtype\": \"category\",\n        \"num_unique_values\": 1730,\n        \"samples\": [\n          \"\\u672a\\u5a5a\\u3000\\u81ea\\u52d5\\u8eca\\u672a\\u6240\\u6709\\u3000\\u5b50\\u4f9b2\\u4eba\",\n          \"\\u72ec\\u8eab\\n\\u81ea\\u52d5\\u8eca\\u6240\\u6709\\n\\u5b50\\u4f9b\\u306a\\u3057\"\n        ],\n        \"semantic_type\": \"\",\n        \"description\": \"\"\n      }\n    }\n  ]\n}"
            }
          },
          "metadata": {},
          "execution_count": 74
        }
      ]
    },
    {
      "cell_type": "code",
      "source": [
        "df3.info()"
      ],
      "metadata": {
        "colab": {
          "base_uri": "https://localhost:8080/"
        },
        "id": "c8LGrDJumiZ2",
        "outputId": "6877c251-76ec-4c7a-a274-06e9299e76f7"
      },
      "execution_count": 75,
      "outputs": [
        {
          "output_type": "stream",
          "name": "stdout",
          "text": [
            "<class 'pandas.core.frame.DataFrame'>\n",
            "RangeIndex: 3489 entries, 0 to 3488\n",
            "Data columns (total 17 columns):\n",
            " #   Column                  Non-Null Count  Dtype  \n",
            "---  ------                  --------------  -----  \n",
            " 0   id                      3489 non-null   int64  \n",
            " 1   Age                     3396 non-null   object \n",
            " 2   TypeofContact           3477 non-null   object \n",
            " 3   CityTier                3489 non-null   int64  \n",
            " 4   DurationOfPitch         3358 non-null   object \n",
            " 5   Occupation              3489 non-null   object \n",
            " 6   Gender                  3489 non-null   object \n",
            " 7   NumberOfPersonVisiting  3489 non-null   float64\n",
            " 8   NumberOfFollowups       3465 non-null   float64\n",
            " 9   ProductPitched          3489 non-null   object \n",
            " 10  PreferredPropertyStar   3489 non-null   float64\n",
            " 11  NumberOfTrips           3447 non-null   object \n",
            " 12  Passport                3489 non-null   int64  \n",
            " 13  PitchSatisfactionScore  3489 non-null   int64  \n",
            " 14  Designation             3489 non-null   object \n",
            " 15  MonthlyIncome           3440 non-null   object \n",
            " 16  customer_info           3489 non-null   object \n",
            "dtypes: float64(3), int64(4), object(10)\n",
            "memory usage: 463.5+ KB\n"
          ]
        }
      ]
    },
    {
      "cell_type": "code",
      "source": [
        "import pandas as pd\n",
        "\n",
        "# df2の各列の最頻値（モード値）を取得\n",
        "mode_values = df2.mode().iloc[0]\n",
        "\n",
        "# 欠損値を最頻値で埋める（df3の型に合わせる）\n",
        "df3['Age'] = df3['Age'].fillna(str(mode_values['Age']))  # object型として文字列で埋める\n",
        "df3['TypeofContact'] = df3['TypeofContact'].fillna(str(mode_values['TypeofContact']))  # object型\n",
        "df3['DurationOfPitch'] = df3['DurationOfPitch'].fillna(str(mode_values['DurationOfPitch']))  # object型\n",
        "df3['NumberOfTrips'] = df3['NumberOfTrips'].fillna(str(mode_values['NumberOfTrips']))  # object型\n",
        "df3['MonthlyIncome'] = df3['MonthlyIncome'].fillna(str(mode_values['MonthlyIncome']))  # object型\n",
        "df3['NumberOfFollowups'] = df3['NumberOfFollowups'].fillna(float(mode_values['NumberOfFollowups']))  # float64型\n",
        "\n",
        "# その他の列も必要であれば同様に処理できます\n",
        "df4 = df3.copy()\n",
        "df4.info()"
      ],
      "metadata": {
        "colab": {
          "base_uri": "https://localhost:8080/"
        },
        "id": "dGtjaK3im17n",
        "outputId": "ccfbe77f-6033-4224-877d-5f6fad99463f"
      },
      "execution_count": 85,
      "outputs": [
        {
          "output_type": "stream",
          "name": "stdout",
          "text": [
            "<class 'pandas.core.frame.DataFrame'>\n",
            "RangeIndex: 3489 entries, 0 to 3488\n",
            "Data columns (total 17 columns):\n",
            " #   Column                  Non-Null Count  Dtype  \n",
            "---  ------                  --------------  -----  \n",
            " 0   id                      3489 non-null   int64  \n",
            " 1   Age                     3489 non-null   object \n",
            " 2   TypeofContact           3489 non-null   object \n",
            " 3   CityTier                3489 non-null   int64  \n",
            " 4   DurationOfPitch         3489 non-null   object \n",
            " 5   Occupation              3489 non-null   object \n",
            " 6   Gender                  3489 non-null   object \n",
            " 7   NumberOfPersonVisiting  3489 non-null   float64\n",
            " 8   NumberOfFollowups       3489 non-null   float64\n",
            " 9   ProductPitched          3489 non-null   object \n",
            " 10  PreferredPropertyStar   3489 non-null   float64\n",
            " 11  NumberOfTrips           3489 non-null   object \n",
            " 12  Passport                3489 non-null   int64  \n",
            " 13  PitchSatisfactionScore  3489 non-null   int64  \n",
            " 14  Designation             3489 non-null   object \n",
            " 15  MonthlyIncome           3489 non-null   object \n",
            " 16  customer_info           3489 non-null   object \n",
            "dtypes: float64(3), int64(4), object(10)\n",
            "memory usage: 463.5+ KB\n"
          ]
        }
      ]
    },
    {
      "cell_type": "code",
      "source": [
        "# Age列の変換を実行\n",
        "df4['Age'] = df4['Age'].apply(convert_age)\n",
        "\n",
        "df4['Age'].describe()"
      ],
      "metadata": {
        "colab": {
          "base_uri": "https://localhost:8080/",
          "height": 331
        },
        "id": "9O52sowvqe7o",
        "outputId": "3597400d-b4f2-4fcd-ad94-4606a2bca636"
      },
      "execution_count": 86,
      "outputs": [
        {
          "output_type": "execute_result",
          "data": {
            "text/plain": [
              "count    3489.000000\n",
              "mean       37.553454\n",
              "std        10.655552\n",
              "min        10.000000\n",
              "25%        30.000000\n",
              "50%        37.000000\n",
              "75%        46.000000\n",
              "max        61.000000\n",
              "Name: Age, dtype: float64"
            ],
            "text/html": [
              "<div>\n",
              "<style scoped>\n",
              "    .dataframe tbody tr th:only-of-type {\n",
              "        vertical-align: middle;\n",
              "    }\n",
              "\n",
              "    .dataframe tbody tr th {\n",
              "        vertical-align: top;\n",
              "    }\n",
              "\n",
              "    .dataframe thead th {\n",
              "        text-align: right;\n",
              "    }\n",
              "</style>\n",
              "<table border=\"1\" class=\"dataframe\">\n",
              "  <thead>\n",
              "    <tr style=\"text-align: right;\">\n",
              "      <th></th>\n",
              "      <th>Age</th>\n",
              "    </tr>\n",
              "  </thead>\n",
              "  <tbody>\n",
              "    <tr>\n",
              "      <th>count</th>\n",
              "      <td>3489.000000</td>\n",
              "    </tr>\n",
              "    <tr>\n",
              "      <th>mean</th>\n",
              "      <td>37.553454</td>\n",
              "    </tr>\n",
              "    <tr>\n",
              "      <th>std</th>\n",
              "      <td>10.655552</td>\n",
              "    </tr>\n",
              "    <tr>\n",
              "      <th>min</th>\n",
              "      <td>10.000000</td>\n",
              "    </tr>\n",
              "    <tr>\n",
              "      <th>25%</th>\n",
              "      <td>30.000000</td>\n",
              "    </tr>\n",
              "    <tr>\n",
              "      <th>50%</th>\n",
              "      <td>37.000000</td>\n",
              "    </tr>\n",
              "    <tr>\n",
              "      <th>75%</th>\n",
              "      <td>46.000000</td>\n",
              "    </tr>\n",
              "    <tr>\n",
              "      <th>max</th>\n",
              "      <td>61.000000</td>\n",
              "    </tr>\n",
              "  </tbody>\n",
              "</table>\n",
              "</div><br><label><b>dtype:</b> float64</label>"
            ]
          },
          "metadata": {},
          "execution_count": 86
        }
      ]
    },
    {
      "cell_type": "code",
      "source": [
        "df4.info()"
      ],
      "metadata": {
        "colab": {
          "base_uri": "https://localhost:8080/"
        },
        "id": "N4tDglS5qwfC",
        "outputId": "13c8036a-31df-4039-dde5-e0db358a1b66"
      },
      "execution_count": 87,
      "outputs": [
        {
          "output_type": "stream",
          "name": "stdout",
          "text": [
            "<class 'pandas.core.frame.DataFrame'>\n",
            "RangeIndex: 3489 entries, 0 to 3488\n",
            "Data columns (total 17 columns):\n",
            " #   Column                  Non-Null Count  Dtype  \n",
            "---  ------                  --------------  -----  \n",
            " 0   id                      3489 non-null   int64  \n",
            " 1   Age                     3489 non-null   int64  \n",
            " 2   TypeofContact           3489 non-null   object \n",
            " 3   CityTier                3489 non-null   int64  \n",
            " 4   DurationOfPitch         3489 non-null   object \n",
            " 5   Occupation              3489 non-null   object \n",
            " 6   Gender                  3489 non-null   object \n",
            " 7   NumberOfPersonVisiting  3489 non-null   float64\n",
            " 8   NumberOfFollowups       3489 non-null   float64\n",
            " 9   ProductPitched          3489 non-null   object \n",
            " 10  PreferredPropertyStar   3489 non-null   float64\n",
            " 11  NumberOfTrips           3489 non-null   object \n",
            " 12  Passport                3489 non-null   int64  \n",
            " 13  PitchSatisfactionScore  3489 non-null   int64  \n",
            " 14  Designation             3489 non-null   object \n",
            " 15  MonthlyIncome           3489 non-null   object \n",
            " 16  customer_info           3489 non-null   object \n",
            "dtypes: float64(3), int64(5), object(9)\n",
            "memory usage: 463.5+ KB\n"
          ]
        }
      ]
    },
    {
      "cell_type": "code",
      "source": [
        "# DurationOfPitch列の変換を実行\n",
        "df4['DurationOfPitch'] = df4['DurationOfPitch'].apply(convert_duration)\n",
        "df4['DurationOfPitch'].describe()"
      ],
      "metadata": {
        "colab": {
          "base_uri": "https://localhost:8080/",
          "height": 331
        },
        "id": "eO_N6eoorsAu",
        "outputId": "47da01a8-a4e6-45bf-e1ff-9d2de6a40f9a"
      },
      "execution_count": 88,
      "outputs": [
        {
          "output_type": "execute_result",
          "data": {
            "text/plain": [
              "count    3489.000000\n",
              "mean      842.441960\n",
              "std       451.417745\n",
              "min         0.000000\n",
              "25%       540.000000\n",
              "50%       780.000000\n",
              "75%       960.000000\n",
              "max      2160.000000\n",
              "Name: DurationOfPitch, dtype: float64"
            ],
            "text/html": [
              "<div>\n",
              "<style scoped>\n",
              "    .dataframe tbody tr th:only-of-type {\n",
              "        vertical-align: middle;\n",
              "    }\n",
              "\n",
              "    .dataframe tbody tr th {\n",
              "        vertical-align: top;\n",
              "    }\n",
              "\n",
              "    .dataframe thead th {\n",
              "        text-align: right;\n",
              "    }\n",
              "</style>\n",
              "<table border=\"1\" class=\"dataframe\">\n",
              "  <thead>\n",
              "    <tr style=\"text-align: right;\">\n",
              "      <th></th>\n",
              "      <th>DurationOfPitch</th>\n",
              "    </tr>\n",
              "  </thead>\n",
              "  <tbody>\n",
              "    <tr>\n",
              "      <th>count</th>\n",
              "      <td>3489.000000</td>\n",
              "    </tr>\n",
              "    <tr>\n",
              "      <th>mean</th>\n",
              "      <td>842.441960</td>\n",
              "    </tr>\n",
              "    <tr>\n",
              "      <th>std</th>\n",
              "      <td>451.417745</td>\n",
              "    </tr>\n",
              "    <tr>\n",
              "      <th>min</th>\n",
              "      <td>0.000000</td>\n",
              "    </tr>\n",
              "    <tr>\n",
              "      <th>25%</th>\n",
              "      <td>540.000000</td>\n",
              "    </tr>\n",
              "    <tr>\n",
              "      <th>50%</th>\n",
              "      <td>780.000000</td>\n",
              "    </tr>\n",
              "    <tr>\n",
              "      <th>75%</th>\n",
              "      <td>960.000000</td>\n",
              "    </tr>\n",
              "    <tr>\n",
              "      <th>max</th>\n",
              "      <td>2160.000000</td>\n",
              "    </tr>\n",
              "  </tbody>\n",
              "</table>\n",
              "</div><br><label><b>dtype:</b> float64</label>"
            ]
          },
          "metadata": {},
          "execution_count": 88
        }
      ]
    },
    {
      "cell_type": "code",
      "source": [
        "# Gender列の変換を実行\n",
        "df4['Gender'] = df4['Gender'].apply(convert_gender)"
      ],
      "metadata": {
        "id": "QklaWNdywhlN"
      },
      "execution_count": 89,
      "outputs": []
    },
    {
      "cell_type": "code",
      "source": [
        "# column1のユニークな値を確認\n",
        "unique_values = df4['ProductPitched'].unique()\n",
        "print(\"ユニークな値:\", unique_values)\n",
        "\n",
        "# column1の値のカウント\n",
        "value_counts = df4['ProductPitched'].value_counts()\n",
        "print(\"\\n値のカウント:\\n\", value_counts)"
      ],
      "metadata": {
        "colab": {
          "base_uri": "https://localhost:8080/"
        },
        "id": "Hzo8QpWswyy3",
        "outputId": "f1f95cc6-ce5e-48d2-f446-24e1dfb1cd54"
      },
      "execution_count": 90,
      "outputs": [
        {
          "output_type": "stream",
          "name": "stdout",
          "text": [
            "ユニークな値: ['Super De|uxe' 'Standard' 'Basic' 'Deluxe' 'Super Deluxe' 'DELUXE' 'King'\n",
            " 'standard' 'basic' 'BASIC' 'basıc' 'STANDARD' 'SUPER DELUXE' 'Ѕtandard'\n",
            " 'super deluxe' '𐊡asic' 'SUPER ᎠELUXE' 'SUPER ᗞELUXE' 'Βasic' 'king'\n",
            " 'Basiс' 'ꓢtandard' 'Super 𝙳eluxe' 'ᗞeluxe' 'Basi𝘤' 'Staոdard' 'deluxe'\n",
            " 'DELUXΕ' 'De|uxe' 'Basıc' 'Delu×e' 'basiϲ' 'Baｓic' 'Вasic' 'Stand𝖺rd'\n",
            " 'KING' 'B𝖺si𝘤' 'basiс' '𝙳eluxe' 'Ꭰeluxe' 'BASIС' 'Super ᗞeluxe'\n",
            " 'STANDARᎠ' 'Stan𝔡ard' 'STΑNDARD' 'ᗞELUXE' 'Baｓıc' 'de|uxe' 'Super Ꭰeluxe'\n",
            " 'Super Delu×e' 'Basıϲ' 'ꓢuper Deluxe' 'SUPΕR ᎠELUXE' 'Ꭰe|uxe' 'B𝖺sic'\n",
            " 'Basiϲ' 'stan𝔡ard' 'BASΙC' 'basi𝘤' 'stand𝖺rd' 'St𝖺ndard' 'Kıng' 'baｓic'\n",
            " 'Bası𝘤' 'BASΙС' 'S𝘵𝖺nda𝘳d' 'kiոg' 'Standa𝘳d' 'standar𝔡' 'Stand𝖺𝘳d'\n",
            " 'BAЅIC']\n",
            "\n",
            "値のカウント:\n",
            " ProductPitched\n",
            "Basic           923\n",
            "Deluxe          824\n",
            "Standard        591\n",
            "Super Deluxe    233\n",
            "King            126\n",
            "               ... \n",
            "BASIС             1\n",
            "𐊡asic             1\n",
            "Вasic             1\n",
            "basiс             1\n",
            "BAЅIC             1\n",
            "Name: count, Length: 71, dtype: int64\n"
          ]
        }
      ]
    },
    {
      "cell_type": "code",
      "source": [
        "df5 = df4.copy()"
      ],
      "metadata": {
        "id": "2ybJWPkvyKjn"
      },
      "execution_count": 101,
      "outputs": []
    },
    {
      "cell_type": "code",
      "source": [
        "# 変換関数の定義\n",
        "def convert_product(product_str):\n",
        "    # 小文字に変換\n",
        "    product_str = product_str.lower()\n",
        "\n",
        "    # 特定の文字列の置換\n",
        "    product_str = re.sub(r'de[|×]?u[|×]?xe', 'deluxe', product_str)\n",
        "    product_str = re.sub(r'super\\s?deluxe', 'super deluxe', product_str)\n",
        "\n",
        "    # 統一した文字列の定義\n",
        "    if 'super deluxe' in product_str or 'super dεluxe' in product_str:\n",
        "        return 'super deluxe'\n",
        "    elif ('ꭰeluxe' in product_str or\n",
        "          'de|u×e' in product_str or\n",
        "          'delu×e' in product_str or\n",
        "          'ᗞeluxe' in product_str or\n",
        "          'ꭰeluxe' in product_str or\n",
        "          '𝙳eluxe' in product_str or\n",
        "          'dεluxε' in product_str or\n",
        "          'deluxe' in product_str or\n",
        "          'deluxε' in product_str or\n",
        "          'ꭰe|uxe' in product_str or\n",
        "          'deluxε' in product_str or\n",
        "\n",
        "        'deluxe' in product_str):\n",
        "        return 'deluxe'\n",
        "    elif ('standard' in product_str or\n",
        "          'stanᗞard' in product_str or\n",
        "          'standar𝔡' in product_str or\n",
        "          'staոdard' in product_str or\n",
        "          'st𝖺ndard' in product_str or\n",
        "          's𝘵andard' in product_str or\n",
        "          'stand𝖺rd' in product_str or\n",
        "          'տtandard' in product_str or\n",
        "          'standarꭰ' in product_str or\n",
        "          'ꓢtandard' in product_str or\n",
        "          'ѕtandard' in product_str or\n",
        "          'ꓢtandard' in product_str or\n",
        "          'տtanda𝘳d' in product_str or\n",
        "          'ѕtandard' in product_str or\n",
        "          'տtandard' in product_str or\n",
        "          'տtandard' in product_str or\n",
        "          'տtandard' in product_str or\n",
        "          'stand𝖺𝘳d' in product_str or\n",
        "          's𝘵𝖺nda𝘳d' in product_str or\n",
        "          'stαndard' in product_str or\n",
        "          'stan𝔡ard' in product_str or\n",
        "\n",
        "          'standa𝘳d' in product_str):\n",
        "        return 'standard'\n",
        "    elif ('basic' in product_str or\n",
        "          'basiс' in product_str or\n",
        "          'b𝖺sic' in product_str or\n",
        "          'baꓢic' in product_str or\n",
        "          'βasic' in product_str or\n",
        "          'вasic' in product_str or\n",
        "          'basi𝘤' in product_str or\n",
        "          'basiϲ' in product_str or\n",
        "          'baտic' in product_str or\n",
        "          'βası𝘤' in product_str or\n",
        "          'baｓic' in product_str or\n",
        "          '𐊡asic' in product_str or\n",
        "          'basιc' in product_str or\n",
        "          'в𝖺sic' in product_str or\n",
        "          '𐊡asi𝘤' in product_str or\n",
        "          'βasıc' in product_str or\n",
        "          'b𝖺si𝘤' in product_str or\n",
        "          'вasic' in product_str or\n",
        "          'βasiс' in product_str or\n",
        "          'βasiс' in product_str or\n",
        "          'baѕic' in product_str or\n",
        "          'basιс' in product_str or\n",
        "          'bası𝘤' in product_str or\n",
        "          'basıϲ' in product_str or\n",
        "          'baｓıc' in product_str or\n",
        "\n",
        "          'basıc' in product_str):\n",
        "        return 'basic'\n",
        "    elif 'king' in product_str or 'kıng' in product_str or 'kıոg' in product_str or 'kiոg' in product_str:\n",
        "        return 'king'\n",
        "    else:\n",
        "        print(f\"Unknown product: {product_str}\")  # デバッグ用のログ\n",
        "        return 'unknown'  # 該当しない場合は'unknown'を返す\n",
        "\n",
        "# ProductPitched列の変換を実行\n",
        "df5['ProductPitched'] = df5['ProductPitched'].apply(convert_product)\n",
        "\n",
        "# 重複を削除し、最終的な結果を表示\n",
        "unique_products = df5['ProductPitched'].unique()\n"
      ],
      "metadata": {
        "id": "5zz-awFmw3O1"
      },
      "execution_count": 102,
      "outputs": []
    },
    {
      "cell_type": "code",
      "source": [
        "# column1のユニークな値を確認\n",
        "unique_values = df5['ProductPitched'].unique()\n",
        "print(\"ユニークな値:\", unique_values)\n",
        "\n",
        "# column1の値のカウント\n",
        "value_counts = df5['ProductPitched'].value_counts()\n",
        "print(\"\\n値のカウント:\\n\", value_counts)"
      ],
      "metadata": {
        "colab": {
          "base_uri": "https://localhost:8080/"
        },
        "id": "U3iavc31xNJz",
        "outputId": "5d1305b2-bcdd-4e95-f559-9a59844e00dd"
      },
      "execution_count": 103,
      "outputs": [
        {
          "output_type": "stream",
          "name": "stdout",
          "text": [
            "ユニークな値: ['super deluxe' 'standard' 'basic' 'deluxe' 'king']\n",
            "\n",
            "値のカウント:\n",
            " ProductPitched\n",
            "basic           1190\n",
            "deluxe          1057\n",
            "standard         773\n",
            "super deluxe     309\n",
            "king             160\n",
            "Name: count, dtype: int64\n"
          ]
        }
      ]
    },
    {
      "cell_type": "code",
      "source": [
        "# column1のユニークな値を確認\n",
        "unique_values = df5['NumberOfTrips'].unique()\n",
        "print(\"ユニークな値:\", unique_values)\n",
        "\n",
        "# column1の値のカウント\n",
        "value_counts = df5['NumberOfTrips'].value_counts()\n",
        "print(\"\\n値のカウント:\\n\", value_counts)"
      ],
      "metadata": {
        "colab": {
          "base_uri": "https://localhost:8080/"
        },
        "id": "gd4VTqlNzRiK",
        "outputId": "6414572b-3a7b-44e2-f48a-d30d218c5f4e"
      },
      "execution_count": 104,
      "outputs": [
        {
          "output_type": "stream",
          "name": "stdout",
          "text": [
            "ユニークな値: ['7' '4' '1' '年に6回' '5' '3' '2' '年に4回' '年に1回' '6' '年に2回' '年に3回' '年に5回'\n",
            " '年に7回' '2.0' '半年に1回' '四半期に1回' '年に8回' '8']\n",
            "\n",
            "値のカウント:\n",
            " NumberOfTrips\n",
            "2         950\n",
            "3         762\n",
            "5         400\n",
            "1         320\n",
            "7         226\n",
            "年に2回      153\n",
            "4         136\n",
            "6         125\n",
            "年に3回      124\n",
            "年に1回       72\n",
            "年に5回       62\n",
            "2.0        42\n",
            "年に4回       31\n",
            "年に7回       31\n",
            "年に6回       26\n",
            "8          12\n",
            "半年に1回      10\n",
            "年に8回        4\n",
            "四半期に1回      3\n",
            "Name: count, dtype: int64\n"
          ]
        }
      ]
    },
    {
      "cell_type": "code",
      "source": [
        "# 変換ルールを定義する\n",
        "def convert_trips(trip):\n",
        "    if trip == '半年に1回':\n",
        "        return 2\n",
        "    elif trip == '四半期に1回':\n",
        "        return 4\n",
        "    elif trip == '2.0':\n",
        "        return 2\n",
        "    else:\n",
        "        # 日本語を削除して整数に変換\n",
        "        return int(''.join(filter(str.isdigit, trip)))\n",
        "\n",
        "# すべてのトリップ数に変換を適用\n",
        "df5['NumberOfTrips'] = df5['NumberOfTrips'].apply(convert_trips)\n",
        "\n",
        "# 結果を確認\n",
        "print(df5['NumberOfTrips'].unique())"
      ],
      "metadata": {
        "colab": {
          "base_uri": "https://localhost:8080/"
        },
        "id": "65NRMktSzYzT",
        "outputId": "d6d570e7-4ff7-46dd-a239-dc244beecd65"
      },
      "execution_count": 105,
      "outputs": [
        {
          "output_type": "stream",
          "name": "stdout",
          "text": [
            "[7 4 1 6 5 3 2 8]\n"
          ]
        }
      ]
    },
    {
      "cell_type": "code",
      "source": [
        "# column1のユニークな値を確認\n",
        "unique_values = df5['NumberOfTrips'].unique()\n",
        "print(\"ユニークな値:\", unique_values)\n",
        "\n",
        "# column1の値のカウント\n",
        "value_counts = df5['NumberOfTrips'].value_counts()\n",
        "print(\"\\n値のカウント:\\n\", value_counts)"
      ],
      "metadata": {
        "colab": {
          "base_uri": "https://localhost:8080/"
        },
        "id": "M9yn2j_qzl7M",
        "outputId": "d33e64e4-edbb-42ac-846b-bcee6fd53fe3"
      },
      "execution_count": 106,
      "outputs": [
        {
          "output_type": "stream",
          "name": "stdout",
          "text": [
            "ユニークな値: [7 4 1 6 5 3 2 8]\n",
            "\n",
            "値のカウント:\n",
            " NumberOfTrips\n",
            "2    1155\n",
            "3     886\n",
            "5     462\n",
            "1     392\n",
            "7     257\n",
            "4     170\n",
            "6     151\n",
            "8      16\n",
            "Name: count, dtype: int64\n"
          ]
        }
      ]
    },
    {
      "cell_type": "code",
      "source": [
        "df6 = df5.copy()\n",
        "df6.info()"
      ],
      "metadata": {
        "colab": {
          "base_uri": "https://localhost:8080/"
        },
        "id": "M7Q26cqt0D_5",
        "outputId": "b6b6d128-1792-4c95-cf27-07d84bdd7a93"
      },
      "execution_count": 107,
      "outputs": [
        {
          "output_type": "stream",
          "name": "stdout",
          "text": [
            "<class 'pandas.core.frame.DataFrame'>\n",
            "RangeIndex: 3489 entries, 0 to 3488\n",
            "Data columns (total 17 columns):\n",
            " #   Column                  Non-Null Count  Dtype  \n",
            "---  ------                  --------------  -----  \n",
            " 0   id                      3489 non-null   int64  \n",
            " 1   Age                     3489 non-null   int64  \n",
            " 2   TypeofContact           3489 non-null   object \n",
            " 3   CityTier                3489 non-null   int64  \n",
            " 4   DurationOfPitch         3489 non-null   int64  \n",
            " 5   Occupation              3489 non-null   object \n",
            " 6   Gender                  3489 non-null   object \n",
            " 7   NumberOfPersonVisiting  3489 non-null   float64\n",
            " 8   NumberOfFollowups       3489 non-null   float64\n",
            " 9   ProductPitched          3489 non-null   object \n",
            " 10  PreferredPropertyStar   3489 non-null   float64\n",
            " 11  NumberOfTrips           3489 non-null   int64  \n",
            " 12  Passport                3489 non-null   int64  \n",
            " 13  PitchSatisfactionScore  3489 non-null   int64  \n",
            " 14  Designation             3489 non-null   object \n",
            " 15  MonthlyIncome           3489 non-null   object \n",
            " 16  customer_info           3489 non-null   object \n",
            "dtypes: float64(3), int64(7), object(7)\n",
            "memory usage: 463.5+ KB\n"
          ]
        }
      ]
    },
    {
      "cell_type": "code",
      "source": [
        "\n",
        "\n",
        "# すべての役職に変換を適用\n",
        "df6['Designation'] = df6['Designation'].apply(standardize_designation)\n",
        "\n",
        "# 最後に残った 'unknown' を 'Manager' に変換\n",
        "df6['Designation'] = df6['Designation'].replace('unknown', 'Manager')\n",
        "\n",
        "\n",
        "# 結果を確認\n",
        "print(df6['Designation'].unique())"
      ],
      "metadata": {
        "colab": {
          "base_uri": "https://localhost:8080/"
        },
        "id": "tFdjdy1s0JDL",
        "outputId": "2f952da5-fe67-4ff6-e915-fa6bcacc9cdc"
      },
      "execution_count": 108,
      "outputs": [
        {
          "output_type": "stream",
          "name": "stdout",
          "text": [
            "['AVP' 'Senior Manager' 'Executive' 'Manager' 'VP']\n"
          ]
        }
      ]
    },
    {
      "cell_type": "code",
      "source": [
        "# column1のユニークな値を確認\n",
        "unique_values = df6['Designation'].unique()\n",
        "print(\"ユニークな値:\", unique_values)\n",
        "\n",
        "# column1の値のカウント\n",
        "value_counts = df6['Designation'].value_counts()\n",
        "print(\"\\n値のカウント:\\n\", value_counts)"
      ],
      "metadata": {
        "colab": {
          "base_uri": "https://localhost:8080/"
        },
        "id": "GuTiKXdQ0SCa",
        "outputId": "04a63957-e0b8-4edb-9a88-5294cb5976d4"
      },
      "execution_count": 109,
      "outputs": [
        {
          "output_type": "stream",
          "name": "stdout",
          "text": [
            "ユニークな値: ['AVP' 'Senior Manager' 'Executive' 'Manager' 'VP']\n",
            "\n",
            "値のカウント:\n",
            " Designation\n",
            "Executive         1180\n",
            "Manager           1076\n",
            "Senior Manager     764\n",
            "AVP                307\n",
            "VP                 162\n",
            "Name: count, dtype: int64\n"
          ]
        }
      ]
    },
    {
      "cell_type": "code",
      "source": [
        "df8 = df6.copy()\n",
        "# 変換を適用\n",
        "df8['MonthlyIncome'] = df8['MonthlyIncome'].apply(convert_income)"
      ],
      "metadata": {
        "id": "2YazarR90Vl1"
      },
      "execution_count": 110,
      "outputs": []
    },
    {
      "cell_type": "code",
      "source": [
        "df8.info()"
      ],
      "metadata": {
        "colab": {
          "base_uri": "https://localhost:8080/"
        },
        "id": "-QwB1IPr0lPE",
        "outputId": "ec5367f9-885b-456a-ba35-5413b01f6453"
      },
      "execution_count": 111,
      "outputs": [
        {
          "output_type": "stream",
          "name": "stdout",
          "text": [
            "<class 'pandas.core.frame.DataFrame'>\n",
            "RangeIndex: 3489 entries, 0 to 3488\n",
            "Data columns (total 17 columns):\n",
            " #   Column                  Non-Null Count  Dtype  \n",
            "---  ------                  --------------  -----  \n",
            " 0   id                      3489 non-null   int64  \n",
            " 1   Age                     3489 non-null   int64  \n",
            " 2   TypeofContact           3489 non-null   object \n",
            " 3   CityTier                3489 non-null   int64  \n",
            " 4   DurationOfPitch         3489 non-null   int64  \n",
            " 5   Occupation              3489 non-null   object \n",
            " 6   Gender                  3489 non-null   object \n",
            " 7   NumberOfPersonVisiting  3489 non-null   float64\n",
            " 8   NumberOfFollowups       3489 non-null   float64\n",
            " 9   ProductPitched          3489 non-null   object \n",
            " 10  PreferredPropertyStar   3489 non-null   float64\n",
            " 11  NumberOfTrips           3489 non-null   int64  \n",
            " 12  Passport                3489 non-null   int64  \n",
            " 13  PitchSatisfactionScore  3489 non-null   int64  \n",
            " 14  Designation             3489 non-null   object \n",
            " 15  MonthlyIncome           3489 non-null   int64  \n",
            " 16  customer_info           3489 non-null   object \n",
            "dtypes: float64(3), int64(8), object(6)\n",
            "memory usage: 463.5+ KB\n"
          ]
        }
      ]
    },
    {
      "cell_type": "code",
      "source": [
        "df9 = df8.copy()\n",
        "df9[['結婚', '車', '子供の数']] = df9['customer_info'].apply(extract_info)\n",
        "df9.info()"
      ],
      "metadata": {
        "colab": {
          "base_uri": "https://localhost:8080/"
        },
        "id": "he7auE0U0pVA",
        "outputId": "02cbb2de-9869-41ad-d884-62142913f311"
      },
      "execution_count": 112,
      "outputs": [
        {
          "output_type": "stream",
          "name": "stdout",
          "text": [
            "<class 'pandas.core.frame.DataFrame'>\n",
            "RangeIndex: 3489 entries, 0 to 3488\n",
            "Data columns (total 20 columns):\n",
            " #   Column                  Non-Null Count  Dtype  \n",
            "---  ------                  --------------  -----  \n",
            " 0   id                      3489 non-null   int64  \n",
            " 1   Age                     3489 non-null   int64  \n",
            " 2   TypeofContact           3489 non-null   object \n",
            " 3   CityTier                3489 non-null   int64  \n",
            " 4   DurationOfPitch         3489 non-null   int64  \n",
            " 5   Occupation              3489 non-null   object \n",
            " 6   Gender                  3489 non-null   object \n",
            " 7   NumberOfPersonVisiting  3489 non-null   float64\n",
            " 8   NumberOfFollowups       3489 non-null   float64\n",
            " 9   ProductPitched          3489 non-null   object \n",
            " 10  PreferredPropertyStar   3489 non-null   float64\n",
            " 11  NumberOfTrips           3489 non-null   int64  \n",
            " 12  Passport                3489 non-null   int64  \n",
            " 13  PitchSatisfactionScore  3489 non-null   int64  \n",
            " 14  Designation             3489 non-null   object \n",
            " 15  MonthlyIncome           3489 non-null   int64  \n",
            " 16  customer_info           3489 non-null   object \n",
            " 17  結婚                      3489 non-null   object \n",
            " 18  車                       3489 non-null   object \n",
            " 19  子供の数                    3489 non-null   int64  \n",
            "dtypes: float64(3), int64(9), object(8)\n",
            "memory usage: 545.3+ KB\n"
          ]
        }
      ]
    },
    {
      "cell_type": "code",
      "source": [
        "df10 = df9.copy()\n",
        "# dfのTypeofContact列をratesに基づいて数値に変換\n",
        "df10['TypeofContact'] = df10['TypeofContact'].map(rates1)\n",
        "df10['Occupation'] = df10['Occupation'].map(rates2)\n",
        "df10['Gender'] = df10['Gender'].map(rates3)\n",
        "df10['ProductPitched'] = df10['ProductPitched'].map(rates4)\n",
        "df10['Designation'] = df10['Designation'].map(rates5)\n",
        "df10['結婚'] = df10['結婚'].map(rates6)\n",
        "df10['車'] = df10['車'].map(rates7)\n",
        "\n",
        "df10.info()\n",
        "\n",
        "\n"
      ],
      "metadata": {
        "colab": {
          "base_uri": "https://localhost:8080/"
        },
        "id": "ZvXSFcnj1AJR",
        "outputId": "a530bae8-27b6-4a53-cef0-184b06f8e085"
      },
      "execution_count": 113,
      "outputs": [
        {
          "output_type": "stream",
          "name": "stdout",
          "text": [
            "<class 'pandas.core.frame.DataFrame'>\n",
            "RangeIndex: 3489 entries, 0 to 3488\n",
            "Data columns (total 20 columns):\n",
            " #   Column                  Non-Null Count  Dtype  \n",
            "---  ------                  --------------  -----  \n",
            " 0   id                      3489 non-null   int64  \n",
            " 1   Age                     3489 non-null   int64  \n",
            " 2   TypeofContact           3477 non-null   float64\n",
            " 3   CityTier                3489 non-null   int64  \n",
            " 4   DurationOfPitch         3489 non-null   int64  \n",
            " 5   Occupation              3489 non-null   float64\n",
            " 6   Gender                  3489 non-null   float64\n",
            " 7   NumberOfPersonVisiting  3489 non-null   float64\n",
            " 8   NumberOfFollowups       3489 non-null   float64\n",
            " 9   ProductPitched          3489 non-null   float64\n",
            " 10  PreferredPropertyStar   3489 non-null   float64\n",
            " 11  NumberOfTrips           3489 non-null   int64  \n",
            " 12  Passport                3489 non-null   int64  \n",
            " 13  PitchSatisfactionScore  3489 non-null   int64  \n",
            " 14  Designation             3489 non-null   float64\n",
            " 15  MonthlyIncome           3489 non-null   int64  \n",
            " 16  customer_info           3489 non-null   object \n",
            " 17  結婚                      3489 non-null   float64\n",
            " 18  車                       3489 non-null   float64\n",
            " 19  子供の数                    3489 non-null   int64  \n",
            "dtypes: float64(10), int64(9), object(1)\n",
            "memory usage: 545.3+ KB\n"
          ]
        }
      ]
    },
    {
      "cell_type": "code",
      "source": [
        "df10.to_csv('df_test.csv')"
      ],
      "metadata": {
        "id": "-unL7foV1vpM"
      },
      "execution_count": 118,
      "outputs": []
    },
    {
      "cell_type": "code",
      "source": [
        "# column1のユニークな値を確認\n",
        "unique_values = df10['NumberOfFollowups'].unique()\n",
        "print(\"ユニークな値:\", unique_values)\n",
        "\n",
        "# column1の値のカウント\n",
        "value_counts = df10['NumberOfFollowups'].value_counts()\n",
        "print(\"\\n値のカウント:\\n\", value_counts)"
      ],
      "metadata": {
        "colab": {
          "base_uri": "https://localhost:8080/"
        },
        "id": "-U6KkIn413to",
        "outputId": "b598480f-5d41-44be-ade0-54a82ed74a16"
      },
      "execution_count": 117,
      "outputs": [
        {
          "output_type": "stream",
          "name": "stdout",
          "text": [
            "ユニークな値: [4. 3. 5. 1. 2. 6.]\n",
            "\n",
            "値のカウント:\n",
            " NumberOfFollowups\n",
            "4.0    1390\n",
            "3.0    1265\n",
            "5.0     598\n",
            "2.0     105\n",
            "1.0     100\n",
            "6.0      31\n",
            "Name: count, dtype: int64\n"
          ]
        }
      ]
    },
    {
      "cell_type": "code",
      "source": [
        "# 条件に基づいて値を変換する\n",
        "df10['NumberOfFollowups'] = df10['NumberOfFollowups'].apply(lambda x: x / 100 if x >= 100 else x)\n",
        "df10.describe()"
      ],
      "metadata": {
        "colab": {
          "base_uri": "https://localhost:8080/",
          "height": 317
        },
        "id": "nWS2E9qA2i06",
        "outputId": "bf691adf-b2ec-4f0e-f60b-9a00c411b860"
      },
      "execution_count": 116,
      "outputs": [
        {
          "output_type": "execute_result",
          "data": {
            "text/plain": [
              "                id          Age  TypeofContact     CityTier  DurationOfPitch  \\\n",
              "count  3489.000000  3489.000000    3477.000000  3489.000000      3489.000000   \n",
              "mean   5233.000000    37.553454       0.138318     1.682717       842.441960   \n",
              "std    1007.331872    10.655552       0.030095     0.671710       451.417745   \n",
              "min    3489.000000    10.000000       0.116098     1.000000         0.000000   \n",
              "25%    4361.000000    30.000000       0.116098     1.000000       540.000000   \n",
              "50%    5233.000000    37.000000       0.116098     2.000000       780.000000   \n",
              "75%    6105.000000    46.000000       0.179066     2.000000       960.000000   \n",
              "max    6977.000000    61.000000       0.179066     3.000000      2160.000000   \n",
              "\n",
              "        Occupation       Gender  NumberOfPersonVisiting  NumberOfFollowups  \\\n",
              "count  3489.000000  3489.000000             3489.000000        3489.000000   \n",
              "mean      0.139031     0.140498                2.407567           3.680424   \n",
              "std       0.038821     0.031346                0.741628           0.919755   \n",
              "min       0.098926     0.100686                1.000000           1.000000   \n",
              "25%       0.098926     0.100686                2.000000           3.000000   \n",
              "50%       0.153699     0.165172                2.000000           4.000000   \n",
              "75%       0.153699     0.165172                3.000000           4.000000   \n",
              "max       0.224551     0.165172                4.000000           6.000000   \n",
              "\n",
              "       ProductPitched  PreferredPropertyStar  NumberOfTrips     Passport  \\\n",
              "count     3489.000000            3489.000000    3489.000000  3489.000000   \n",
              "mean         0.140061               3.431929       3.205216     0.095156   \n",
              "std          0.115502               0.599618       1.732139     0.293473   \n",
              "min          0.028634               3.000000       1.000000     0.000000   \n",
              "25%          0.028634               3.000000       2.000000     0.000000   \n",
              "50%          0.089286               3.000000       3.000000     0.000000   \n",
              "75%          0.297143               4.000000       5.000000     0.000000   \n",
              "max          0.297143               5.000000       8.000000     1.000000   \n",
              "\n",
              "       PitchSatisfactionScore  Designation  MonthlyIncome           結婚  \\\n",
              "count             3489.000000  3489.000000    3489.000000  3489.000000   \n",
              "mean                 2.500143     0.139943  355796.341359     0.138194   \n",
              "std                  1.153904     0.117961   76864.152096     0.050139   \n",
              "min                  1.000000     0.030702  200000.000000     0.094192   \n",
              "25%                  2.000000     0.030702  300000.000000     0.094192   \n",
              "50%                  2.000000     0.086595  340000.000000     0.116193   \n",
              "75%                  3.000000     0.302392  400000.000000     0.205699   \n",
              "max                  5.000000     0.302392  600000.000000     0.205699   \n",
              "\n",
              "                 車         子供の数  \n",
              "count  3489.000000  3489.000000  \n",
              "mean      0.139466     1.020063  \n",
              "std       0.018074     0.780459  \n",
              "min       0.116883     0.000000  \n",
              "25%       0.116883     0.000000  \n",
              "50%       0.153927     1.000000  \n",
              "75%       0.153927     2.000000  \n",
              "max       0.153927     3.000000  "
            ],
            "text/html": [
              "\n",
              "  <div id=\"df-467848b3-b7f4-485d-8dbb-6b461d0bd269\" class=\"colab-df-container\">\n",
              "    <div>\n",
              "<style scoped>\n",
              "    .dataframe tbody tr th:only-of-type {\n",
              "        vertical-align: middle;\n",
              "    }\n",
              "\n",
              "    .dataframe tbody tr th {\n",
              "        vertical-align: top;\n",
              "    }\n",
              "\n",
              "    .dataframe thead th {\n",
              "        text-align: right;\n",
              "    }\n",
              "</style>\n",
              "<table border=\"1\" class=\"dataframe\">\n",
              "  <thead>\n",
              "    <tr style=\"text-align: right;\">\n",
              "      <th></th>\n",
              "      <th>id</th>\n",
              "      <th>Age</th>\n",
              "      <th>TypeofContact</th>\n",
              "      <th>CityTier</th>\n",
              "      <th>DurationOfPitch</th>\n",
              "      <th>Occupation</th>\n",
              "      <th>Gender</th>\n",
              "      <th>NumberOfPersonVisiting</th>\n",
              "      <th>NumberOfFollowups</th>\n",
              "      <th>ProductPitched</th>\n",
              "      <th>PreferredPropertyStar</th>\n",
              "      <th>NumberOfTrips</th>\n",
              "      <th>Passport</th>\n",
              "      <th>PitchSatisfactionScore</th>\n",
              "      <th>Designation</th>\n",
              "      <th>MonthlyIncome</th>\n",
              "      <th>結婚</th>\n",
              "      <th>車</th>\n",
              "      <th>子供の数</th>\n",
              "    </tr>\n",
              "  </thead>\n",
              "  <tbody>\n",
              "    <tr>\n",
              "      <th>count</th>\n",
              "      <td>3489.000000</td>\n",
              "      <td>3489.000000</td>\n",
              "      <td>3477.000000</td>\n",
              "      <td>3489.000000</td>\n",
              "      <td>3489.000000</td>\n",
              "      <td>3489.000000</td>\n",
              "      <td>3489.000000</td>\n",
              "      <td>3489.000000</td>\n",
              "      <td>3489.000000</td>\n",
              "      <td>3489.000000</td>\n",
              "      <td>3489.000000</td>\n",
              "      <td>3489.000000</td>\n",
              "      <td>3489.000000</td>\n",
              "      <td>3489.000000</td>\n",
              "      <td>3489.000000</td>\n",
              "      <td>3489.000000</td>\n",
              "      <td>3489.000000</td>\n",
              "      <td>3489.000000</td>\n",
              "      <td>3489.000000</td>\n",
              "    </tr>\n",
              "    <tr>\n",
              "      <th>mean</th>\n",
              "      <td>5233.000000</td>\n",
              "      <td>37.553454</td>\n",
              "      <td>0.138318</td>\n",
              "      <td>1.682717</td>\n",
              "      <td>842.441960</td>\n",
              "      <td>0.139031</td>\n",
              "      <td>0.140498</td>\n",
              "      <td>2.407567</td>\n",
              "      <td>3.680424</td>\n",
              "      <td>0.140061</td>\n",
              "      <td>3.431929</td>\n",
              "      <td>3.205216</td>\n",
              "      <td>0.095156</td>\n",
              "      <td>2.500143</td>\n",
              "      <td>0.139943</td>\n",
              "      <td>355796.341359</td>\n",
              "      <td>0.138194</td>\n",
              "      <td>0.139466</td>\n",
              "      <td>1.020063</td>\n",
              "    </tr>\n",
              "    <tr>\n",
              "      <th>std</th>\n",
              "      <td>1007.331872</td>\n",
              "      <td>10.655552</td>\n",
              "      <td>0.030095</td>\n",
              "      <td>0.671710</td>\n",
              "      <td>451.417745</td>\n",
              "      <td>0.038821</td>\n",
              "      <td>0.031346</td>\n",
              "      <td>0.741628</td>\n",
              "      <td>0.919755</td>\n",
              "      <td>0.115502</td>\n",
              "      <td>0.599618</td>\n",
              "      <td>1.732139</td>\n",
              "      <td>0.293473</td>\n",
              "      <td>1.153904</td>\n",
              "      <td>0.117961</td>\n",
              "      <td>76864.152096</td>\n",
              "      <td>0.050139</td>\n",
              "      <td>0.018074</td>\n",
              "      <td>0.780459</td>\n",
              "    </tr>\n",
              "    <tr>\n",
              "      <th>min</th>\n",
              "      <td>3489.000000</td>\n",
              "      <td>10.000000</td>\n",
              "      <td>0.116098</td>\n",
              "      <td>1.000000</td>\n",
              "      <td>0.000000</td>\n",
              "      <td>0.098926</td>\n",
              "      <td>0.100686</td>\n",
              "      <td>1.000000</td>\n",
              "      <td>1.000000</td>\n",
              "      <td>0.028634</td>\n",
              "      <td>3.000000</td>\n",
              "      <td>1.000000</td>\n",
              "      <td>0.000000</td>\n",
              "      <td>1.000000</td>\n",
              "      <td>0.030702</td>\n",
              "      <td>200000.000000</td>\n",
              "      <td>0.094192</td>\n",
              "      <td>0.116883</td>\n",
              "      <td>0.000000</td>\n",
              "    </tr>\n",
              "    <tr>\n",
              "      <th>25%</th>\n",
              "      <td>4361.000000</td>\n",
              "      <td>30.000000</td>\n",
              "      <td>0.116098</td>\n",
              "      <td>1.000000</td>\n",
              "      <td>540.000000</td>\n",
              "      <td>0.098926</td>\n",
              "      <td>0.100686</td>\n",
              "      <td>2.000000</td>\n",
              "      <td>3.000000</td>\n",
              "      <td>0.028634</td>\n",
              "      <td>3.000000</td>\n",
              "      <td>2.000000</td>\n",
              "      <td>0.000000</td>\n",
              "      <td>2.000000</td>\n",
              "      <td>0.030702</td>\n",
              "      <td>300000.000000</td>\n",
              "      <td>0.094192</td>\n",
              "      <td>0.116883</td>\n",
              "      <td>0.000000</td>\n",
              "    </tr>\n",
              "    <tr>\n",
              "      <th>50%</th>\n",
              "      <td>5233.000000</td>\n",
              "      <td>37.000000</td>\n",
              "      <td>0.116098</td>\n",
              "      <td>2.000000</td>\n",
              "      <td>780.000000</td>\n",
              "      <td>0.153699</td>\n",
              "      <td>0.165172</td>\n",
              "      <td>2.000000</td>\n",
              "      <td>4.000000</td>\n",
              "      <td>0.089286</td>\n",
              "      <td>3.000000</td>\n",
              "      <td>3.000000</td>\n",
              "      <td>0.000000</td>\n",
              "      <td>2.000000</td>\n",
              "      <td>0.086595</td>\n",
              "      <td>340000.000000</td>\n",
              "      <td>0.116193</td>\n",
              "      <td>0.153927</td>\n",
              "      <td>1.000000</td>\n",
              "    </tr>\n",
              "    <tr>\n",
              "      <th>75%</th>\n",
              "      <td>6105.000000</td>\n",
              "      <td>46.000000</td>\n",
              "      <td>0.179066</td>\n",
              "      <td>2.000000</td>\n",
              "      <td>960.000000</td>\n",
              "      <td>0.153699</td>\n",
              "      <td>0.165172</td>\n",
              "      <td>3.000000</td>\n",
              "      <td>4.000000</td>\n",
              "      <td>0.297143</td>\n",
              "      <td>4.000000</td>\n",
              "      <td>5.000000</td>\n",
              "      <td>0.000000</td>\n",
              "      <td>3.000000</td>\n",
              "      <td>0.302392</td>\n",
              "      <td>400000.000000</td>\n",
              "      <td>0.205699</td>\n",
              "      <td>0.153927</td>\n",
              "      <td>2.000000</td>\n",
              "    </tr>\n",
              "    <tr>\n",
              "      <th>max</th>\n",
              "      <td>6977.000000</td>\n",
              "      <td>61.000000</td>\n",
              "      <td>0.179066</td>\n",
              "      <td>3.000000</td>\n",
              "      <td>2160.000000</td>\n",
              "      <td>0.224551</td>\n",
              "      <td>0.165172</td>\n",
              "      <td>4.000000</td>\n",
              "      <td>6.000000</td>\n",
              "      <td>0.297143</td>\n",
              "      <td>5.000000</td>\n",
              "      <td>8.000000</td>\n",
              "      <td>1.000000</td>\n",
              "      <td>5.000000</td>\n",
              "      <td>0.302392</td>\n",
              "      <td>600000.000000</td>\n",
              "      <td>0.205699</td>\n",
              "      <td>0.153927</td>\n",
              "      <td>3.000000</td>\n",
              "    </tr>\n",
              "  </tbody>\n",
              "</table>\n",
              "</div>\n",
              "    <div class=\"colab-df-buttons\">\n",
              "\n",
              "  <div class=\"colab-df-container\">\n",
              "    <button class=\"colab-df-convert\" onclick=\"convertToInteractive('df-467848b3-b7f4-485d-8dbb-6b461d0bd269')\"\n",
              "            title=\"Convert this dataframe to an interactive table.\"\n",
              "            style=\"display:none;\">\n",
              "\n",
              "  <svg xmlns=\"http://www.w3.org/2000/svg\" height=\"24px\" viewBox=\"0 -960 960 960\">\n",
              "    <path d=\"M120-120v-720h720v720H120Zm60-500h600v-160H180v160Zm220 220h160v-160H400v160Zm0 220h160v-160H400v160ZM180-400h160v-160H180v160Zm440 0h160v-160H620v160ZM180-180h160v-160H180v160Zm440 0h160v-160H620v160Z\"/>\n",
              "  </svg>\n",
              "    </button>\n",
              "\n",
              "  <style>\n",
              "    .colab-df-container {\n",
              "      display:flex;\n",
              "      gap: 12px;\n",
              "    }\n",
              "\n",
              "    .colab-df-convert {\n",
              "      background-color: #E8F0FE;\n",
              "      border: none;\n",
              "      border-radius: 50%;\n",
              "      cursor: pointer;\n",
              "      display: none;\n",
              "      fill: #1967D2;\n",
              "      height: 32px;\n",
              "      padding: 0 0 0 0;\n",
              "      width: 32px;\n",
              "    }\n",
              "\n",
              "    .colab-df-convert:hover {\n",
              "      background-color: #E2EBFA;\n",
              "      box-shadow: 0px 1px 2px rgba(60, 64, 67, 0.3), 0px 1px 3px 1px rgba(60, 64, 67, 0.15);\n",
              "      fill: #174EA6;\n",
              "    }\n",
              "\n",
              "    .colab-df-buttons div {\n",
              "      margin-bottom: 4px;\n",
              "    }\n",
              "\n",
              "    [theme=dark] .colab-df-convert {\n",
              "      background-color: #3B4455;\n",
              "      fill: #D2E3FC;\n",
              "    }\n",
              "\n",
              "    [theme=dark] .colab-df-convert:hover {\n",
              "      background-color: #434B5C;\n",
              "      box-shadow: 0px 1px 3px 1px rgba(0, 0, 0, 0.15);\n",
              "      filter: drop-shadow(0px 1px 2px rgba(0, 0, 0, 0.3));\n",
              "      fill: #FFFFFF;\n",
              "    }\n",
              "  </style>\n",
              "\n",
              "    <script>\n",
              "      const buttonEl =\n",
              "        document.querySelector('#df-467848b3-b7f4-485d-8dbb-6b461d0bd269 button.colab-df-convert');\n",
              "      buttonEl.style.display =\n",
              "        google.colab.kernel.accessAllowed ? 'block' : 'none';\n",
              "\n",
              "      async function convertToInteractive(key) {\n",
              "        const element = document.querySelector('#df-467848b3-b7f4-485d-8dbb-6b461d0bd269');\n",
              "        const dataTable =\n",
              "          await google.colab.kernel.invokeFunction('convertToInteractive',\n",
              "                                                    [key], {});\n",
              "        if (!dataTable) return;\n",
              "\n",
              "        const docLinkHtml = 'Like what you see? Visit the ' +\n",
              "          '<a target=\"_blank\" href=https://colab.research.google.com/notebooks/data_table.ipynb>data table notebook</a>'\n",
              "          + ' to learn more about interactive tables.';\n",
              "        element.innerHTML = '';\n",
              "        dataTable['output_type'] = 'display_data';\n",
              "        await google.colab.output.renderOutput(dataTable, element);\n",
              "        const docLink = document.createElement('div');\n",
              "        docLink.innerHTML = docLinkHtml;\n",
              "        element.appendChild(docLink);\n",
              "      }\n",
              "    </script>\n",
              "  </div>\n",
              "\n",
              "\n",
              "<div id=\"df-a55055ff-069f-4443-a00b-75cb9ace2beb\">\n",
              "  <button class=\"colab-df-quickchart\" onclick=\"quickchart('df-a55055ff-069f-4443-a00b-75cb9ace2beb')\"\n",
              "            title=\"Suggest charts\"\n",
              "            style=\"display:none;\">\n",
              "\n",
              "<svg xmlns=\"http://www.w3.org/2000/svg\" height=\"24px\"viewBox=\"0 0 24 24\"\n",
              "     width=\"24px\">\n",
              "    <g>\n",
              "        <path d=\"M19 3H5c-1.1 0-2 .9-2 2v14c0 1.1.9 2 2 2h14c1.1 0 2-.9 2-2V5c0-1.1-.9-2-2-2zM9 17H7v-7h2v7zm4 0h-2V7h2v10zm4 0h-2v-4h2v4z\"/>\n",
              "    </g>\n",
              "</svg>\n",
              "  </button>\n",
              "\n",
              "<style>\n",
              "  .colab-df-quickchart {\n",
              "      --bg-color: #E8F0FE;\n",
              "      --fill-color: #1967D2;\n",
              "      --hover-bg-color: #E2EBFA;\n",
              "      --hover-fill-color: #174EA6;\n",
              "      --disabled-fill-color: #AAA;\n",
              "      --disabled-bg-color: #DDD;\n",
              "  }\n",
              "\n",
              "  [theme=dark] .colab-df-quickchart {\n",
              "      --bg-color: #3B4455;\n",
              "      --fill-color: #D2E3FC;\n",
              "      --hover-bg-color: #434B5C;\n",
              "      --hover-fill-color: #FFFFFF;\n",
              "      --disabled-bg-color: #3B4455;\n",
              "      --disabled-fill-color: #666;\n",
              "  }\n",
              "\n",
              "  .colab-df-quickchart {\n",
              "    background-color: var(--bg-color);\n",
              "    border: none;\n",
              "    border-radius: 50%;\n",
              "    cursor: pointer;\n",
              "    display: none;\n",
              "    fill: var(--fill-color);\n",
              "    height: 32px;\n",
              "    padding: 0;\n",
              "    width: 32px;\n",
              "  }\n",
              "\n",
              "  .colab-df-quickchart:hover {\n",
              "    background-color: var(--hover-bg-color);\n",
              "    box-shadow: 0 1px 2px rgba(60, 64, 67, 0.3), 0 1px 3px 1px rgba(60, 64, 67, 0.15);\n",
              "    fill: var(--button-hover-fill-color);\n",
              "  }\n",
              "\n",
              "  .colab-df-quickchart-complete:disabled,\n",
              "  .colab-df-quickchart-complete:disabled:hover {\n",
              "    background-color: var(--disabled-bg-color);\n",
              "    fill: var(--disabled-fill-color);\n",
              "    box-shadow: none;\n",
              "  }\n",
              "\n",
              "  .colab-df-spinner {\n",
              "    border: 2px solid var(--fill-color);\n",
              "    border-color: transparent;\n",
              "    border-bottom-color: var(--fill-color);\n",
              "    animation:\n",
              "      spin 1s steps(1) infinite;\n",
              "  }\n",
              "\n",
              "  @keyframes spin {\n",
              "    0% {\n",
              "      border-color: transparent;\n",
              "      border-bottom-color: var(--fill-color);\n",
              "      border-left-color: var(--fill-color);\n",
              "    }\n",
              "    20% {\n",
              "      border-color: transparent;\n",
              "      border-left-color: var(--fill-color);\n",
              "      border-top-color: var(--fill-color);\n",
              "    }\n",
              "    30% {\n",
              "      border-color: transparent;\n",
              "      border-left-color: var(--fill-color);\n",
              "      border-top-color: var(--fill-color);\n",
              "      border-right-color: var(--fill-color);\n",
              "    }\n",
              "    40% {\n",
              "      border-color: transparent;\n",
              "      border-right-color: var(--fill-color);\n",
              "      border-top-color: var(--fill-color);\n",
              "    }\n",
              "    60% {\n",
              "      border-color: transparent;\n",
              "      border-right-color: var(--fill-color);\n",
              "    }\n",
              "    80% {\n",
              "      border-color: transparent;\n",
              "      border-right-color: var(--fill-color);\n",
              "      border-bottom-color: var(--fill-color);\n",
              "    }\n",
              "    90% {\n",
              "      border-color: transparent;\n",
              "      border-bottom-color: var(--fill-color);\n",
              "    }\n",
              "  }\n",
              "</style>\n",
              "\n",
              "  <script>\n",
              "    async function quickchart(key) {\n",
              "      const quickchartButtonEl =\n",
              "        document.querySelector('#' + key + ' button');\n",
              "      quickchartButtonEl.disabled = true;  // To prevent multiple clicks.\n",
              "      quickchartButtonEl.classList.add('colab-df-spinner');\n",
              "      try {\n",
              "        const charts = await google.colab.kernel.invokeFunction(\n",
              "            'suggestCharts', [key], {});\n",
              "      } catch (error) {\n",
              "        console.error('Error during call to suggestCharts:', error);\n",
              "      }\n",
              "      quickchartButtonEl.classList.remove('colab-df-spinner');\n",
              "      quickchartButtonEl.classList.add('colab-df-quickchart-complete');\n",
              "    }\n",
              "    (() => {\n",
              "      let quickchartButtonEl =\n",
              "        document.querySelector('#df-a55055ff-069f-4443-a00b-75cb9ace2beb button');\n",
              "      quickchartButtonEl.style.display =\n",
              "        google.colab.kernel.accessAllowed ? 'block' : 'none';\n",
              "    })();\n",
              "  </script>\n",
              "</div>\n",
              "\n",
              "    </div>\n",
              "  </div>\n"
            ],
            "application/vnd.google.colaboratory.intrinsic+json": {
              "type": "dataframe",
              "summary": "{\n  \"name\": \"df10\",\n  \"rows\": 8,\n  \"fields\": [\n    {\n      \"column\": \"id\",\n      \"properties\": {\n        \"dtype\": \"number\",\n        \"std\": 1853.4535307437889,\n        \"min\": 1007.3318718277508,\n        \"max\": 6977.0,\n        \"num_unique_values\": 6,\n        \"samples\": [\n          3489.0,\n          5233.0,\n          6977.0\n        ],\n        \"semantic_type\": \"\",\n        \"description\": \"\"\n      }\n    },\n    {\n      \"column\": \"Age\",\n      \"properties\": {\n        \"dtype\": \"number\",\n        \"std\": 1221.937936494884,\n        \"min\": 10.0,\n        \"max\": 3489.0,\n        \"num_unique_values\": 8,\n        \"samples\": [\n          37.553453711665234,\n          37.0,\n          3489.0\n        ],\n        \"semantic_type\": \"\",\n        \"description\": \"\"\n      }\n    },\n    {\n      \"column\": \"TypeofContact\",\n      \"properties\": {\n        \"dtype\": \"number\",\n        \"std\": 1229.260954015161,\n        \"min\": 0.030094870060317493,\n        \"max\": 3477.0,\n        \"num_unique_values\": 5,\n        \"samples\": [\n          0.1383184296851283,\n          0.17906574394463667,\n          0.030094870060317493\n        ],\n        \"semantic_type\": \"\",\n        \"description\": \"\"\n      }\n    },\n    {\n      \"column\": \"CityTier\",\n      \"properties\": {\n        \"dtype\": \"number\",\n        \"std\": 1232.9745185019938,\n        \"min\": 0.671710435209713,\n        \"max\": 3489.0,\n        \"num_unique_values\": 6,\n        \"samples\": [\n          3489.0,\n          1.6827171109200343,\n          3.0\n        ],\n        \"semantic_type\": \"\",\n        \"description\": \"\"\n      }\n    },\n    {\n      \"column\": \"DurationOfPitch\",\n      \"properties\": {\n        \"dtype\": \"number\",\n        \"std\": 1130.1810723818724,\n        \"min\": 0.0,\n        \"max\": 3489.0,\n        \"num_unique_values\": 8,\n        \"samples\": [\n          842.4419604471195,\n          780.0,\n          3489.0\n        ],\n        \"semantic_type\": \"\",\n        \"description\": \"\"\n      }\n    },\n    {\n      \"column\": \"Occupation\",\n      \"properties\": {\n        \"dtype\": \"number\",\n        \"std\": 1233.5019375098607,\n        \"min\": 0.03882093056693744,\n        \"max\": 3489.0,\n        \"num_unique_values\": 6,\n        \"samples\": [\n          3489.0,\n          0.1390314679228766,\n          0.2245508982035928\n        ],\n        \"semantic_type\": \"\",\n        \"description\": \"\"\n      }\n    },\n    {\n      \"column\": \"Gender\",\n      \"properties\": {\n        \"dtype\": \"number\",\n        \"std\": 1233.503903101535,\n        \"min\": 0.03134609879241576,\n        \"max\": 3489.0,\n        \"num_unique_values\": 5,\n        \"samples\": [\n          0.1404975338198928,\n          0.16517150395778363,\n          0.03134609879241576\n        ],\n        \"semantic_type\": \"\",\n        \"description\": \"\"\n      }\n    },\n    {\n      \"column\": \"NumberOfPersonVisiting\",\n      \"properties\": {\n        \"dtype\": \"number\",\n        \"std\": 1232.7830680114619,\n        \"min\": 0.7416276268547141,\n        \"max\": 3489.0,\n        \"num_unique_values\": 7,\n        \"samples\": [\n          3489.0,\n          2.407566638005159,\n          3.0\n        ],\n        \"semantic_type\": \"\",\n        \"description\": \"\"\n      }\n    },\n    {\n      \"column\": \"NumberOfFollowups\",\n      \"properties\": {\n        \"dtype\": \"number\",\n        \"std\": 1232.4074241612059,\n        \"min\": 0.9197553044212454,\n        \"max\": 3489.0,\n        \"num_unique_values\": 7,\n        \"samples\": [\n          3489.0,\n          3.6804241903124106,\n          4.0\n        ],\n        \"semantic_type\": \"\",\n        \"description\": \"\"\n      }\n    },\n    {\n      \"column\": \"ProductPitched\",\n      \"properties\": {\n        \"dtype\": \"number\",\n        \"std\": 1233.4974582903553,\n        \"min\": 0.028634361233480177,\n        \"max\": 3489.0,\n        \"num_unique_values\": 6,\n        \"samples\": [\n          3489.0,\n          0.14006131776031763,\n          0.29714285714285715\n        ],\n        \"semantic_type\": \"\",\n        \"description\": \"\"\n      }\n    },\n    {\n      \"column\": \"PreferredPropertyStar\",\n      \"properties\": {\n        \"dtype\": \"number\",\n        \"std\": 1232.4356443313357,\n        \"min\": 0.5996183606531339,\n        \"max\": 3489.0,\n        \"num_unique_values\": 6,\n        \"samples\": [\n          3489.0,\n          3.4319289194611637,\n          5.0\n        ],\n        \"semantic_type\": \"\",\n        \"description\": \"\"\n      }\n    },\n    {\n      \"column\": \"NumberOfTrips\",\n      \"properties\": {\n        \"dtype\": \"number\",\n        \"std\": 1232.3407556292254,\n        \"min\": 1.0,\n        \"max\": 3489.0,\n        \"num_unique_values\": 8,\n        \"samples\": [\n          3.2052163943823446,\n          3.0,\n          3489.0\n        ],\n        \"semantic_type\": \"\",\n        \"description\": \"\"\n      }\n    },\n    {\n      \"column\": \"Passport\",\n      \"properties\": {\n        \"dtype\": \"number\",\n        \"std\": 1233.4776909002137,\n        \"min\": 0.0,\n        \"max\": 3489.0,\n        \"num_unique_values\": 5,\n        \"samples\": [\n          0.09515620521639438,\n          1.0,\n          0.2934726339691747\n        ],\n        \"semantic_type\": \"\",\n        \"description\": \"\"\n      }\n    },\n    {\n      \"column\": \"PitchSatisfactionScore\",\n      \"properties\": {\n        \"dtype\": \"number\",\n        \"std\": 1232.707258440128,\n        \"min\": 1.0,\n        \"max\": 3489.0,\n        \"num_unique_values\": 7,\n        \"samples\": [\n          3489.0,\n          2.5001433075379764,\n          3.0\n        ],\n        \"semantic_type\": \"\",\n        \"description\": \"\"\n      }\n    },\n    {\n      \"column\": \"Designation\",\n      \"properties\": {\n        \"dtype\": \"number\",\n        \"std\": 1233.4967369991114,\n        \"min\": 0.03070175438596491,\n        \"max\": 3489.0,\n        \"num_unique_values\": 6,\n        \"samples\": [\n          3489.0,\n          0.13994258511468632,\n          0.30239234449760766\n        ],\n        \"semantic_type\": \"\",\n        \"description\": \"\"\n      }\n    },\n    {\n      \"column\": \"MonthlyIncome\",\n      \"properties\": {\n        \"dtype\": \"number\",\n        \"std\": 189172.72642198534,\n        \"min\": 3489.0,\n        \"max\": 600000.0,\n        \"num_unique_values\": 8,\n        \"samples\": [\n          355796.3413585555,\n          340000.0,\n          3489.0\n        ],\n        \"semantic_type\": \"\",\n        \"description\": \"\"\n      }\n    },\n    {\n      \"column\": \"\\u7d50\\u5a5a\",\n      \"properties\": {\n        \"dtype\": \"number\",\n        \"std\": 1233.5021065552396,\n        \"min\": 0.0501391799053833,\n        \"max\": 3489.0,\n        \"num_unique_values\": 6,\n        \"samples\": [\n          3489.0,\n          0.13819429837640881,\n          0.20569902048085487\n        ],\n        \"semantic_type\": \"\",\n        \"description\": \"\"\n      }\n    },\n    {\n      \"column\": \"\\u8eca\",\n      \"properties\": {\n        \"dtype\": \"number\",\n        \"std\": 1233.5046931379306,\n        \"min\": 0.0180739490531426,\n        \"max\": 3489.0,\n        \"num_unique_values\": 5,\n        \"samples\": [\n          0.13946634379856768,\n          0.15392725355824988,\n          0.0180739490531426\n        ],\n        \"semantic_type\": \"\",\n        \"description\": \"\"\n      }\n    },\n    {\n      \"column\": \"\\u5b50\\u4f9b\\u306e\\u6570\",\n      \"properties\": {\n        \"dtype\": \"number\",\n        \"std\": 1233.1541969141008,\n        \"min\": 0.0,\n        \"max\": 3489.0,\n        \"num_unique_values\": 7,\n        \"samples\": [\n          3489.0,\n          1.0200630553167096,\n          2.0\n        ],\n        \"semantic_type\": \"\",\n        \"description\": \"\"\n      }\n    }\n  ]\n}"
            }
          },
          "metadata": {},
          "execution_count": 116
        }
      ]
    },
    {
      "cell_type": "code",
      "source": [],
      "metadata": {
        "id": "PyFXQAn12xYb"
      },
      "execution_count": null,
      "outputs": []
    }
  ]
}